{
  "nbformat": 4,
  "nbformat_minor": 0,
  "metadata": {
    "colab": {
      "provenance": [],
      "collapsed_sections": []
    },
    "kernelspec": {
      "name": "python3",
      "display_name": "Python 3"
    },
    "language_info": {
      "name": "python"
    }
  },
  "cells": [
    {
      "cell_type": "code",
      "execution_count": null,
      "metadata": {
        "id": "97bmV7-HopA5"
      },
      "outputs": [],
      "source": [
        "import pandas as pd\n",
        "import numpy as np\n",
        "import matplotlib.pyplot as plt\n",
        "import seaborn as sns\n",
        "sns.set_style('darkgrid')\n",
        "sns.set(font_scale=1.3)\n",
        "import plotly.express as px\n",
        "from sklearn.model_selection import train_test_split\n",
        "from sklearn.preprocessing import StandardScaler"
      ]
    },
    {
      "cell_type": "code",
      "source": [
        "#Load the data\n",
        "data = pd.read_csv(\"/content/drive/MyDrive/Churn_Modelling.csv\")"
      ],
      "metadata": {
        "id": "2x5AQBWTwX_x"
      },
      "execution_count": null,
      "outputs": []
    },
    {
      "cell_type": "code",
      "source": [
        "data.head(1000)\n"
      ],
      "metadata": {
        "colab": {
          "base_uri": "https://localhost:8080/",
          "height": 488
        },
        "id": "EqrP0nLPwtkj",
        "outputId": "8a8c68cf-bb89-4884-8346-ee929cbb3084"
      },
      "execution_count": null,
      "outputs": [
        {
          "output_type": "execute_result",
          "data": {
            "text/plain": [
              "     RowNumber  CustomerId     Surname  CreditScore Geography  Gender  Age  \\\n",
              "0            1    15634602    Hargrave          619    France  Female   42   \n",
              "1            2    15647311        Hill          608     Spain  Female   41   \n",
              "2            3    15619304        Onio          502    France  Female   42   \n",
              "3            4    15701354        Boni          699    France  Female   39   \n",
              "4            5    15737888    Mitchell          850     Spain  Female   43   \n",
              "..         ...         ...         ...          ...       ...     ...  ...   \n",
              "995        996    15810218         Sun          610     Spain    Male   29   \n",
              "996        997    15645621      Hunter          811     Spain    Male   44   \n",
              "997        998    15608114     Manfrin          587     Spain    Male   62   \n",
              "998        999    15659557  Artamonova          811   Germany  Female   28   \n",
              "999       1000    15787772      Hansen          759    France  Female   38   \n",
              "\n",
              "     Tenure    Balance  NumOfProducts  HasCrCard  IsActiveMember  \\\n",
              "0         2       0.00              1          1               1   \n",
              "1         1   83807.86              1          0               1   \n",
              "2         8  159660.80              3          1               0   \n",
              "3         1       0.00              2          0               0   \n",
              "4         2  125510.82              1          1               1   \n",
              "..      ...        ...            ...        ...             ...   \n",
              "995       9       0.00              3          0               1   \n",
              "996       3       0.00              2          0               1   \n",
              "997       7  121286.27              1          0               1   \n",
              "998       4  167738.82              2          1               1   \n",
              "999       1  104091.29              1          0               0   \n",
              "\n",
              "     EstimatedSalary  Exited  \n",
              "0          101348.88       1  \n",
              "1          112542.58       0  \n",
              "2          113931.57       1  \n",
              "3           93826.63       0  \n",
              "4           79084.10       0  \n",
              "..               ...     ...  \n",
              "995         83912.24       0  \n",
              "996         78439.73       0  \n",
              "997          6776.92       0  \n",
              "998          9903.42       0  \n",
              "999         91561.91       0  \n",
              "\n",
              "[1000 rows x 14 columns]"
            ],
            "text/html": [
              "\n",
              "  <div id=\"df-75a589c1-5059-4829-97f8-f1a570ea35bd\">\n",
              "    <div class=\"colab-df-container\">\n",
              "      <div>\n",
              "<style scoped>\n",
              "    .dataframe tbody tr th:only-of-type {\n",
              "        vertical-align: middle;\n",
              "    }\n",
              "\n",
              "    .dataframe tbody tr th {\n",
              "        vertical-align: top;\n",
              "    }\n",
              "\n",
              "    .dataframe thead th {\n",
              "        text-align: right;\n",
              "    }\n",
              "</style>\n",
              "<table border=\"1\" class=\"dataframe\">\n",
              "  <thead>\n",
              "    <tr style=\"text-align: right;\">\n",
              "      <th></th>\n",
              "      <th>RowNumber</th>\n",
              "      <th>CustomerId</th>\n",
              "      <th>Surname</th>\n",
              "      <th>CreditScore</th>\n",
              "      <th>Geography</th>\n",
              "      <th>Gender</th>\n",
              "      <th>Age</th>\n",
              "      <th>Tenure</th>\n",
              "      <th>Balance</th>\n",
              "      <th>NumOfProducts</th>\n",
              "      <th>HasCrCard</th>\n",
              "      <th>IsActiveMember</th>\n",
              "      <th>EstimatedSalary</th>\n",
              "      <th>Exited</th>\n",
              "    </tr>\n",
              "  </thead>\n",
              "  <tbody>\n",
              "    <tr>\n",
              "      <th>0</th>\n",
              "      <td>1</td>\n",
              "      <td>15634602</td>\n",
              "      <td>Hargrave</td>\n",
              "      <td>619</td>\n",
              "      <td>France</td>\n",
              "      <td>Female</td>\n",
              "      <td>42</td>\n",
              "      <td>2</td>\n",
              "      <td>0.00</td>\n",
              "      <td>1</td>\n",
              "      <td>1</td>\n",
              "      <td>1</td>\n",
              "      <td>101348.88</td>\n",
              "      <td>1</td>\n",
              "    </tr>\n",
              "    <tr>\n",
              "      <th>1</th>\n",
              "      <td>2</td>\n",
              "      <td>15647311</td>\n",
              "      <td>Hill</td>\n",
              "      <td>608</td>\n",
              "      <td>Spain</td>\n",
              "      <td>Female</td>\n",
              "      <td>41</td>\n",
              "      <td>1</td>\n",
              "      <td>83807.86</td>\n",
              "      <td>1</td>\n",
              "      <td>0</td>\n",
              "      <td>1</td>\n",
              "      <td>112542.58</td>\n",
              "      <td>0</td>\n",
              "    </tr>\n",
              "    <tr>\n",
              "      <th>2</th>\n",
              "      <td>3</td>\n",
              "      <td>15619304</td>\n",
              "      <td>Onio</td>\n",
              "      <td>502</td>\n",
              "      <td>France</td>\n",
              "      <td>Female</td>\n",
              "      <td>42</td>\n",
              "      <td>8</td>\n",
              "      <td>159660.80</td>\n",
              "      <td>3</td>\n",
              "      <td>1</td>\n",
              "      <td>0</td>\n",
              "      <td>113931.57</td>\n",
              "      <td>1</td>\n",
              "    </tr>\n",
              "    <tr>\n",
              "      <th>3</th>\n",
              "      <td>4</td>\n",
              "      <td>15701354</td>\n",
              "      <td>Boni</td>\n",
              "      <td>699</td>\n",
              "      <td>France</td>\n",
              "      <td>Female</td>\n",
              "      <td>39</td>\n",
              "      <td>1</td>\n",
              "      <td>0.00</td>\n",
              "      <td>2</td>\n",
              "      <td>0</td>\n",
              "      <td>0</td>\n",
              "      <td>93826.63</td>\n",
              "      <td>0</td>\n",
              "    </tr>\n",
              "    <tr>\n",
              "      <th>4</th>\n",
              "      <td>5</td>\n",
              "      <td>15737888</td>\n",
              "      <td>Mitchell</td>\n",
              "      <td>850</td>\n",
              "      <td>Spain</td>\n",
              "      <td>Female</td>\n",
              "      <td>43</td>\n",
              "      <td>2</td>\n",
              "      <td>125510.82</td>\n",
              "      <td>1</td>\n",
              "      <td>1</td>\n",
              "      <td>1</td>\n",
              "      <td>79084.10</td>\n",
              "      <td>0</td>\n",
              "    </tr>\n",
              "    <tr>\n",
              "      <th>...</th>\n",
              "      <td>...</td>\n",
              "      <td>...</td>\n",
              "      <td>...</td>\n",
              "      <td>...</td>\n",
              "      <td>...</td>\n",
              "      <td>...</td>\n",
              "      <td>...</td>\n",
              "      <td>...</td>\n",
              "      <td>...</td>\n",
              "      <td>...</td>\n",
              "      <td>...</td>\n",
              "      <td>...</td>\n",
              "      <td>...</td>\n",
              "      <td>...</td>\n",
              "    </tr>\n",
              "    <tr>\n",
              "      <th>995</th>\n",
              "      <td>996</td>\n",
              "      <td>15810218</td>\n",
              "      <td>Sun</td>\n",
              "      <td>610</td>\n",
              "      <td>Spain</td>\n",
              "      <td>Male</td>\n",
              "      <td>29</td>\n",
              "      <td>9</td>\n",
              "      <td>0.00</td>\n",
              "      <td>3</td>\n",
              "      <td>0</td>\n",
              "      <td>1</td>\n",
              "      <td>83912.24</td>\n",
              "      <td>0</td>\n",
              "    </tr>\n",
              "    <tr>\n",
              "      <th>996</th>\n",
              "      <td>997</td>\n",
              "      <td>15645621</td>\n",
              "      <td>Hunter</td>\n",
              "      <td>811</td>\n",
              "      <td>Spain</td>\n",
              "      <td>Male</td>\n",
              "      <td>44</td>\n",
              "      <td>3</td>\n",
              "      <td>0.00</td>\n",
              "      <td>2</td>\n",
              "      <td>0</td>\n",
              "      <td>1</td>\n",
              "      <td>78439.73</td>\n",
              "      <td>0</td>\n",
              "    </tr>\n",
              "    <tr>\n",
              "      <th>997</th>\n",
              "      <td>998</td>\n",
              "      <td>15608114</td>\n",
              "      <td>Manfrin</td>\n",
              "      <td>587</td>\n",
              "      <td>Spain</td>\n",
              "      <td>Male</td>\n",
              "      <td>62</td>\n",
              "      <td>7</td>\n",
              "      <td>121286.27</td>\n",
              "      <td>1</td>\n",
              "      <td>0</td>\n",
              "      <td>1</td>\n",
              "      <td>6776.92</td>\n",
              "      <td>0</td>\n",
              "    </tr>\n",
              "    <tr>\n",
              "      <th>998</th>\n",
              "      <td>999</td>\n",
              "      <td>15659557</td>\n",
              "      <td>Artamonova</td>\n",
              "      <td>811</td>\n",
              "      <td>Germany</td>\n",
              "      <td>Female</td>\n",
              "      <td>28</td>\n",
              "      <td>4</td>\n",
              "      <td>167738.82</td>\n",
              "      <td>2</td>\n",
              "      <td>1</td>\n",
              "      <td>1</td>\n",
              "      <td>9903.42</td>\n",
              "      <td>0</td>\n",
              "    </tr>\n",
              "    <tr>\n",
              "      <th>999</th>\n",
              "      <td>1000</td>\n",
              "      <td>15787772</td>\n",
              "      <td>Hansen</td>\n",
              "      <td>759</td>\n",
              "      <td>France</td>\n",
              "      <td>Female</td>\n",
              "      <td>38</td>\n",
              "      <td>1</td>\n",
              "      <td>104091.29</td>\n",
              "      <td>1</td>\n",
              "      <td>0</td>\n",
              "      <td>0</td>\n",
              "      <td>91561.91</td>\n",
              "      <td>0</td>\n",
              "    </tr>\n",
              "  </tbody>\n",
              "</table>\n",
              "<p>1000 rows × 14 columns</p>\n",
              "</div>\n",
              "      <button class=\"colab-df-convert\" onclick=\"convertToInteractive('df-75a589c1-5059-4829-97f8-f1a570ea35bd')\"\n",
              "              title=\"Convert this dataframe to an interactive table.\"\n",
              "              style=\"display:none;\">\n",
              "        \n",
              "  <svg xmlns=\"http://www.w3.org/2000/svg\" height=\"24px\"viewBox=\"0 0 24 24\"\n",
              "       width=\"24px\">\n",
              "    <path d=\"M0 0h24v24H0V0z\" fill=\"none\"/>\n",
              "    <path d=\"M18.56 5.44l.94 2.06.94-2.06 2.06-.94-2.06-.94-.94-2.06-.94 2.06-2.06.94zm-11 1L8.5 8.5l.94-2.06 2.06-.94-2.06-.94L8.5 2.5l-.94 2.06-2.06.94zm10 10l.94 2.06.94-2.06 2.06-.94-2.06-.94-.94-2.06-.94 2.06-2.06.94z\"/><path d=\"M17.41 7.96l-1.37-1.37c-.4-.4-.92-.59-1.43-.59-.52 0-1.04.2-1.43.59L10.3 9.45l-7.72 7.72c-.78.78-.78 2.05 0 2.83L4 21.41c.39.39.9.59 1.41.59.51 0 1.02-.2 1.41-.59l7.78-7.78 2.81-2.81c.8-.78.8-2.07 0-2.86zM5.41 20L4 18.59l7.72-7.72 1.47 1.35L5.41 20z\"/>\n",
              "  </svg>\n",
              "      </button>\n",
              "      \n",
              "  <style>\n",
              "    .colab-df-container {\n",
              "      display:flex;\n",
              "      flex-wrap:wrap;\n",
              "      gap: 12px;\n",
              "    }\n",
              "\n",
              "    .colab-df-convert {\n",
              "      background-color: #E8F0FE;\n",
              "      border: none;\n",
              "      border-radius: 50%;\n",
              "      cursor: pointer;\n",
              "      display: none;\n",
              "      fill: #1967D2;\n",
              "      height: 32px;\n",
              "      padding: 0 0 0 0;\n",
              "      width: 32px;\n",
              "    }\n",
              "\n",
              "    .colab-df-convert:hover {\n",
              "      background-color: #E2EBFA;\n",
              "      box-shadow: 0px 1px 2px rgba(60, 64, 67, 0.3), 0px 1px 3px 1px rgba(60, 64, 67, 0.15);\n",
              "      fill: #174EA6;\n",
              "    }\n",
              "\n",
              "    [theme=dark] .colab-df-convert {\n",
              "      background-color: #3B4455;\n",
              "      fill: #D2E3FC;\n",
              "    }\n",
              "\n",
              "    [theme=dark] .colab-df-convert:hover {\n",
              "      background-color: #434B5C;\n",
              "      box-shadow: 0px 1px 3px 1px rgba(0, 0, 0, 0.15);\n",
              "      filter: drop-shadow(0px 1px 2px rgba(0, 0, 0, 0.3));\n",
              "      fill: #FFFFFF;\n",
              "    }\n",
              "  </style>\n",
              "\n",
              "      <script>\n",
              "        const buttonEl =\n",
              "          document.querySelector('#df-75a589c1-5059-4829-97f8-f1a570ea35bd button.colab-df-convert');\n",
              "        buttonEl.style.display =\n",
              "          google.colab.kernel.accessAllowed ? 'block' : 'none';\n",
              "\n",
              "        async function convertToInteractive(key) {\n",
              "          const element = document.querySelector('#df-75a589c1-5059-4829-97f8-f1a570ea35bd');\n",
              "          const dataTable =\n",
              "            await google.colab.kernel.invokeFunction('convertToInteractive',\n",
              "                                                     [key], {});\n",
              "          if (!dataTable) return;\n",
              "\n",
              "          const docLinkHtml = 'Like what you see? Visit the ' +\n",
              "            '<a target=\"_blank\" href=https://colab.research.google.com/notebooks/data_table.ipynb>data table notebook</a>'\n",
              "            + ' to learn more about interactive tables.';\n",
              "          element.innerHTML = '';\n",
              "          dataTable['output_type'] = 'display_data';\n",
              "          await google.colab.output.renderOutput(dataTable, element);\n",
              "          const docLink = document.createElement('div');\n",
              "          docLink.innerHTML = docLinkHtml;\n",
              "          element.appendChild(docLink);\n",
              "        }\n",
              "      </script>\n",
              "    </div>\n",
              "  </div>\n",
              "  "
            ]
          },
          "metadata": {},
          "execution_count": 3
        }
      ]
    },
    {
      "cell_type": "code",
      "source": [
        "#Perform Below Visualizations\n",
        "#1_Univariate Analysis"
      ],
      "metadata": {
        "id": "bPpVsZdjyZR0"
      },
      "execution_count": null,
      "outputs": []
    },
    {
      "cell_type": "code",
      "source": [
        "#calculate mean of 'EstimatedSalary'\n",
        "data['EstimatedSalary'].mean()"
      ],
      "metadata": {
        "colab": {
          "base_uri": "https://localhost:8080/"
        },
        "id": "BmmdE2j0129W",
        "outputId": "74bd3c36-5802-48f3-899b-5d845585614d"
      },
      "execution_count": null,
      "outputs": [
        {
          "output_type": "execute_result",
          "data": {
            "text/plain": [
              "100090.239881"
            ]
          },
          "metadata": {},
          "execution_count": 4
        }
      ]
    },
    {
      "cell_type": "code",
      "source": [
        "#calculate median of ''\n",
        "data['EstimatedSalary'].median()"
      ],
      "metadata": {
        "colab": {
          "base_uri": "https://localhost:8080/"
        },
        "id": "ejLFpSbm277O",
        "outputId": "b1acbb0f-ae0a-45aa-d0a0-c7fc5c2c25fe"
      },
      "execution_count": null,
      "outputs": [
        {
          "output_type": "execute_result",
          "data": {
            "text/plain": [
              "100193.915"
            ]
          },
          "metadata": {},
          "execution_count": 6
        }
      ]
    },
    {
      "cell_type": "code",
      "source": [
        "#calculate Standard deviation of \"EstimatedSalary\"\n",
        "data['EstimatedSalary'].std()"
      ],
      "metadata": {
        "colab": {
          "base_uri": "https://localhost:8080/"
        },
        "id": "kN-bGwWm4uR4",
        "outputId": "e41336c9-3bab-411f-c88a-01444108211a"
      },
      "execution_count": null,
      "outputs": [
        {
          "output_type": "execute_result",
          "data": {
            "text/plain": [
              "57510.49281769816"
            ]
          },
          "metadata": {},
          "execution_count": 7
        }
      ]
    },
    {
      "cell_type": "code",
      "source": [
        "#create frequecy table for 'EstimatedSalary'\n",
        "data['EstimatedSalary'].value_counts()\n"
      ],
      "metadata": {
        "colab": {
          "base_uri": "https://localhost:8080/"
        },
        "id": "_8KnhRWvy08z",
        "outputId": "ddd1bcc5-fde6-4421-8a59-db5842247e32"
      },
      "execution_count": null,
      "outputs": [
        {
          "output_type": "execute_result",
          "data": {
            "text/plain": [
              "24924.92     2\n",
              "101348.88    1\n",
              "55313.44     1\n",
              "72500.68     1\n",
              "182692.80    1\n",
              "            ..\n",
              "120893.07    1\n",
              "188377.21    1\n",
              "55902.93     1\n",
              "4523.74      1\n",
              "38190.78     1\n",
              "Name: EstimatedSalary, Length: 9999, dtype: int64"
            ]
          },
          "metadata": {},
          "execution_count": 8
        }
      ]
    },
    {
      "cell_type": "code",
      "source": [
        "#create boxplot\n",
        "import matplotlib.pyplot as plt\n",
        "data.boxplot(column=['NumOfProducts'],grid=False,color='red')"
      ],
      "metadata": {
        "colab": {
          "base_uri": "https://localhost:8080/",
          "height": 289
        },
        "id": "VsJjUuJ35m5n",
        "outputId": "b95c38ef-a8d0-4d20-8ec4-d8fcf9dd7c33"
      },
      "execution_count": null,
      "outputs": [
        {
          "output_type": "execute_result",
          "data": {
            "text/plain": [
              "<matplotlib.axes._subplots.AxesSubplot at 0x7f5f95608550>"
            ]
          },
          "metadata": {},
          "execution_count": 9
        },
        {
          "output_type": "display_data",
          "data": {
            "text/plain": [
              "<Figure size 432x288 with 1 Axes>"
            ],
            "image/png": "[encoded data removed]"
          },
          "metadata": {}
        }
      ]
    },
    {
      "cell_type": "code",
      "source": [
        "#create histogram\n",
        "import matplotlib.pyplot as plt\n",
        "data.hist(column='Age',grid=False, edgecolor='black')"
      ],
      "metadata": {
        "colab": {
          "base_uri": "https://localhost:8080/",
          "height": 325
        },
        "id": "PF0MALBU6FFO",
        "outputId": "66b22d12-bdc1-41ff-e6a3-b50c8b840e05"
      },
      "execution_count": null,
      "outputs": [
        {
          "output_type": "execute_result",
          "data": {
            "text/plain": [
              "array([[<matplotlib.axes._subplots.AxesSubplot object at 0x7f5f95617610>]],\n",
              "      dtype=object)"
            ]
          },
          "metadata": {},
          "execution_count": 10
        },
        {
          "output_type": "display_data",
          "data": {
            "text/plain": [
              "<Figure size 432x288 with 1 Axes>"
            ],
            "image/png": "[encoded data removed]"
          },
          "metadata": {}
        }
      ]
    },
    {
      "cell_type": "code",
      "source": [
        "#create a density curve\n",
        "import seaborn as sns\n",
        "sns.kdeplot(data['IsActiveMember'])"
      ],
      "metadata": {
        "colab": {
          "base_uri": "https://localhost:8080/",
          "height": 308
        },
        "id": "pvcj2fwx7XDx",
        "outputId": "99016a6a-8d0a-445b-a1cf-808796b4bb60"
      },
      "execution_count": null,
      "outputs": [
        {
          "output_type": "execute_result",
          "data": {
            "text/plain": [
              "<matplotlib.axes._subplots.AxesSubplot at 0x7f5f95612bd0>"
            ]
          },
          "metadata": {},
          "execution_count": 11
        },
        {
          "output_type": "display_data",
          "data": {
            "text/plain": [
              "<Figure size 432x288 with 1 Axes>"
            ],
            "image/png": "[encoded data removed]"
          },
          "metadata": {}
        }
      ]
    },
    {
      "cell_type": "code",
      "source": [
        "#2_Bi - Variate Analysis\n",
        "\n",
        "import matplotlib.pyplot as plt\n",
        "\n",
        "#create scatterplot of CreditScore vs. Balance\n",
        "plt.scatter(data.CreditScore, data.Age)\n",
        "plt.title('Customer Age vs. Customer CreditScore')\n",
        "plt.xlabel('Customer CreditScore')\n",
        "plt.ylabel('Customer Age')"
      ],
      "metadata": {
        "id": "I3Vjm96y705h",
        "colab": {
          "base_uri": "https://localhost:8080/",
          "height": 326
        },
        "outputId": "6e834a75-f523-4878-c31a-aff389e2ee46"
      },
      "execution_count": null,
      "outputs": [
        {
          "output_type": "execute_result",
          "data": {
            "text/plain": [
              "Text(0, 0.5, 'Customer Age')"
            ]
          },
          "metadata": {},
          "execution_count": 12
        },
        {
          "output_type": "display_data",
          "data": {
            "text/plain": [
              "<Figure size 432x288 with 1 Axes>"
            ],
            "image/png": "[encoded data removed]"
          },
          "metadata": {}
        }
      ]
    },
    {
      "cell_type": "code",
      "source": [
        "#create correlation matrix\n",
        "data.corr()"
      ],
      "metadata": {
        "colab": {
          "base_uri": "https://localhost:8080/",
          "height": 458
        },
        "id": "Cyk21SKzfDCt",
        "outputId": "493bf2c8-d913-4240-8e43-3d3a172a7f69"
      },
      "execution_count": null,
      "outputs": [
        {
          "output_type": "execute_result",
          "data": {
            "text/plain": [
              "                 RowNumber  CustomerId  CreditScore       Age    Tenure  \\\n",
              "RowNumber         1.000000    0.004202     0.005840  0.000783 -0.006495   \n",
              "CustomerId        0.004202    1.000000     0.005308  0.009497 -0.014883   \n",
              "CreditScore       0.005840    0.005308     1.000000 -0.003965  0.000842   \n",
              "Age               0.000783    0.009497    -0.003965  1.000000 -0.009997   \n",
              "Tenure           -0.006495   -0.014883     0.000842 -0.009997  1.000000   \n",
              "Balance          -0.009067   -0.012419     0.006268  0.028308 -0.012254   \n",
              "NumOfProducts     0.007246    0.016972     0.012238 -0.030680  0.013444   \n",
              "HasCrCard         0.000599   -0.014025    -0.005458 -0.011721  0.022583   \n",
              "IsActiveMember    0.012044    0.001665     0.025651  0.085472 -0.028362   \n",
              "EstimatedSalary  -0.005988    0.015271    -0.001384 -0.007201  0.007784   \n",
              "Exited           -0.016571   -0.006248    -0.027094  0.285323 -0.014001   \n",
              "\n",
              "                  Balance  NumOfProducts  HasCrCard  IsActiveMember  \\\n",
              "RowNumber       -0.009067       0.007246   0.000599        0.012044   \n",
              "CustomerId      -0.012419       0.016972  -0.014025        0.001665   \n",
              "CreditScore      0.006268       0.012238  -0.005458        0.025651   \n",
              "Age              0.028308      -0.030680  -0.011721        0.085472   \n",
              "Tenure          -0.012254       0.013444   0.022583       -0.028362   \n",
              "Balance          1.000000      -0.304180  -0.014858       -0.010084   \n",
              "NumOfProducts   -0.304180       1.000000   0.003183        0.009612   \n",
              "HasCrCard       -0.014858       0.003183   1.000000       -0.011866   \n",
              "IsActiveMember  -0.010084       0.009612  -0.011866        1.000000   \n",
              "EstimatedSalary  0.012797       0.014204  -0.009933       -0.011421   \n",
              "Exited           0.118533      -0.047820  -0.007138       -0.156128   \n",
              "\n",
              "                 EstimatedSalary    Exited  \n",
              "RowNumber              -0.005988 -0.016571  \n",
              "CustomerId              0.015271 -0.006248  \n",
              "CreditScore            -0.001384 -0.027094  \n",
              "Age                    -0.007201  0.285323  \n",
              "Tenure                  0.007784 -0.014001  \n",
              "Balance                 0.012797  0.118533  \n",
              "NumOfProducts           0.014204 -0.047820  \n",
              "HasCrCard              -0.009933 -0.007138  \n",
              "IsActiveMember         -0.011421 -0.156128  \n",
              "EstimatedSalary         1.000000  0.012097  \n",
              "Exited                  0.012097  1.000000  "
            ],
            "text/html": [
              "\n",
              "  <div id=\"df-f73b46cd-0343-4c90-8c78-baf7a5fa052a\">\n",
              "    <div class=\"colab-df-container\">\n",
              "      <div>\n",
              "<style scoped>\n",
              "    .dataframe tbody tr th:only-of-type {\n",
              "        vertical-align: middle;\n",
              "    }\n",
              "\n",
              "    .dataframe tbody tr th {\n",
              "        vertical-align: top;\n",
              "    }\n",
              "\n",
              "    .dataframe thead th {\n",
              "        text-align: right;\n",
              "    }\n",
              "</style>\n",
              "<table border=\"1\" class=\"dataframe\">\n",
              "  <thead>\n",
              "    <tr style=\"text-align: right;\">\n",
              "      <th></th>\n",
              "      <th>RowNumber</th>\n",
              "      <th>CustomerId</th>\n",
              "      <th>CreditScore</th>\n",
              "      <th>Age</th>\n",
              "      <th>Tenure</th>\n",
              "      <th>Balance</th>\n",
              "      <th>NumOfProducts</th>\n",
              "      <th>HasCrCard</th>\n",
              "      <th>IsActiveMember</th>\n",
              "      <th>EstimatedSalary</th>\n",
              "      <th>Exited</th>\n",
              "    </tr>\n",
              "  </thead>\n",
              "  <tbody>\n",
              "    <tr>\n",
              "      <th>RowNumber</th>\n",
              "      <td>1.000000</td>\n",
              "      <td>0.004202</td>\n",
              "      <td>0.005840</td>\n",
              "      <td>0.000783</td>\n",
              "      <td>-0.006495</td>\n",
              "      <td>-0.009067</td>\n",
              "      <td>0.007246</td>\n",
              "      <td>0.000599</td>\n",
              "      <td>0.012044</td>\n",
              "      <td>-0.005988</td>\n",
              "      <td>-0.016571</td>\n",
              "    </tr>\n",
              "    <tr>\n",
              "      <th>CustomerId</th>\n",
              "      <td>0.004202</td>\n",
              "      <td>1.000000</td>\n",
              "      <td>0.005308</td>\n",
              "      <td>0.009497</td>\n",
              "      <td>-0.014883</td>\n",
              "      <td>-0.012419</td>\n",
              "      <td>0.016972</td>\n",
              "      <td>-0.014025</td>\n",
              "      <td>0.001665</td>\n",
              "      <td>0.015271</td>\n",
              "      <td>-0.006248</td>\n",
              "    </tr>\n",
              "    <tr>\n",
              "      <th>CreditScore</th>\n",
              "      <td>0.005840</td>\n",
              "      <td>0.005308</td>\n",
              "      <td>1.000000</td>\n",
              "      <td>-0.003965</td>\n",
              "      <td>0.000842</td>\n",
              "      <td>0.006268</td>\n",
              "      <td>0.012238</td>\n",
              "      <td>-0.005458</td>\n",
              "      <td>0.025651</td>\n",
              "      <td>-0.001384</td>\n",
              "      <td>-0.027094</td>\n",
              "    </tr>\n",
              "    <tr>\n",
              "      <th>Age</th>\n",
              "      <td>0.000783</td>\n",
              "      <td>0.009497</td>\n",
              "      <td>-0.003965</td>\n",
              "      <td>1.000000</td>\n",
              "      <td>-0.009997</td>\n",
              "      <td>0.028308</td>\n",
              "      <td>-0.030680</td>\n",
              "      <td>-0.011721</td>\n",
              "      <td>0.085472</td>\n",
              "      <td>-0.007201</td>\n",
              "      <td>0.285323</td>\n",
              "    </tr>\n",
              "    <tr>\n",
              "      <th>Tenure</th>\n",
              "      <td>-0.006495</td>\n",
              "      <td>-0.014883</td>\n",
              "      <td>0.000842</td>\n",
              "      <td>-0.009997</td>\n",
              "      <td>1.000000</td>\n",
              "      <td>-0.012254</td>\n",
              "      <td>0.013444</td>\n",
              "      <td>0.022583</td>\n",
              "      <td>-0.028362</td>\n",
              "      <td>0.007784</td>\n",
              "      <td>-0.014001</td>\n",
              "    </tr>\n",
              "    <tr>\n",
              "      <th>Balance</th>\n",
              "      <td>-0.009067</td>\n",
              "      <td>-0.012419</td>\n",
              "      <td>0.006268</td>\n",
              "      <td>0.028308</td>\n",
              "      <td>-0.012254</td>\n",
              "      <td>1.000000</td>\n",
              "      <td>-0.304180</td>\n",
              "      <td>-0.014858</td>\n",
              "      <td>-0.010084</td>\n",
              "      <td>0.012797</td>\n",
              "      <td>0.118533</td>\n",
              "    </tr>\n",
              "    <tr>\n",
              "      <th>NumOfProducts</th>\n",
              "      <td>0.007246</td>\n",
              "      <td>0.016972</td>\n",
              "      <td>0.012238</td>\n",
              "      <td>-0.030680</td>\n",
              "      <td>0.013444</td>\n",
              "      <td>-0.304180</td>\n",
              "      <td>1.000000</td>\n",
              "      <td>0.003183</td>\n",
              "      <td>0.009612</td>\n",
              "      <td>0.014204</td>\n",
              "      <td>-0.047820</td>\n",
              "    </tr>\n",
              "    <tr>\n",
              "      <th>HasCrCard</th>\n",
              "      <td>0.000599</td>\n",
              "      <td>-0.014025</td>\n",
              "      <td>-0.005458</td>\n",
              "      <td>-0.011721</td>\n",
              "      <td>0.022583</td>\n",
              "      <td>-0.014858</td>\n",
              "      <td>0.003183</td>\n",
              "      <td>1.000000</td>\n",
              "      <td>-0.011866</td>\n",
              "      <td>-0.009933</td>\n",
              "      <td>-0.007138</td>\n",
              "    </tr>\n",
              "    <tr>\n",
              "      <th>IsActiveMember</th>\n",
              "      <td>0.012044</td>\n",
              "      <td>0.001665</td>\n",
              "      <td>0.025651</td>\n",
              "      <td>0.085472</td>\n",
              "      <td>-0.028362</td>\n",
              "      <td>-0.010084</td>\n",
              "      <td>0.009612</td>\n",
              "      <td>-0.011866</td>\n",
              "      <td>1.000000</td>\n",
              "      <td>-0.011421</td>\n",
              "      <td>-0.156128</td>\n",
              "    </tr>\n",
              "    <tr>\n",
              "      <th>EstimatedSalary</th>\n",
              "      <td>-0.005988</td>\n",
              "      <td>0.015271</td>\n",
              "      <td>-0.001384</td>\n",
              "      <td>-0.007201</td>\n",
              "      <td>0.007784</td>\n",
              "      <td>0.012797</td>\n",
              "      <td>0.014204</td>\n",
              "      <td>-0.009933</td>\n",
              "      <td>-0.011421</td>\n",
              "      <td>1.000000</td>\n",
              "      <td>0.012097</td>\n",
              "    </tr>\n",
              "    <tr>\n",
              "      <th>Exited</th>\n",
              "      <td>-0.016571</td>\n",
              "      <td>-0.006248</td>\n",
              "      <td>-0.027094</td>\n",
              "      <td>0.285323</td>\n",
              "      <td>-0.014001</td>\n",
              "      <td>0.118533</td>\n",
              "      <td>-0.047820</td>\n",
              "      <td>-0.007138</td>\n",
              "      <td>-0.156128</td>\n",
              "      <td>0.012097</td>\n",
              "      <td>1.000000</td>\n",
              "    </tr>\n",
              "  </tbody>\n",
              "</table>\n",
              "</div>\n",
              "      <button class=\"colab-df-convert\" onclick=\"convertToInteractive('df-f73b46cd-0343-4c90-8c78-baf7a5fa052a')\"\n",
              "              title=\"Convert this dataframe to an interactive table.\"\n",
              "              style=\"display:none;\">\n",
              "        \n",
              "  <svg xmlns=\"http://www.w3.org/2000/svg\" height=\"24px\"viewBox=\"0 0 24 24\"\n",
              "       width=\"24px\">\n",
              "    <path d=\"M0 0h24v24H0V0z\" fill=\"none\"/>\n",
              "    <path d=\"M18.56 5.44l.94 2.06.94-2.06 2.06-.94-2.06-.94-.94-2.06-.94 2.06-2.06.94zm-11 1L8.5 8.5l.94-2.06 2.06-.94-2.06-.94L8.5 2.5l-.94 2.06-2.06.94zm10 10l.94 2.06.94-2.06 2.06-.94-2.06-.94-.94-2.06-.94 2.06-2.06.94z\"/><path d=\"M17.41 7.96l-1.37-1.37c-.4-.4-.92-.59-1.43-.59-.52 0-1.04.2-1.43.59L10.3 9.45l-7.72 7.72c-.78.78-.78 2.05 0 2.83L4 21.41c.39.39.9.59 1.41.59.51 0 1.02-.2 1.41-.59l7.78-7.78 2.81-2.81c.8-.78.8-2.07 0-2.86zM5.41 20L4 18.59l7.72-7.72 1.47 1.35L5.41 20z\"/>\n",
              "  </svg>\n",
              "      </button>\n",
              "      \n",
              "  <style>\n",
              "    .colab-df-container {\n",
              "      display:flex;\n",
              "      flex-wrap:wrap;\n",
              "      gap: 12px;\n",
              "    }\n",
              "\n",
              "    .colab-df-convert {\n",
              "      background-color: #E8F0FE;\n",
              "      border: none;\n",
              "      border-radius: 50%;\n",
              "      cursor: pointer;\n",
              "      display: none;\n",
              "      fill: #1967D2;\n",
              "      height: 32px;\n",
              "      padding: 0 0 0 0;\n",
              "      width: 32px;\n",
              "    }\n",
              "\n",
              "    .colab-df-convert:hover {\n",
              "      background-color: #E2EBFA;\n",
              "      box-shadow: 0px 1px 2px rgba(60, 64, 67, 0.3), 0px 1px 3px 1px rgba(60, 64, 67, 0.15);\n",
              "      fill: #174EA6;\n",
              "    }\n",
              "\n",
              "    [theme=dark] .colab-df-convert {\n",
              "      background-color: #3B4455;\n",
              "      fill: #D2E3FC;\n",
              "    }\n",
              "\n",
              "    [theme=dark] .colab-df-convert:hover {\n",
              "      background-color: #434B5C;\n",
              "      box-shadow: 0px 1px 3px 1px rgba(0, 0, 0, 0.15);\n",
              "      filter: drop-shadow(0px 1px 2px rgba(0, 0, 0, 0.3));\n",
              "      fill: #FFFFFF;\n",
              "    }\n",
              "  </style>\n",
              "\n",
              "      <script>\n",
              "        const buttonEl =\n",
              "          document.querySelector('#df-f73b46cd-0343-4c90-8c78-baf7a5fa052a button.colab-df-convert');\n",
              "        buttonEl.style.display =\n",
              "          google.colab.kernel.accessAllowed ? 'block' : 'none';\n",
              "\n",
              "        async function convertToInteractive(key) {\n",
              "          const element = document.querySelector('#df-f73b46cd-0343-4c90-8c78-baf7a5fa052a');\n",
              "          const dataTable =\n",
              "            await google.colab.kernel.invokeFunction('convertToInteractive',\n",
              "                                                     [key], {});\n",
              "          if (!dataTable) return;\n",
              "\n",
              "          const docLinkHtml = 'Like what you see? Visit the ' +\n",
              "            '<a target=\"_blank\" href=https://colab.research.google.com/notebooks/data_table.ipynb>data table notebook</a>'\n",
              "            + ' to learn more about interactive tables.';\n",
              "          element.innerHTML = '';\n",
              "          dataTable['output_type'] = 'display_data';\n",
              "          await google.colab.output.renderOutput(dataTable, element);\n",
              "          const docLink = document.createElement('div');\n",
              "          docLink.innerHTML = docLinkHtml;\n",
              "          element.appendChild(docLink);\n",
              "        }\n",
              "      </script>\n",
              "    </div>\n",
              "  </div>\n",
              "  "
            ]
          },
          "metadata": {},
          "execution_count": 13
        }
      ]
    },
    {
      "cell_type": "code",
      "source": [
        "import statsmodels.api as sm\n",
        "\n",
        "#define response variable\n",
        "y = data['CreditScore']\n",
        "\n",
        "#define explanatory variable\n",
        "x = data [['Balance']]\n",
        "\n",
        "#add constant to predictor variables\n",
        "x = sm.add_constant(x)\n",
        "\n",
        "#fit linear regression model\n",
        "model = sm.OLS(y,x).fit()\n",
        "\n",
        "#view model summary\n",
        "print(model.summary())"
      ],
      "metadata": {
        "colab": {
          "base_uri": "https://localhost:8080/"
        },
        "id": "R6JCK0aNfTIN",
        "outputId": "4915fc62-25b7-4973-b103-94db1e9d7a4d"
      },
      "execution_count": null,
      "outputs": [
        {
          "output_type": "stream",
          "name": "stdout",
          "text": [
            "                            OLS Regression Results                            \n",
            "==============================================================================\n",
            "Dep. Variable:            CreditScore   R-squared:                       0.000\n",
            "Model:                            OLS   Adj. R-squared:                 -0.000\n",
            "Method:                 Least Squares   F-statistic:                    0.3929\n",
            "Date:                Wed, 28 Sep 2022   Prob (F-statistic):              0.531\n",
            "Time:                        12:58:01   Log-Likelihood:                -59900.\n",
            "No. Observations:               10000   AIC:                         1.198e+05\n",
            "Df Residuals:                    9998   BIC:                         1.198e+05\n",
            "Df Model:                           1                                         \n",
            "Covariance Type:            nonrobust                                         \n",
            "==============================================================================\n",
            "                 coef    std err          t      P>|t|      [0.025      0.975]\n",
            "------------------------------------------------------------------------------\n",
            "const        649.7861      1.529    424.948      0.000     646.789     652.783\n",
            "Balance      9.71e-06   1.55e-05      0.627      0.531   -2.07e-05    4.01e-05\n",
            "==============================================================================\n",
            "Omnibus:                      132.594   Durbin-Watson:                   2.014\n",
            "Prob(Omnibus):                  0.000   Jarque-Bera (JB):               84.114\n",
            "Skew:                          -0.072   Prob(JB):                     5.43e-19\n",
            "Kurtosis:                       2.574   Cond. No.                     1.56e+05\n",
            "==============================================================================\n",
            "\n",
            "Notes:\n",
            "[1] Standard Errors assume that the covariance matrix of the errors is correctly specified.\n",
            "[2] The condition number is large, 1.56e+05. This might indicate that there are\n",
            "strong multicollinearity or other numerical problems.\n"
          ]
        },
        {
          "output_type": "stream",
          "name": "stderr",
          "text": [
            "/usr/local/lib/python3.7/dist-packages/statsmodels/tsa/tsatools.py:142: FutureWarning: In a future version of pandas all arguments of concat except for the argument 'objs' will be keyword-only\n",
            "  x = pd.concat(x[::order], 1)\n"
          ]
        }
      ]
    },
    {
      "cell_type": "code",
      "source": [
        "#3_Multi - variate Analysis\n"
      ],
      "metadata": {
        "id": "aXVnF4iDihrw"
      },
      "execution_count": null,
      "outputs": []
    },
    {
      "cell_type": "code",
      "source": [
        "#retrieving data \n",
        "data.head(200)"
      ],
      "metadata": {
        "colab": {
          "base_uri": "https://localhost:8080/",
          "height": 488
        },
        "id": "-XQEq_Hbqty5",
        "outputId": "396f46be-f5bf-4572-cd8a-efad55792ea4"
      },
      "execution_count": null,
      "outputs": [
        {
          "output_type": "execute_result",
          "data": {
            "text/plain": [
              "     RowNumber  CustomerId    Surname  CreditScore Geography  Gender  Age  \\\n",
              "0            1    15634602   Hargrave          619    France  Female   42   \n",
              "1            2    15647311       Hill          608     Spain  Female   41   \n",
              "2            3    15619304       Onio          502    France  Female   42   \n",
              "3            4    15701354       Boni          699    France  Female   39   \n",
              "4            5    15737888   Mitchell          850     Spain  Female   43   \n",
              "..         ...         ...        ...          ...       ...     ...  ...   \n",
              "195        196    15594815   Aleshire          807    France    Male   35   \n",
              "196        197    15635905      Moran          616     Spain  Female   32   \n",
              "197        198    15777892  Samsonova          721   Germany    Male   37   \n",
              "198        199    15656176    Jenkins          501    France    Male   57   \n",
              "199        200    15811127     Volkov          521    France    Male   35   \n",
              "\n",
              "     Tenure    Balance  NumOfProducts  HasCrCard  IsActiveMember  \\\n",
              "0         2       0.00              1          1               1   \n",
              "1         1   83807.86              1          0               1   \n",
              "2         8  159660.80              3          1               0   \n",
              "3         1       0.00              2          0               0   \n",
              "4         2  125510.82              1          1               1   \n",
              "..      ...        ...            ...        ...             ...   \n",
              "195       3  174790.15              1          1               1   \n",
              "196       6       0.00              2          1               1   \n",
              "197       3  107720.64              1          1               1   \n",
              "198      10       0.00              2          1               1   \n",
              "199       6   96423.84              1          1               0   \n",
              "\n",
              "     EstimatedSalary  Exited  \n",
              "0          101348.88       1  \n",
              "1          112542.58       0  \n",
              "2          113931.57       1  \n",
              "3           93826.63       0  \n",
              "4           79084.10       0  \n",
              "..               ...     ...  \n",
              "195           600.36       0  \n",
              "196         43001.46       0  \n",
              "197        158591.12       0  \n",
              "198         47847.19       0  \n",
              "199         10488.44       0  \n",
              "\n",
              "[200 rows x 14 columns]"
            ],
            "text/html": [
              "\n",
              "  <div id=\"df-e60bc677-8e79-4bb1-8ff7-843ce4735839\">\n",
              "    <div class=\"colab-df-container\">\n",
              "      <div>\n",
              "<style scoped>\n",
              "    .dataframe tbody tr th:only-of-type {\n",
              "        vertical-align: middle;\n",
              "    }\n",
              "\n",
              "    .dataframe tbody tr th {\n",
              "        vertical-align: top;\n",
              "    }\n",
              "\n",
              "    .dataframe thead th {\n",
              "        text-align: right;\n",
              "    }\n",
              "</style>\n",
              "<table border=\"1\" class=\"dataframe\">\n",
              "  <thead>\n",
              "    <tr style=\"text-align: right;\">\n",
              "      <th></th>\n",
              "      <th>RowNumber</th>\n",
              "      <th>CustomerId</th>\n",
              "      <th>Surname</th>\n",
              "      <th>CreditScore</th>\n",
              "      <th>Geography</th>\n",
              "      <th>Gender</th>\n",
              "      <th>Age</th>\n",
              "      <th>Tenure</th>\n",
              "      <th>Balance</th>\n",
              "      <th>NumOfProducts</th>\n",
              "      <th>HasCrCard</th>\n",
              "      <th>IsActiveMember</th>\n",
              "      <th>EstimatedSalary</th>\n",
              "      <th>Exited</th>\n",
              "    </tr>\n",
              "  </thead>\n",
              "  <tbody>\n",
              "    <tr>\n",
              "      <th>0</th>\n",
              "      <td>1</td>\n",
              "      <td>15634602</td>\n",
              "      <td>Hargrave</td>\n",
              "      <td>619</td>\n",
              "      <td>France</td>\n",
              "      <td>Female</td>\n",
              "      <td>42</td>\n",
              "      <td>2</td>\n",
              "      <td>0.00</td>\n",
              "      <td>1</td>\n",
              "      <td>1</td>\n",
              "      <td>1</td>\n",
              "      <td>101348.88</td>\n",
              "      <td>1</td>\n",
              "    </tr>\n",
              "    <tr>\n",
              "      <th>1</th>\n",
              "      <td>2</td>\n",
              "      <td>15647311</td>\n",
              "      <td>Hill</td>\n",
              "      <td>608</td>\n",
              "      <td>Spain</td>\n",
              "      <td>Female</td>\n",
              "      <td>41</td>\n",
              "      <td>1</td>\n",
              "      <td>83807.86</td>\n",
              "      <td>1</td>\n",
              "      <td>0</td>\n",
              "      <td>1</td>\n",
              "      <td>112542.58</td>\n",
              "      <td>0</td>\n",
              "    </tr>\n",
              "    <tr>\n",
              "      <th>2</th>\n",
              "      <td>3</td>\n",
              "      <td>15619304</td>\n",
              "      <td>Onio</td>\n",
              "      <td>502</td>\n",
              "      <td>France</td>\n",
              "      <td>Female</td>\n",
              "      <td>42</td>\n",
              "      <td>8</td>\n",
              "      <td>159660.80</td>\n",
              "      <td>3</td>\n",
              "      <td>1</td>\n",
              "      <td>0</td>\n",
              "      <td>113931.57</td>\n",
              "      <td>1</td>\n",
              "    </tr>\n",
              "    <tr>\n",
              "      <th>3</th>\n",
              "      <td>4</td>\n",
              "      <td>15701354</td>\n",
              "      <td>Boni</td>\n",
              "      <td>699</td>\n",
              "      <td>France</td>\n",
              "      <td>Female</td>\n",
              "      <td>39</td>\n",
              "      <td>1</td>\n",
              "      <td>0.00</td>\n",
              "      <td>2</td>\n",
              "      <td>0</td>\n",
              "      <td>0</td>\n",
              "      <td>93826.63</td>\n",
              "      <td>0</td>\n",
              "    </tr>\n",
              "    <tr>\n",
              "      <th>4</th>\n",
              "      <td>5</td>\n",
              "      <td>15737888</td>\n",
              "      <td>Mitchell</td>\n",
              "      <td>850</td>\n",
              "      <td>Spain</td>\n",
              "      <td>Female</td>\n",
              "      <td>43</td>\n",
              "      <td>2</td>\n",
              "      <td>125510.82</td>\n",
              "      <td>1</td>\n",
              "      <td>1</td>\n",
              "      <td>1</td>\n",
              "      <td>79084.10</td>\n",
              "      <td>0</td>\n",
              "    </tr>\n",
              "    <tr>\n",
              "      <th>...</th>\n",
              "      <td>...</td>\n",
              "      <td>...</td>\n",
              "      <td>...</td>\n",
              "      <td>...</td>\n",
              "      <td>...</td>\n",
              "      <td>...</td>\n",
              "      <td>...</td>\n",
              "      <td>...</td>\n",
              "      <td>...</td>\n",
              "      <td>...</td>\n",
              "      <td>...</td>\n",
              "      <td>...</td>\n",
              "      <td>...</td>\n",
              "      <td>...</td>\n",
              "    </tr>\n",
              "    <tr>\n",
              "      <th>195</th>\n",
              "      <td>196</td>\n",
              "      <td>15594815</td>\n",
              "      <td>Aleshire</td>\n",
              "      <td>807</td>\n",
              "      <td>France</td>\n",
              "      <td>Male</td>\n",
              "      <td>35</td>\n",
              "      <td>3</td>\n",
              "      <td>174790.15</td>\n",
              "      <td>1</td>\n",
              "      <td>1</td>\n",
              "      <td>1</td>\n",
              "      <td>600.36</td>\n",
              "      <td>0</td>\n",
              "    </tr>\n",
              "    <tr>\n",
              "      <th>196</th>\n",
              "      <td>197</td>\n",
              "      <td>15635905</td>\n",
              "      <td>Moran</td>\n",
              "      <td>616</td>\n",
              "      <td>Spain</td>\n",
              "      <td>Female</td>\n",
              "      <td>32</td>\n",
              "      <td>6</td>\n",
              "      <td>0.00</td>\n",
              "      <td>2</td>\n",
              "      <td>1</td>\n",
              "      <td>1</td>\n",
              "      <td>43001.46</td>\n",
              "      <td>0</td>\n",
              "    </tr>\n",
              "    <tr>\n",
              "      <th>197</th>\n",
              "      <td>198</td>\n",
              "      <td>15777892</td>\n",
              "      <td>Samsonova</td>\n",
              "      <td>721</td>\n",
              "      <td>Germany</td>\n",
              "      <td>Male</td>\n",
              "      <td>37</td>\n",
              "      <td>3</td>\n",
              "      <td>107720.64</td>\n",
              "      <td>1</td>\n",
              "      <td>1</td>\n",
              "      <td>1</td>\n",
              "      <td>158591.12</td>\n",
              "      <td>0</td>\n",
              "    </tr>\n",
              "    <tr>\n",
              "      <th>198</th>\n",
              "      <td>199</td>\n",
              "      <td>15656176</td>\n",
              "      <td>Jenkins</td>\n",
              "      <td>501</td>\n",
              "      <td>France</td>\n",
              "      <td>Male</td>\n",
              "      <td>57</td>\n",
              "      <td>10</td>\n",
              "      <td>0.00</td>\n",
              "      <td>2</td>\n",
              "      <td>1</td>\n",
              "      <td>1</td>\n",
              "      <td>47847.19</td>\n",
              "      <td>0</td>\n",
              "    </tr>\n",
              "    <tr>\n",
              "      <th>199</th>\n",
              "      <td>200</td>\n",
              "      <td>15811127</td>\n",
              "      <td>Volkov</td>\n",
              "      <td>521</td>\n",
              "      <td>France</td>\n",
              "      <td>Male</td>\n",
              "      <td>35</td>\n",
              "      <td>6</td>\n",
              "      <td>96423.84</td>\n",
              "      <td>1</td>\n",
              "      <td>1</td>\n",
              "      <td>0</td>\n",
              "      <td>10488.44</td>\n",
              "      <td>0</td>\n",
              "    </tr>\n",
              "  </tbody>\n",
              "</table>\n",
              "<p>200 rows × 14 columns</p>\n",
              "</div>\n",
              "      <button class=\"colab-df-convert\" onclick=\"convertToInteractive('df-e60bc677-8e79-4bb1-8ff7-843ce4735839')\"\n",
              "              title=\"Convert this dataframe to an interactive table.\"\n",
              "              style=\"display:none;\">\n",
              "        \n",
              "  <svg xmlns=\"http://www.w3.org/2000/svg\" height=\"24px\"viewBox=\"0 0 24 24\"\n",
              "       width=\"24px\">\n",
              "    <path d=\"M0 0h24v24H0V0z\" fill=\"none\"/>\n",
              "    <path d=\"M18.56 5.44l.94 2.06.94-2.06 2.06-.94-2.06-.94-.94-2.06-.94 2.06-2.06.94zm-11 1L8.5 8.5l.94-2.06 2.06-.94-2.06-.94L8.5 2.5l-.94 2.06-2.06.94zm10 10l.94 2.06.94-2.06 2.06-.94-2.06-.94-.94-2.06-.94 2.06-2.06.94z\"/><path d=\"M17.41 7.96l-1.37-1.37c-.4-.4-.92-.59-1.43-.59-.52 0-1.04.2-1.43.59L10.3 9.45l-7.72 7.72c-.78.78-.78 2.05 0 2.83L4 21.41c.39.39.9.59 1.41.59.51 0 1.02-.2 1.41-.59l7.78-7.78 2.81-2.81c.8-.78.8-2.07 0-2.86zM5.41 20L4 18.59l7.72-7.72 1.47 1.35L5.41 20z\"/>\n",
              "  </svg>\n",
              "      </button>\n",
              "      \n",
              "  <style>\n",
              "    .colab-df-container {\n",
              "      display:flex;\n",
              "      flex-wrap:wrap;\n",
              "      gap: 12px;\n",
              "    }\n",
              "\n",
              "    .colab-df-convert {\n",
              "      background-color: #E8F0FE;\n",
              "      border: none;\n",
              "      border-radius: 50%;\n",
              "      cursor: pointer;\n",
              "      display: none;\n",
              "      fill: #1967D2;\n",
              "      height: 32px;\n",
              "      padding: 0 0 0 0;\n",
              "      width: 32px;\n",
              "    }\n",
              "\n",
              "    .colab-df-convert:hover {\n",
              "      background-color: #E2EBFA;\n",
              "      box-shadow: 0px 1px 2px rgba(60, 64, 67, 0.3), 0px 1px 3px 1px rgba(60, 64, 67, 0.15);\n",
              "      fill: #174EA6;\n",
              "    }\n",
              "\n",
              "    [theme=dark] .colab-df-convert {\n",
              "      background-color: #3B4455;\n",
              "      fill: #D2E3FC;\n",
              "    }\n",
              "\n",
              "    [theme=dark] .colab-df-convert:hover {\n",
              "      background-color: #434B5C;\n",
              "      box-shadow: 0px 1px 3px 1px rgba(0, 0, 0, 0.15);\n",
              "      filter: drop-shadow(0px 1px 2px rgba(0, 0, 0, 0.3));\n",
              "      fill: #FFFFFF;\n",
              "    }\n",
              "  </style>\n",
              "\n",
              "      <script>\n",
              "        const buttonEl =\n",
              "          document.querySelector('#df-e60bc677-8e79-4bb1-8ff7-843ce4735839 button.colab-df-convert');\n",
              "        buttonEl.style.display =\n",
              "          google.colab.kernel.accessAllowed ? 'block' : 'none';\n",
              "\n",
              "        async function convertToInteractive(key) {\n",
              "          const element = document.querySelector('#df-e60bc677-8e79-4bb1-8ff7-843ce4735839');\n",
              "          const dataTable =\n",
              "            await google.colab.kernel.invokeFunction('convertToInteractive',\n",
              "                                                     [key], {});\n",
              "          if (!dataTable) return;\n",
              "\n",
              "          const docLinkHtml = 'Like what you see? Visit the ' +\n",
              "            '<a target=\"_blank\" href=https://colab.research.google.com/notebooks/data_table.ipynb>data table notebook</a>'\n",
              "            + ' to learn more about interactive tables.';\n",
              "          element.innerHTML = '';\n",
              "          dataTable['output_type'] = 'display_data';\n",
              "          await google.colab.output.renderOutput(dataTable, element);\n",
              "          const docLink = document.createElement('div');\n",
              "          docLink.innerHTML = docLinkHtml;\n",
              "          element.appendChild(docLink);\n",
              "        }\n",
              "      </script>\n",
              "    </div>\n",
              "  </div>\n",
              "  "
            ]
          },
          "metadata": {},
          "execution_count": 16
        }
      ]
    },
    {
      "cell_type": "code",
      "source": [
        "data = data[[\"Tenure\",\"HasCrCard\",\"Exited\"]]"
      ],
      "metadata": {
        "id": "ry0U-eu4rE7c"
      },
      "execution_count": null,
      "outputs": []
    },
    {
      "cell_type": "code",
      "source": [
        "fig = plt.figure()\n",
        "ax = fig.add_subplot(111,projection='3d')\n",
        "n = 100\n",
        "ax.scatter(data[\"Tenure\"],data[\"HasCrCard\"],data[\"Exited\"],color = \"green\")\n",
        "ax.set_xlabel(\"Tenure\")\n",
        "ax.set_ylabel(\"HasCrCard\")\n",
        "ax.set_zlabel(\"Exited\")\n",
        "plt.show()"
      ],
      "metadata": {
        "colab": {
          "base_uri": "https://localhost:8080/",
          "height": 248
        },
        "id": "1mJmxToErYVe",
        "outputId": "05fa34ec-7933-48fe-dcae-b3f6e20088a7"
      },
      "execution_count": null,
      "outputs": [
        {
          "output_type": "display_data",
          "data": {
            "text/plain": [
              "<Figure size 432x288 with 1 Axes>"
            ],
            "image/png": "[encoded data removed]"
          },
          "metadata": {}
        }
      ]
    },
    {
      "cell_type": "code",
      "source": [
        "#pair plot\n",
        "sns.pairplot(data)\n"
      ],
      "metadata": {
        "colab": {
          "base_uri": "https://localhost:8080/",
          "height": 561
        },
        "id": "CeIanpOpx8hL",
        "outputId": "c8301a1d-99a3-454b-c15c-ad07760fd9b9"
      },
      "execution_count": null,
      "outputs": [
        {
          "output_type": "execute_result",
          "data": {
            "text/plain": [
              "<seaborn.axisgrid.PairGrid at 0x7f5f885576d0>"
            ]
          },
          "metadata": {},
          "execution_count": 19
        },
        {
          "output_type": "display_data",
          "data": {
            "text/plain": [
              "<Figure size 540x540 with 12 Axes>"
            ],
            "image/png": "[encoded data removed]"
          },
          "metadata": {}
        }
      ]
    },
    {
      "cell_type": "code",
      "source": [
        "#Heat map\n",
        "\n",
        "sns.set(font_scale =1.15 )\n",
        "plt.figure(figsize =(8,4))\n",
        "sns.heatmap(\n",
        "    data.corr(),\n",
        "    cmap = 'RdBu_r',\n",
        "    annot = True,\n",
        "    vmin = 1, vmax = 1\n",
        ")"
      ],
      "metadata": {
        "colab": {
          "base_uri": "https://localhost:8080/",
          "height": 293
        },
        "id": "JIVCg_oTllgH",
        "outputId": "60514866-af48-4205-ee5e-371f21676510"
      },
      "execution_count": null,
      "outputs": [
        {
          "output_type": "execute_result",
          "data": {
            "text/plain": [
              "<matplotlib.axes._subplots.AxesSubplot at 0x7f5f88019290>"
            ]
          },
          "metadata": {},
          "execution_count": 20
        },
        {
          "output_type": "display_data",
          "data": {
            "text/plain": [
              "<Figure size 576x288 with 2 Axes>"
            ],
            "image/png": "[encoded data removed]"
          },
          "metadata": {}
        }
      ]
    },
    {
      "cell_type": "code",
      "source": [
        "sns.set(font_scale = 1.3)\n",
        "\n",
        "sns.scatterplot(\n",
        "    x = 'Tenure',\n",
        "    y = 'Exited',\n",
        "    data = data)\n",
        "\n",
        "plt.xlabel(\n",
        "    'Tenure'\n",
        ")\n",
        "plt.ylabel('Exited')\n"
      ],
      "metadata": {
        "colab": {
          "base_uri": "https://localhost:8080/",
          "height": 308
        },
        "id": "HjIiSnW5s44s",
        "outputId": "3e091710-2c6f-49e9-c9bf-748688788342"
      },
      "execution_count": null,
      "outputs": [
        {
          "output_type": "execute_result",
          "data": {
            "text/plain": [
              "Text(0, 0.5, 'Exited')"
            ]
          },
          "metadata": {},
          "execution_count": 21
        },
        {
          "output_type": "display_data",
          "data": {
            "text/plain": [
              "<Figure size 432x288 with 1 Axes>"
            ],
            "image/png": "[encoded data removed]"
          },
          "metadata": {}
        }
      ]
    },
    {
      "cell_type": "code",
      "source": [
        "#line plot\n",
        "sns.lineplot(\n",
        "    x=\"Tenure\", \n",
        "    y=\"Exited\",\n",
        "    data=data\n",
        "    )"
      ],
      "metadata": {
        "colab": {
          "base_uri": "https://localhost:8080/",
          "height": 308
        },
        "id": "CarHCf2ot83u",
        "outputId": "ea538980-b8ae-4ed1-ee60-8e9d5ef08fe9"
      },
      "execution_count": null,
      "outputs": [
        {
          "output_type": "execute_result",
          "data": {
            "text/plain": [
              "<matplotlib.axes._subplots.AxesSubplot at 0x7f5f87f57c90>"
            ]
          },
          "metadata": {},
          "execution_count": 22
        },
        {
          "output_type": "display_data",
          "data": {
            "text/plain": [
              "<Figure size 432x288 with 1 Axes>"
            ],
            "image/png": "[encoded data removed]"
          },
          "metadata": {}
        }
      ]
    },
    {
      "cell_type": "code",
      "source": [
        "#Joint plot\n",
        "\n",
        "sns.jointplot(\n",
        "    x='Tenure', \n",
        "    y='Exited', \n",
        "    data=data)"
      ],
      "metadata": {
        "colab": {
          "base_uri": "https://localhost:8080/",
          "height": 446
        },
        "id": "4ZNu7BaZxdLk",
        "outputId": "e8b25283-b377-47e5-d63d-8d324953932b"
      },
      "execution_count": null,
      "outputs": [
        {
          "output_type": "execute_result",
          "data": {
            "text/plain": [
              "<seaborn.axisgrid.JointGrid at 0x7f5f87e4f4d0>"
            ]
          },
          "metadata": {},
          "execution_count": 23
        },
        {
          "output_type": "display_data",
          "data": {
            "text/plain": [
              "<Figure size 432x432 with 3 Axes>"
            ],
            "image/png": "[encoded data removed]"
          },
          "metadata": {}
        }
      ]
    },
    {
      "cell_type": "code",
      "source": [
        "#Bar plot\n",
        "\n",
        "sns.barplot(\n",
        "    x='Tenure', \n",
        "    y='Exited', \n",
        "    data=data, \n",
        "    )"
      ],
      "metadata": {
        "colab": {
          "base_uri": "https://localhost:8080/",
          "height": 308
        },
        "id": "nfh27gfXysu2",
        "outputId": "323aa0fe-1313-4e34-a516-b1199ebfffb5"
      },
      "execution_count": null,
      "outputs": [
        {
          "output_type": "execute_result",
          "data": {
            "text/plain": [
              "<matplotlib.axes._subplots.AxesSubplot at 0x7f5f87c6a650>"
            ]
          },
          "metadata": {},
          "execution_count": 24
        },
        {
          "output_type": "display_data",
          "data": {
            "text/plain": [
              "<Figure size 432x288 with 1 Axes>"
            ],
            "image/png": "[encoded data removed]"
          },
          "metadata": {}
        }
      ]
    },
    {
      "cell_type": "code",
      "source": [
        "#Point plot\n",
        "\n",
        "sns.pointplot(\n",
        "    x='Tenure', \n",
        "    y='Exited', \n",
        "    data=data);"
      ],
      "metadata": {
        "colab": {
          "base_uri": "https://localhost:8080/",
          "height": 291
        },
        "id": "pw4HgPUFzilX",
        "outputId": "fae30548-f3cf-4c36-897a-db042054a089"
      },
      "execution_count": null,
      "outputs": [
        {
          "output_type": "display_data",
          "data": {
            "text/plain": [
              "<Figure size 432x288 with 1 Axes>"
            ],
            "image/png": "[encoded data removed]"
          },
          "metadata": {}
        }
      ]
    },
    {
      "cell_type": "code",
      "source": [
        "# Violin plot\n",
        "\n",
        "sns.violinplot(\n",
        "    x='Tenure', \n",
        "    y='Exited', \n",
        "    data=data);"
      ],
      "metadata": {
        "colab": {
          "base_uri": "https://localhost:8080/",
          "height": 291
        },
        "id": "dn6qpcjlzyyE",
        "outputId": "cab368c0-05a0-4880-f58a-d73d3a5e6bf5"
      },
      "execution_count": null,
      "outputs": [
        {
          "output_type": "display_data",
          "data": {
            "text/plain": [
              "<Figure size 432x288 with 1 Axes>"
            ],
            "image/png": "[encoded data removed]"
          },
          "metadata": {}
        }
      ]
    },
    {
      "cell_type": "code",
      "source": [
        "#Strip plot\n",
        "\n",
        "plt.figure(\n",
        "    figsize=(12, 6))\n",
        "sns.stripplot(\n",
        "    x='Tenure', \n",
        "    y='Exited', \n",
        "    data=data, \n",
        "    linewidth=.5)\n",
        "plt.xticks(rotation=90);"
      ],
      "metadata": {
        "colab": {
          "base_uri": "https://localhost:8080/",
          "height": 404
        },
        "id": "Eaen01oP08s-",
        "outputId": "2986ff27-bfa1-4fb2-c3af-992aa4a8736f"
      },
      "execution_count": null,
      "outputs": [
        {
          "output_type": "display_data",
          "data": {
            "text/plain": [
              "<Figure size 864x432 with 1 Axes>"
            ],
            "image/png": "[encoded data removed]"
          },
          "metadata": {}
        }
      ]
    },
    {
      "cell_type": "code",
      "source": [
        "#5. Handle the Missing values"
      ],
      "metadata": {
        "id": "0rbIRka95RKw"
      },
      "execution_count": null,
      "outputs": []
    },
    {
      "cell_type": "code",
      "source": [
        "#Data Removal\n",
        "#Dropping the 2nd and 3rd index\n",
        "\n",
        "dropped_data = data.drop([2,3],axis = 0)\n",
        "\n",
        "#Viewing the dataframe\n",
        "\n",
        "dropped_data"
      ],
      "metadata": {
        "colab": {
          "base_uri": "https://localhost:8080/",
          "height": 424
        },
        "id": "_5xcwVVl53i9",
        "outputId": "8f2a3c2d-ca4b-40a7-85e0-1da93e7b99c5"
      },
      "execution_count": null,
      "outputs": [
        {
          "output_type": "execute_result",
          "data": {
            "text/plain": [
              "      Tenure  HasCrCard  Exited\n",
              "0          2          1       1\n",
              "1          1          0       0\n",
              "4          2          1       0\n",
              "5          8          1       1\n",
              "6          7          1       0\n",
              "...      ...        ...     ...\n",
              "9995       5          1       0\n",
              "9996      10          1       0\n",
              "9997       7          0       1\n",
              "9998       3          1       1\n",
              "9999       4          1       0\n",
              "\n",
              "[9998 rows x 3 columns]"
            ],
            "text/html": [
              "\n",
              "  <div id=\"df-28c978ee-9fb1-47af-b86c-06261db42b3c\">\n",
              "    <div class=\"colab-df-container\">\n",
              "      <div>\n",
              "<style scoped>\n",
              "    .dataframe tbody tr th:only-of-type {\n",
              "        vertical-align: middle;\n",
              "    }\n",
              "\n",
              "    .dataframe tbody tr th {\n",
              "        vertical-align: top;\n",
              "    }\n",
              "\n",
              "    .dataframe thead th {\n",
              "        text-align: right;\n",
              "    }\n",
              "</style>\n",
              "<table border=\"1\" class=\"dataframe\">\n",
              "  <thead>\n",
              "    <tr style=\"text-align: right;\">\n",
              "      <th></th>\n",
              "      <th>Tenure</th>\n",
              "      <th>HasCrCard</th>\n",
              "      <th>Exited</th>\n",
              "    </tr>\n",
              "  </thead>\n",
              "  <tbody>\n",
              "    <tr>\n",
              "      <th>0</th>\n",
              "      <td>2</td>\n",
              "      <td>1</td>\n",
              "      <td>1</td>\n",
              "    </tr>\n",
              "    <tr>\n",
              "      <th>1</th>\n",
              "      <td>1</td>\n",
              "      <td>0</td>\n",
              "      <td>0</td>\n",
              "    </tr>\n",
              "    <tr>\n",
              "      <th>4</th>\n",
              "      <td>2</td>\n",
              "      <td>1</td>\n",
              "      <td>0</td>\n",
              "    </tr>\n",
              "    <tr>\n",
              "      <th>5</th>\n",
              "      <td>8</td>\n",
              "      <td>1</td>\n",
              "      <td>1</td>\n",
              "    </tr>\n",
              "    <tr>\n",
              "      <th>6</th>\n",
              "      <td>7</td>\n",
              "      <td>1</td>\n",
              "      <td>0</td>\n",
              "    </tr>\n",
              "    <tr>\n",
              "      <th>...</th>\n",
              "      <td>...</td>\n",
              "      <td>...</td>\n",
              "      <td>...</td>\n",
              "    </tr>\n",
              "    <tr>\n",
              "      <th>9995</th>\n",
              "      <td>5</td>\n",
              "      <td>1</td>\n",
              "      <td>0</td>\n",
              "    </tr>\n",
              "    <tr>\n",
              "      <th>9996</th>\n",
              "      <td>10</td>\n",
              "      <td>1</td>\n",
              "      <td>0</td>\n",
              "    </tr>\n",
              "    <tr>\n",
              "      <th>9997</th>\n",
              "      <td>7</td>\n",
              "      <td>0</td>\n",
              "      <td>1</td>\n",
              "    </tr>\n",
              "    <tr>\n",
              "      <th>9998</th>\n",
              "      <td>3</td>\n",
              "      <td>1</td>\n",
              "      <td>1</td>\n",
              "    </tr>\n",
              "    <tr>\n",
              "      <th>9999</th>\n",
              "      <td>4</td>\n",
              "      <td>1</td>\n",
              "      <td>0</td>\n",
              "    </tr>\n",
              "  </tbody>\n",
              "</table>\n",
              "<p>9998 rows × 3 columns</p>\n",
              "</div>\n",
              "      <button class=\"colab-df-convert\" onclick=\"convertToInteractive('df-28c978ee-9fb1-47af-b86c-06261db42b3c')\"\n",
              "              title=\"Convert this dataframe to an interactive table.\"\n",
              "              style=\"display:none;\">\n",
              "        \n",
              "  <svg xmlns=\"http://www.w3.org/2000/svg\" height=\"24px\"viewBox=\"0 0 24 24\"\n",
              "       width=\"24px\">\n",
              "    <path d=\"M0 0h24v24H0V0z\" fill=\"none\"/>\n",
              "    <path d=\"M18.56 5.44l.94 2.06.94-2.06 2.06-.94-2.06-.94-.94-2.06-.94 2.06-2.06.94zm-11 1L8.5 8.5l.94-2.06 2.06-.94-2.06-.94L8.5 2.5l-.94 2.06-2.06.94zm10 10l.94 2.06.94-2.06 2.06-.94-2.06-.94-.94-2.06-.94 2.06-2.06.94z\"/><path d=\"M17.41 7.96l-1.37-1.37c-.4-.4-.92-.59-1.43-.59-.52 0-1.04.2-1.43.59L10.3 9.45l-7.72 7.72c-.78.78-.78 2.05 0 2.83L4 21.41c.39.39.9.59 1.41.59.51 0 1.02-.2 1.41-.59l7.78-7.78 2.81-2.81c.8-.78.8-2.07 0-2.86zM5.41 20L4 18.59l7.72-7.72 1.47 1.35L5.41 20z\"/>\n",
              "  </svg>\n",
              "      </button>\n",
              "      \n",
              "  <style>\n",
              "    .colab-df-container {\n",
              "      display:flex;\n",
              "      flex-wrap:wrap;\n",
              "      gap: 12px;\n",
              "    }\n",
              "\n",
              "    .colab-df-convert {\n",
              "      background-color: #E8F0FE;\n",
              "      border: none;\n",
              "      border-radius: 50%;\n",
              "      cursor: pointer;\n",
              "      display: none;\n",
              "      fill: #1967D2;\n",
              "      height: 32px;\n",
              "      padding: 0 0 0 0;\n",
              "      width: 32px;\n",
              "    }\n",
              "\n",
              "    .colab-df-convert:hover {\n",
              "      background-color: #E2EBFA;\n",
              "      box-shadow: 0px 1px 2px rgba(60, 64, 67, 0.3), 0px 1px 3px 1px rgba(60, 64, 67, 0.15);\n",
              "      fill: #174EA6;\n",
              "    }\n",
              "\n",
              "    [theme=dark] .colab-df-convert {\n",
              "      background-color: #3B4455;\n",
              "      fill: #D2E3FC;\n",
              "    }\n",
              "\n",
              "    [theme=dark] .colab-df-convert:hover {\n",
              "      background-color: #434B5C;\n",
              "      box-shadow: 0px 1px 3px 1px rgba(0, 0, 0, 0.15);\n",
              "      filter: drop-shadow(0px 1px 2px rgba(0, 0, 0, 0.3));\n",
              "      fill: #FFFFFF;\n",
              "    }\n",
              "  </style>\n",
              "\n",
              "      <script>\n",
              "        const buttonEl =\n",
              "          document.querySelector('#df-28c978ee-9fb1-47af-b86c-06261db42b3c button.colab-df-convert');\n",
              "        buttonEl.style.display =\n",
              "          google.colab.kernel.accessAllowed ? 'block' : 'none';\n",
              "\n",
              "        async function convertToInteractive(key) {\n",
              "          const element = document.querySelector('#df-28c978ee-9fb1-47af-b86c-06261db42b3c');\n",
              "          const dataTable =\n",
              "            await google.colab.kernel.invokeFunction('convertToInteractive',\n",
              "                                                     [key], {});\n",
              "          if (!dataTable) return;\n",
              "\n",
              "          const docLinkHtml = 'Like what you see? Visit the ' +\n",
              "            '<a target=\"_blank\" href=https://colab.research.google.com/notebooks/data_table.ipynb>data table notebook</a>'\n",
              "            + ' to learn more about interactive tables.';\n",
              "          element.innerHTML = '';\n",
              "          dataTable['output_type'] = 'display_data';\n",
              "          await google.colab.output.renderOutput(dataTable, element);\n",
              "          const docLink = document.createElement('div');\n",
              "          docLink.innerHTML = docLinkHtml;\n",
              "          element.appendChild(docLink);\n",
              "        }\n",
              "      </script>\n",
              "    </div>\n",
              "  </div>\n",
              "  "
            ]
          },
          "metadata": {},
          "execution_count": 29
        }
      ]
    },
    {
      "cell_type": "code",
      "source": [
        "# Filling each column with their mean values\n",
        "\n",
        "data['Tenure']=data['Tenure'].fillna(data['Tenure'].mean())\n",
        "data['Exited']=data['Exited'].fillna(data['Exited'].mean())\n",
        "# Viewing the dataframe\n",
        "data"
      ],
      "metadata": {
        "id": "n9KLq4Td6oqa",
        "colab": {
          "base_uri": "https://localhost:8080/",
          "height": 424
        },
        "outputId": "1f0608ec-278a-454e-9f9a-accfd5db87a3"
      },
      "execution_count": null,
      "outputs": [
        {
          "output_type": "execute_result",
          "data": {
            "text/plain": [
              "      Tenure  HasCrCard  Exited\n",
              "0          2          1       1\n",
              "1          1          0       0\n",
              "2          8          1       1\n",
              "3          1          0       0\n",
              "4          2          1       0\n",
              "...      ...        ...     ...\n",
              "9995       5          1       0\n",
              "9996      10          1       0\n",
              "9997       7          0       1\n",
              "9998       3          1       1\n",
              "9999       4          1       0\n",
              "\n",
              "[10000 rows x 3 columns]"
            ],
            "text/html": [
              "\n",
              "  <div id=\"df-f6f75034-d2ef-435f-ba97-653707862a9e\">\n",
              "    <div class=\"colab-df-container\">\n",
              "      <div>\n",
              "<style scoped>\n",
              "    .dataframe tbody tr th:only-of-type {\n",
              "        vertical-align: middle;\n",
              "    }\n",
              "\n",
              "    .dataframe tbody tr th {\n",
              "        vertical-align: top;\n",
              "    }\n",
              "\n",
              "    .dataframe thead th {\n",
              "        text-align: right;\n",
              "    }\n",
              "</style>\n",
              "<table border=\"1\" class=\"dataframe\">\n",
              "  <thead>\n",
              "    <tr style=\"text-align: right;\">\n",
              "      <th></th>\n",
              "      <th>Tenure</th>\n",
              "      <th>HasCrCard</th>\n",
              "      <th>Exited</th>\n",
              "    </tr>\n",
              "  </thead>\n",
              "  <tbody>\n",
              "    <tr>\n",
              "      <th>0</th>\n",
              "      <td>2</td>\n",
              "      <td>1</td>\n",
              "      <td>1</td>\n",
              "    </tr>\n",
              "    <tr>\n",
              "      <th>1</th>\n",
              "      <td>1</td>\n",
              "      <td>0</td>\n",
              "      <td>0</td>\n",
              "    </tr>\n",
              "    <tr>\n",
              "      <th>2</th>\n",
              "      <td>8</td>\n",
              "      <td>1</td>\n",
              "      <td>1</td>\n",
              "    </tr>\n",
              "    <tr>\n",
              "      <th>3</th>\n",
              "      <td>1</td>\n",
              "      <td>0</td>\n",
              "      <td>0</td>\n",
              "    </tr>\n",
              "    <tr>\n",
              "      <th>4</th>\n",
              "      <td>2</td>\n",
              "      <td>1</td>\n",
              "      <td>0</td>\n",
              "    </tr>\n",
              "    <tr>\n",
              "      <th>...</th>\n",
              "      <td>...</td>\n",
              "      <td>...</td>\n",
              "      <td>...</td>\n",
              "    </tr>\n",
              "    <tr>\n",
              "      <th>9995</th>\n",
              "      <td>5</td>\n",
              "      <td>1</td>\n",
              "      <td>0</td>\n",
              "    </tr>\n",
              "    <tr>\n",
              "      <th>9996</th>\n",
              "      <td>10</td>\n",
              "      <td>1</td>\n",
              "      <td>0</td>\n",
              "    </tr>\n",
              "    <tr>\n",
              "      <th>9997</th>\n",
              "      <td>7</td>\n",
              "      <td>0</td>\n",
              "      <td>1</td>\n",
              "    </tr>\n",
              "    <tr>\n",
              "      <th>9998</th>\n",
              "      <td>3</td>\n",
              "      <td>1</td>\n",
              "      <td>1</td>\n",
              "    </tr>\n",
              "    <tr>\n",
              "      <th>9999</th>\n",
              "      <td>4</td>\n",
              "      <td>1</td>\n",
              "      <td>0</td>\n",
              "    </tr>\n",
              "  </tbody>\n",
              "</table>\n",
              "<p>10000 rows × 3 columns</p>\n",
              "</div>\n",
              "      <button class=\"colab-df-convert\" onclick=\"convertToInteractive('df-f6f75034-d2ef-435f-ba97-653707862a9e')\"\n",
              "              title=\"Convert this dataframe to an interactive table.\"\n",
              "              style=\"display:none;\">\n",
              "        \n",
              "  <svg xmlns=\"http://www.w3.org/2000/svg\" height=\"24px\"viewBox=\"0 0 24 24\"\n",
              "       width=\"24px\">\n",
              "    <path d=\"M0 0h24v24H0V0z\" fill=\"none\"/>\n",
              "    <path d=\"M18.56 5.44l.94 2.06.94-2.06 2.06-.94-2.06-.94-.94-2.06-.94 2.06-2.06.94zm-11 1L8.5 8.5l.94-2.06 2.06-.94-2.06-.94L8.5 2.5l-.94 2.06-2.06.94zm10 10l.94 2.06.94-2.06 2.06-.94-2.06-.94-.94-2.06-.94 2.06-2.06.94z\"/><path d=\"M17.41 7.96l-1.37-1.37c-.4-.4-.92-.59-1.43-.59-.52 0-1.04.2-1.43.59L10.3 9.45l-7.72 7.72c-.78.78-.78 2.05 0 2.83L4 21.41c.39.39.9.59 1.41.59.51 0 1.02-.2 1.41-.59l7.78-7.78 2.81-2.81c.8-.78.8-2.07 0-2.86zM5.41 20L4 18.59l7.72-7.72 1.47 1.35L5.41 20z\"/>\n",
              "  </svg>\n",
              "      </button>\n",
              "      \n",
              "  <style>\n",
              "    .colab-df-container {\n",
              "      display:flex;\n",
              "      flex-wrap:wrap;\n",
              "      gap: 12px;\n",
              "    }\n",
              "\n",
              "    .colab-df-convert {\n",
              "      background-color: #E8F0FE;\n",
              "      border: none;\n",
              "      border-radius: 50%;\n",
              "      cursor: pointer;\n",
              "      display: none;\n",
              "      fill: #1967D2;\n",
              "      height: 32px;\n",
              "      padding: 0 0 0 0;\n",
              "      width: 32px;\n",
              "    }\n",
              "\n",
              "    .colab-df-convert:hover {\n",
              "      background-color: #E2EBFA;\n",
              "      box-shadow: 0px 1px 2px rgba(60, 64, 67, 0.3), 0px 1px 3px 1px rgba(60, 64, 67, 0.15);\n",
              "      fill: #174EA6;\n",
              "    }\n",
              "\n",
              "    [theme=dark] .colab-df-convert {\n",
              "      background-color: #3B4455;\n",
              "      fill: #D2E3FC;\n",
              "    }\n",
              "\n",
              "    [theme=dark] .colab-df-convert:hover {\n",
              "      background-color: #434B5C;\n",
              "      box-shadow: 0px 1px 3px 1px rgba(0, 0, 0, 0.15);\n",
              "      filter: drop-shadow(0px 1px 2px rgba(0, 0, 0, 0.3));\n",
              "      fill: #FFFFFF;\n",
              "    }\n",
              "  </style>\n",
              "\n",
              "      <script>\n",
              "        const buttonEl =\n",
              "          document.querySelector('#df-f6f75034-d2ef-435f-ba97-653707862a9e button.colab-df-convert');\n",
              "        buttonEl.style.display =\n",
              "          google.colab.kernel.accessAllowed ? 'block' : 'none';\n",
              "\n",
              "        async function convertToInteractive(key) {\n",
              "          const element = document.querySelector('#df-f6f75034-d2ef-435f-ba97-653707862a9e');\n",
              "          const dataTable =\n",
              "            await google.colab.kernel.invokeFunction('convertToInteractive',\n",
              "                                                     [key], {});\n",
              "          if (!dataTable) return;\n",
              "\n",
              "          const docLinkHtml = 'Like what you see? Visit the ' +\n",
              "            '<a target=\"_blank\" href=https://colab.research.google.com/notebooks/data_table.ipynb>data table notebook</a>'\n",
              "            + ' to learn more about interactive tables.';\n",
              "          element.innerHTML = '';\n",
              "          dataTable['output_type'] = 'display_data';\n",
              "          await google.colab.output.renderOutput(dataTable, element);\n",
              "          const docLink = document.createElement('div');\n",
              "          docLink.innerHTML = docLinkHtml;\n",
              "          element.appendChild(docLink);\n",
              "        }\n",
              "      </script>\n",
              "    </div>\n",
              "  </div>\n",
              "  "
            ]
          },
          "metadata": {},
          "execution_count": 30
        }
      ]
    },
    {
      "cell_type": "code",
      "source": [
        "# Find the outliers and replace the outliers\n",
        "#Using pandas describe() to find outliers\n",
        "\n",
        "data.describe()[['Tenure','HasCrCard']]"
      ],
      "metadata": {
        "colab": {
          "base_uri": "https://localhost:8080/",
          "height": 300
        },
        "id": "MPJ5p5k7IgFh",
        "outputId": "25aa79d7-bf3c-4677-c9ed-e066d76710b3"
      },
      "execution_count": null,
      "outputs": [
        {
          "output_type": "execute_result",
          "data": {
            "text/plain": [
              "             Tenure    HasCrCard\n",
              "count  10000.000000  10000.00000\n",
              "mean       5.012800      0.70550\n",
              "std        2.892174      0.45584\n",
              "min        0.000000      0.00000\n",
              "25%        3.000000      0.00000\n",
              "50%        5.000000      1.00000\n",
              "75%        7.000000      1.00000\n",
              "max       10.000000      1.00000"
            ],
            "text/html": [
              "\n",
              "  <div id=\"df-b601305e-3d68-4859-a85a-4c51f4b954c7\">\n",
              "    <div class=\"colab-df-container\">\n",
              "      <div>\n",
              "<style scoped>\n",
              "    .dataframe tbody tr th:only-of-type {\n",
              "        vertical-align: middle;\n",
              "    }\n",
              "\n",
              "    .dataframe tbody tr th {\n",
              "        vertical-align: top;\n",
              "    }\n",
              "\n",
              "    .dataframe thead th {\n",
              "        text-align: right;\n",
              "    }\n",
              "</style>\n",
              "<table border=\"1\" class=\"dataframe\">\n",
              "  <thead>\n",
              "    <tr style=\"text-align: right;\">\n",
              "      <th></th>\n",
              "      <th>Tenure</th>\n",
              "      <th>HasCrCard</th>\n",
              "    </tr>\n",
              "  </thead>\n",
              "  <tbody>\n",
              "    <tr>\n",
              "      <th>count</th>\n",
              "      <td>10000.000000</td>\n",
              "      <td>10000.00000</td>\n",
              "    </tr>\n",
              "    <tr>\n",
              "      <th>mean</th>\n",
              "      <td>5.012800</td>\n",
              "      <td>0.70550</td>\n",
              "    </tr>\n",
              "    <tr>\n",
              "      <th>std</th>\n",
              "      <td>2.892174</td>\n",
              "      <td>0.45584</td>\n",
              "    </tr>\n",
              "    <tr>\n",
              "      <th>min</th>\n",
              "      <td>0.000000</td>\n",
              "      <td>0.00000</td>\n",
              "    </tr>\n",
              "    <tr>\n",
              "      <th>25%</th>\n",
              "      <td>3.000000</td>\n",
              "      <td>0.00000</td>\n",
              "    </tr>\n",
              "    <tr>\n",
              "      <th>50%</th>\n",
              "      <td>5.000000</td>\n",
              "      <td>1.00000</td>\n",
              "    </tr>\n",
              "    <tr>\n",
              "      <th>75%</th>\n",
              "      <td>7.000000</td>\n",
              "      <td>1.00000</td>\n",
              "    </tr>\n",
              "    <tr>\n",
              "      <th>max</th>\n",
              "      <td>10.000000</td>\n",
              "      <td>1.00000</td>\n",
              "    </tr>\n",
              "  </tbody>\n",
              "</table>\n",
              "</div>\n",
              "      <button class=\"colab-df-convert\" onclick=\"convertToInteractive('df-b601305e-3d68-4859-a85a-4c51f4b954c7')\"\n",
              "              title=\"Convert this dataframe to an interactive table.\"\n",
              "              style=\"display:none;\">\n",
              "        \n",
              "  <svg xmlns=\"http://www.w3.org/2000/svg\" height=\"24px\"viewBox=\"0 0 24 24\"\n",
              "       width=\"24px\">\n",
              "    <path d=\"M0 0h24v24H0V0z\" fill=\"none\"/>\n",
              "    <path d=\"M18.56 5.44l.94 2.06.94-2.06 2.06-.94-2.06-.94-.94-2.06-.94 2.06-2.06.94zm-11 1L8.5 8.5l.94-2.06 2.06-.94-2.06-.94L8.5 2.5l-.94 2.06-2.06.94zm10 10l.94 2.06.94-2.06 2.06-.94-2.06-.94-.94-2.06-.94 2.06-2.06.94z\"/><path d=\"M17.41 7.96l-1.37-1.37c-.4-.4-.92-.59-1.43-.59-.52 0-1.04.2-1.43.59L10.3 9.45l-7.72 7.72c-.78.78-.78 2.05 0 2.83L4 21.41c.39.39.9.59 1.41.59.51 0 1.02-.2 1.41-.59l7.78-7.78 2.81-2.81c.8-.78.8-2.07 0-2.86zM5.41 20L4 18.59l7.72-7.72 1.47 1.35L5.41 20z\"/>\n",
              "  </svg>\n",
              "      </button>\n",
              "      \n",
              "  <style>\n",
              "    .colab-df-container {\n",
              "      display:flex;\n",
              "      flex-wrap:wrap;\n",
              "      gap: 12px;\n",
              "    }\n",
              "\n",
              "    .colab-df-convert {\n",
              "      background-color: #E8F0FE;\n",
              "      border: none;\n",
              "      border-radius: 50%;\n",
              "      cursor: pointer;\n",
              "      display: none;\n",
              "      fill: #1967D2;\n",
              "      height: 32px;\n",
              "      padding: 0 0 0 0;\n",
              "      width: 32px;\n",
              "    }\n",
              "\n",
              "    .colab-df-convert:hover {\n",
              "      background-color: #E2EBFA;\n",
              "      box-shadow: 0px 1px 2px rgba(60, 64, 67, 0.3), 0px 1px 3px 1px rgba(60, 64, 67, 0.15);\n",
              "      fill: #174EA6;\n",
              "    }\n",
              "\n",
              "    [theme=dark] .colab-df-convert {\n",
              "      background-color: #3B4455;\n",
              "      fill: #D2E3FC;\n",
              "    }\n",
              "\n",
              "    [theme=dark] .colab-df-convert:hover {\n",
              "      background-color: #434B5C;\n",
              "      box-shadow: 0px 1px 3px 1px rgba(0, 0, 0, 0.15);\n",
              "      filter: drop-shadow(0px 1px 2px rgba(0, 0, 0, 0.3));\n",
              "      fill: #FFFFFF;\n",
              "    }\n",
              "  </style>\n",
              "\n",
              "      <script>\n",
              "        const buttonEl =\n",
              "          document.querySelector('#df-b601305e-3d68-4859-a85a-4c51f4b954c7 button.colab-df-convert');\n",
              "        buttonEl.style.display =\n",
              "          google.colab.kernel.accessAllowed ? 'block' : 'none';\n",
              "\n",
              "        async function convertToInteractive(key) {\n",
              "          const element = document.querySelector('#df-b601305e-3d68-4859-a85a-4c51f4b954c7');\n",
              "          const dataTable =\n",
              "            await google.colab.kernel.invokeFunction('convertToInteractive',\n",
              "                                                     [key], {});\n",
              "          if (!dataTable) return;\n",
              "\n",
              "          const docLinkHtml = 'Like what you see? Visit the ' +\n",
              "            '<a target=\"_blank\" href=https://colab.research.google.com/notebooks/data_table.ipynb>data table notebook</a>'\n",
              "            + ' to learn more about interactive tables.';\n",
              "          element.innerHTML = '';\n",
              "          dataTable['output_type'] = 'display_data';\n",
              "          await google.colab.output.renderOutput(dataTable, element);\n",
              "          const docLink = document.createElement('div');\n",
              "          docLink.innerHTML = docLinkHtml;\n",
              "          element.appendChild(docLink);\n",
              "        }\n",
              "      </script>\n",
              "    </div>\n",
              "  </div>\n",
              "  "
            ]
          },
          "metadata": {},
          "execution_count": 31
        }
      ]
    },
    {
      "cell_type": "code",
      "source": [
        "#Find outliers using a histogram\n",
        "\n",
        "#Create a histogram\n",
        "fig = px.histogram(data,x='Tenure')\n",
        "fig.show()"
      ],
      "metadata": {
        "colab": {
          "base_uri": "https://localhost:8080/",
          "height": 542
        },
        "id": "_bLTuu2qJBq5",
        "outputId": "611ee137-1482-4a16-99ad-ae9d473db67c"
      },
      "execution_count": null,
      "outputs": [
        {
          "output_type": "display_data",
          "data": {
            "text/html": [
              "<html>\n",
              "<head><meta charset=\"utf-8\" /></head>\n",
              "<body>\n",
              "    <div>            <script src=\"https://cdnjs.cloudflare.com/ajax/libs/mathjax/2.7.5/MathJax.js?config=TeX-AMS-MML_SVG\"></script><script type=\"text/javascript\">if (window.MathJax) {MathJax.Hub.Config({SVG: {font: \"STIX-Web\"}});}</script>                <script type=\"text/javascript\">window.PlotlyConfig = {MathJaxConfig: 'local'};</script>\n",
              "        <script src=\"https://cdn.plot.ly/plotly-2.8.3.min.js\"></script>                <div id=\"125960c2-3a25-493f-b0bb-3e780febd4ea\" class=\"plotly-graph-div\" style=\"height:525px; width:100%;\"></div>            <script type=\"text/javascript\">                                    window.PLOTLYENV=window.PLOTLYENV || {};                                    if (document.getElementById(\"125960c2-3a25-493f-b0bb-3e780febd4ea\")) {                    Plotly.newPlot(                        \"125960c2-3a25-493f-b0bb-3e780febd4ea\",                        [{\"alignmentgroup\":\"True\",\"bingroup\":\"x\",\"hovertemplate\":\"Tenure=%{x}<br>count=%{y}<extra></extra>\",\"legendgroup\":\"\",\"marker\":{\"color\":\"#636efa\",\"pattern\":{\"shape\":\"\"}},\"name\":\"\",\"offsetgroup\":\"\",\"orientation\":\"v\",\"showlegend\":false,\"x\":[2,1,8,1,2,8,7,4,4,2,6,3,10,5,7,3,1,9,6,6,8,8,4,3,5,3,2,9,3,0,3,7,9,6,9,0,3,7,7,6,4,8,2,2,5,4,9,9,2,2,10,5,5,8,1,1,5,0,4,4,5,9,1,8,4,6,1,10,5,8,2,6,0,5,9,1,8,9,5,10,1,2,3,4,4,10,3,9,4,3,5,7,10,8,4,10,9,8,8,9,6,6,9,7,1,4,1,2,5,9,3,7,2,9,9,9,6,1,8,4,8,6,6,10,3,9,1,0,7,9,3,9,9,1,7,5,5,2,2,1,10,7,5,2,5,5,8,5,9,0,7,9,8,2,6,7,7,2,6,4,6,2,7,2,0,9,7,9,2,9,4,5,10,4,5,7,0,5,8,3,2,2,1,2,4,8,1,0,5,7,8,3,1,8,9,3,6,3,10,6,2,4,5,2,3,3,3,5,5,2,2,8,9,1,4,7,7,9,1,8,9,7,2,10,6,4,9,6,2,3,1,0,1,3,5,6,2,3,2,2,4,5,8,6,7,10,7,1,8,8,5,1,0,2,8,0,10,6,6,3,9,6,6,0,9,9,2,7,7,7,9,3,1,8,4,7,3,10,6,1,8,10,4,7,8,7,5,8,5,10,9,5,7,9,3,2,4,7,0,5,10,6,8,6,4,1,2,7,4,8,4,6,3,0,2,3,2,9,3,4,2,8,1,4,3,4,2,9,1,7,7,1,2,8,6,7,3,2,5,10,6,4,5,8,7,7,9,3,1,5,3,2,7,6,1,0,8,9,1,3,3,2,9,9,9,3,9,8,2,2,4,1,0,1,7,8,10,4,2,2,9,7,10,8,3,9,6,2,2,10,7,3,9,8,0,2,3,8,9,1,1,4,8,6,8,9,9,4,10,3,10,1,3,9,8,8,5,9,6,6,3,2,7,4,9,9,10,0,9,1,3,2,0,8,8,3,4,10,2,3,3,9,7,2,3,1,2,4,6,6,7,9,7,3,6,5,3,3,1,8,1,3,3,4,4,9,9,5,8,3,10,1,2,8,1,6,1,8,7,4,6,5,8,9,9,0,7,3,2,9,1,2,4,6,2,8,6,5,8,8,4,5,5,9,4,5,7,6,5,2,10,6,5,6,3,9,10,7,4,6,1,7,5,8,3,2,2,8,3,1,2,4,6,10,7,1,10,9,5,1,8,9,4,0,7,2,0,7,7,1,3,6,10,7,3,3,5,3,3,5,7,1,8,1,6,4,2,1,5,7,1,1,9,10,3,8,3,4,6,2,8,2,3,9,1,2,9,5,1,6,7,8,9,4,4,2,9,9,5,4,8,7,9,5,10,9,4,10,5,2,10,6,2,1,8,0,6,8,7,8,9,10,5,3,2,7,1,2,1,3,1,6,10,3,6,5,1,1,10,4,5,5,1,5,9,8,3,7,4,6,4,7,3,4,8,8,6,1,9,6,3,8,2,4,1,9,3,3,3,5,3,9,0,6,5,5,4,7,1,3,5,5,4,8,9,2,2,5,7,5,1,1,8,6,2,6,1,1,2,0,5,7,2,1,2,5,4,4,8,3,0,6,1,3,3,9,4,5,10,5,2,6,1,2,3,10,9,7,5,1,6,10,3,9,7,6,6,2,6,8,7,8,7,2,8,5,2,5,2,4,0,9,7,2,5,9,2,2,9,5,5,5,6,1,2,2,2,9,2,1,2,4,2,3,6,7,7,9,8,8,8,1,2,8,7,5,1,2,0,8,2,3,6,1,1,8,9,3,6,9,7,0,7,9,4,9,0,5,10,6,10,7,3,8,2,5,8,2,9,6,4,5,8,9,4,8,5,1,2,10,6,5,1,3,6,2,3,5,3,4,6,1,8,5,3,7,6,5,1,0,1,1,8,6,8,4,5,7,9,1,8,2,7,6,4,10,1,1,6,4,8,7,2,7,5,9,1,4,3,9,6,4,6,4,7,7,0,2,3,8,8,2,9,3,8,5,8,6,2,2,1,7,7,5,4,9,6,1,10,7,6,6,4,1,10,6,6,3,3,9,5,1,5,1,9,1,3,5,8,7,6,9,8,1,9,3,8,5,4,10,1,8,6,8,8,5,4,5,4,3,8,8,9,0,2,4,0,8,8,6,1,4,7,4,4,5,6,9,3,9,10,3,5,7,5,8,8,4,8,7,0,0,7,6,1,9,1,0,7,3,5,2,3,7,9,9,3,7,4,1,8,10,1,3,7,5,6,7,6,0,10,3,4,4,3,5,7,7,5,1,6,6,1,3,4,4,6,0,9,10,1,3,4,1,3,0,2,1,1,3,3,5,7,1,4,6,1,4,5,3,4,2,3,6,7,3,3,1,8,7,8,4,9,5,4,4,10,4,6,7,5,8,6,6,7,6,8,3,8,10,7,8,0,5,8,5,2,10,2,3,4,7,4,4,0,4,3,6,4,7,2,9,7,2,7,3,2,1,7,4,0,1,3,8,8,5,8,1,7,2,4,4,1,1,7,1,8,3,2,7,1,9,0,4,2,6,5,4,9,1,5,5,9,9,4,8,3,5,3,4,6,4,2,7,2,3,3,1,9,10,8,6,9,5,0,5,1,10,2,8,6,0,3,3,5,5,9,1,4,1,6,7,5,1,7,3,3,9,2,5,1,3,4,6,7,2,4,6,9,7,6,2,5,2,7,10,5,4,6,7,7,5,6,4,6,8,5,3,5,5,7,2,1,1,8,6,6,7,3,6,2,4,9,4,7,6,0,5,3,7,9,1,4,6,0,10,7,6,3,4,5,10,4,4,1,3,9,3,3,1,5,6,1,7,9,8,3,2,6,4,7,2,7,5,6,9,5,7,7,6,4,8,8,7,7,5,5,9,7,10,9,2,7,2,0,3,2,5,10,8,1,3,2,9,0,10,3,2,10,8,2,7,8,3,2,5,4,3,5,2,7,6,2,7,2,8,3,3,3,6,8,7,3,8,1,9,5,10,5,7,2,7,4,3,6,6,5,2,7,3,3,9,5,7,7,6,4,3,9,0,3,4,10,4,3,8,7,7,4,8,7,8,8,9,3,6,8,6,4,10,3,5,3,10,8,8,7,4,0,2,9,4,8,2,9,7,0,4,3,5,9,2,8,6,4,6,2,2,9,5,7,4,4,10,5,7,8,2,9,2,5,5,9,1,8,2,4,9,5,8,3,2,4,1,9,8,1,9,9,7,10,6,8,6,10,7,2,5,4,6,3,10,3,7,7,2,8,4,2,10,10,4,1,5,6,3,7,0,3,1,1,4,1,8,6,8,5,2,5,8,5,8,8,1,1,10,4,4,6,8,8,7,9,3,6,7,8,9,7,8,1,7,5,5,8,4,10,3,6,6,2,0,10,2,8,6,7,6,8,3,5,6,1,8,6,4,8,8,5,8,2,6,1,3,4,9,8,8,4,8,1,5,4,6,7,6,1,2,8,4,2,7,1,8,4,7,10,2,1,0,10,4,6,5,8,1,9,6,8,1,1,5,3,6,10,2,9,8,7,8,6,7,1,8,3,6,4,7,7,7,5,6,3,7,6,4,7,5,8,1,2,8,4,8,1,9,2,4,2,8,0,9,3,3,9,6,4,4,8,10,1,5,4,2,10,3,0,5,9,5,8,1,3,7,5,7,6,0,9,8,5,2,3,4,7,3,5,7,8,4,6,9,5,1,8,9,6,6,2,9,7,0,7,4,4,1,5,8,10,7,3,2,6,1,7,10,8,8,4,1,6,3,0,5,7,0,5,4,1,8,3,8,7,8,9,7,8,8,7,8,8,9,5,1,4,4,0,5,2,2,8,5,1,9,6,9,9,3,8,1,3,7,5,6,5,2,5,4,5,0,7,4,5,7,3,8,0,9,8,7,7,4,1,6,7,2,1,9,2,9,7,7,2,10,5,7,2,1,5,9,5,4,1,7,1,6,3,7,1,2,4,1,4,1,7,8,5,4,5,2,8,0,6,1,8,3,2,1,8,6,3,8,7,1,1,5,9,4,4,10,3,7,8,1,5,7,7,2,5,6,0,0,7,9,2,9,3,3,5,8,9,1,4,8,4,4,9,7,9,8,5,7,0,8,5,6,6,7,0,9,5,3,8,1,2,9,7,0,8,8,5,4,10,4,4,9,2,1,4,9,8,2,9,8,7,7,9,3,8,7,6,2,10,1,5,5,9,9,7,9,9,2,2,7,6,6,7,8,7,9,4,1,8,3,7,7,3,0,5,6,8,5,10,2,1,9,4,3,6,3,0,9,4,6,2,7,1,3,3,7,7,5,9,2,8,3,1,8,3,3,6,4,5,7,5,3,9,3,3,7,7,3,6,6,9,5,3,1,9,2,10,8,9,10,5,3,4,6,6,8,1,5,8,8,5,9,8,5,9,5,10,4,0,4,4,5,6,1,5,8,9,1,6,4,1,9,2,4,8,0,1,2,6,8,7,5,2,1,5,3,1,3,2,0,8,3,7,10,6,5,8,9,9,4,3,2,4,4,3,3,6,3,4,1,6,9,9,7,9,4,2,3,5,8,4,8,6,7,0,6,5,1,3,5,2,9,8,2,5,1,8,1,4,8,5,9,6,9,3,4,6,6,3,1,6,8,9,9,2,8,4,5,4,2,1,9,6,6,2,6,3,9,7,1,5,5,0,7,9,1,9,5,3,4,1,7,9,1,2,6,4,8,6,3,5,7,1,3,5,5,10,7,4,6,8,4,7,2,7,5,4,2,9,2,7,6,9,9,8,4,6,2,6,6,1,9,4,1,3,2,8,7,6,9,1,4,5,2,7,4,10,7,9,8,10,6,5,3,7,3,5,6,2,6,8,7,9,1,2,8,4,9,2,0,4,9,2,4,1,3,7,5,9,9,1,1,9,8,8,2,5,6,8,9,2,9,2,2,8,6,8,4,9,9,3,2,1,1,2,9,1,0,8,4,4,9,5,2,9,6,5,6,2,8,9,3,2,6,8,5,8,2,8,0,10,6,3,2,2,3,6,3,2,6,6,10,6,2,1,9,8,8,7,7,6,1,2,4,5,4,9,1,2,2,0,5,4,4,9,4,8,5,4,7,9,6,2,6,5,9,7,5,1,9,7,3,5,4,7,8,2,8,2,0,9,7,9,9,2,2,10,8,4,0,7,0,2,6,4,9,6,9,5,9,3,6,5,2,2,9,5,6,1,6,2,10,7,5,2,3,5,0,6,8,1,6,7,9,3,5,0,7,5,5,4,9,4,7,3,5,3,7,2,7,2,1,4,4,1,3,5,5,4,9,2,5,9,9,10,7,2,9,1,3,4,6,9,9,4,9,4,7,1,9,10,4,4,4,4,1,7,3,4,4,9,8,3,10,8,7,4,3,3,4,8,9,8,0,7,2,1,9,2,8,9,6,9,8,6,0,7,2,4,10,2,4,3,5,2,8,4,4,3,6,2,8,4,8,1,6,7,10,1,0,4,5,8,2,10,5,10,5,0,9,1,5,4,1,10,9,1,8,9,2,4,10,3,4,9,6,3,9,6,4,8,10,9,8,5,8,2,1,4,3,6,6,7,3,1,6,4,4,3,10,5,2,4,3,8,8,10,5,0,6,0,4,8,1,2,10,2,7,1,10,4,4,6,2,2,0,7,4,1,1,4,10,6,6,8,10,3,4,2,5,5,1,3,0,6,6,8,3,9,1,5,0,1,0,4,8,0,3,7,8,2,9,4,4,8,2,6,1,9,5,6,4,6,1,6,2,5,7,9,2,9,5,4,8,1,0,6,0,5,7,0,9,6,8,5,8,7,2,6,7,6,10,4,2,1,7,10,9,0,7,5,5,3,1,1,2,4,3,3,7,3,9,9,6,1,8,6,5,0,9,3,5,2,6,2,3,3,1,2,1,9,4,2,0,9,3,8,6,5,4,5,5,5,9,4,6,5,4,0,3,3,2,5,9,2,4,2,2,8,2,3,9,7,3,2,5,9,7,2,2,7,5,1,10,10,4,5,5,3,9,7,6,0,3,4,8,2,1,8,2,3,8,0,7,5,8,4,2,4,7,2,4,9,3,1,4,1,9,9,9,8,1,3,6,3,9,8,3,9,8,8,4,3,2,10,1,3,7,1,5,7,2,8,4,3,7,4,8,2,4,7,9,8,10,8,6,9,8,8,6,0,7,1,4,6,7,2,6,3,6,7,9,1,10,4,1,5,7,6,1,1,3,7,8,10,9,8,9,8,6,5,7,9,6,1,0,4,3,2,5,8,7,6,2,6,8,9,8,4,7,2,5,0,3,7,2,10,9,2,7,2,1,4,8,4,5,1,10,3,5,9,1,4,7,9,6,1,0,4,8,9,6,8,6,2,1,4,5,2,6,2,10,4,7,5,9,5,5,6,4,1,5,3,3,3,4,7,6,8,9,8,6,9,1,8,9,1,0,3,1,9,7,7,5,1,6,8,2,3,8,3,5,6,1,2,9,5,5,3,9,3,7,2,9,6,7,8,2,1,7,3,7,6,0,9,6,2,8,1,6,7,1,2,6,4,9,4,8,6,4,6,9,8,6,0,4,7,7,9,8,7,8,10,6,5,2,5,9,9,9,7,4,1,7,1,4,0,7,10,6,5,1,8,10,2,9,7,7,9,3,1,5,5,5,7,7,7,2,9,9,9,6,4,9,1,1,3,2,3,8,9,8,0,1,1,1,2,8,5,8,3,2,7,7,5,1,5,4,2,6,5,4,1,5,10,1,2,8,9,4,3,8,10,2,8,7,6,3,7,2,5,6,7,3,2,10,1,4,3,10,2,9,1,1,9,8,4,7,10,1,2,1,3,7,1,4,5,1,2,5,1,4,1,1,8,8,7,3,9,7,6,8,5,10,7,7,2,7,8,0,6,10,2,6,6,1,3,2,5,4,8,3,8,2,5,8,3,2,2,5,3,7,8,3,3,8,3,9,3,10,5,4,6,2,1,10,8,1,7,7,10,4,7,3,6,5,7,3,4,8,6,4,7,8,6,9,5,3,4,1,5,10,0,10,2,3,4,2,7,8,1,2,8,6,6,8,9,3,9,6,7,7,8,5,3,4,5,9,7,8,5,6,4,7,0,5,2,3,1,3,6,7,1,7,4,5,10,9,1,6,9,9,10,8,4,2,6,5,8,1,3,0,4,4,1,1,4,6,4,3,3,8,9,2,8,7,1,1,10,1,9,8,6,4,10,10,7,2,1,2,2,0,1,9,10,5,6,6,5,6,1,9,0,7,6,6,0,8,10,7,2,3,6,7,5,3,8,0,10,5,4,4,7,3,7,2,2,3,6,2,5,2,1,3,5,7,7,9,4,4,6,3,1,2,7,7,3,2,2,4,9,9,1,1,6,8,9,8,1,3,0,9,10,2,10,9,0,5,4,3,8,8,3,7,10,2,3,3,7,6,3,6,5,3,6,1,2,9,8,1,8,7,4,5,2,3,4,5,3,5,5,6,10,4,3,4,5,3,6,3,8,7,4,1,6,5,2,9,2,7,2,5,10,5,5,4,7,7,9,2,1,5,2,0,5,8,6,6,4,2,2,4,4,3,5,7,3,6,5,9,9,7,6,8,7,4,7,3,8,6,6,5,4,2,9,6,3,4,5,7,2,9,7,3,9,7,1,8,6,3,2,6,9,10,2,10,1,0,1,8,5,4,10,9,4,9,1,3,5,6,4,4,8,3,3,7,2,2,8,4,5,1,9,8,5,10,3,0,3,9,1,8,6,8,9,10,5,4,1,8,7,2,4,1,1,3,2,3,9,0,6,4,1,7,3,7,0,9,3,6,2,3,10,7,3,10,6,6,7,3,7,4,1,1,7,10,5,10,2,5,3,1,10,9,3,1,2,5,3,10,2,8,7,1,5,5,10,4,9,6,7,4,9,7,5,5,5,8,0,5,4,5,7,7,2,6,5,4,4,8,1,8,6,6,5,5,4,6,3,4,1,1,6,1,4,7,8,10,9,8,5,5,3,2,3,8,2,6,3,4,4,9,8,2,1,9,5,5,4,8,8,7,4,2,3,4,3,2,5,10,9,5,0,1,8,7,6,6,2,7,4,10,1,5,7,6,1,8,3,6,0,9,6,4,8,0,4,9,8,6,1,4,6,7,8,8,9,5,3,8,7,5,4,0,5,8,0,3,6,3,3,3,9,2,8,4,3,10,8,0,8,6,6,7,3,9,2,7,5,5,0,9,9,4,2,2,4,6,6,7,9,1,2,2,10,7,3,2,8,9,2,5,2,2,1,5,6,5,4,4,4,10,7,10,3,10,6,2,8,5,7,3,6,3,7,10,1,8,1,0,3,0,2,0,8,1,8,9,4,2,9,1,7,7,5,2,3,7,6,9,2,10,8,8,2,1,7,9,6,6,3,1,5,9,10,8,2,2,2,6,8,1,5,6,4,9,7,10,2,3,8,8,4,4,2,5,1,8,7,3,1,5,2,2,3,0,5,2,2,8,9,3,9,4,2,4,0,3,7,5,4,8,7,3,0,5,2,6,9,4,1,0,10,3,0,1,6,9,7,5,7,0,9,6,10,3,9,5,0,8,2,8,4,3,7,1,10,5,1,6,6,7,5,6,4,2,1,2,8,1,6,8,7,6,4,1,3,1,9,9,9,3,0,7,9,5,6,3,3,3,5,6,6,2,4,7,8,7,6,4,5,9,2,4,6,9,8,3,6,1,6,6,8,5,0,2,9,5,6,5,2,3,9,5,2,2,9,2,1,9,8,4,8,4,1,6,3,4,2,5,2,2,6,6,1,7,3,3,3,7,0,5,6,1,5,6,9,8,5,5,1,3,4,1,1,9,5,9,5,5,8,10,5,10,9,5,5,9,7,3,9,2,0,5,5,7,0,10,2,8,4,8,4,10,4,2,6,7,5,3,8,3,7,9,6,7,0,1,4,2,8,6,8,7,8,7,10,7,0,3,8,7,5,10,5,1,5,5,8,1,4,2,6,7,3,1,9,4,4,1,2,1,6,9,3,2,4,6,0,8,7,8,10,5,8,4,6,7,9,6,4,2,2,5,6,2,8,2,5,1,8,5,9,2,7,4,9,9,10,5,3,6,3,6,8,10,4,6,8,5,10,1,1,4,3,3,1,4,9,0,2,5,1,3,1,4,2,5,6,4,4,4,4,3,2,6,8,2,4,1,10,5,10,7,5,9,9,4,3,0,6,6,10,3,9,1,6,1,9,4,3,5,3,5,9,7,1,7,10,1,5,9,10,9,5,7,2,9,6,3,5,3,2,3,8,7,7,0,5,2,8,2,2,6,6,1,6,6,8,8,3,8,8,5,0,3,7,4,5,7,1,7,5,8,8,10,3,6,2,3,4,0,8,7,1,2,10,4,5,2,8,8,4,5,9,4,3,1,2,0,9,2,7,2,1,8,5,7,9,7,2,5,8,7,5,9,2,0,4,8,7,1,9,5,9,1,1,5,6,8,2,8,8,6,9,9,10,3,5,3,7,6,4,9,6,3,2,0,5,5,1,8,8,5,8,3,5,2,7,1,8,4,9,1,7,3,2,8,8,10,8,4,8,3,8,4,7,5,3,5,0,7,4,2,4,3,7,4,10,7,2,5,3,1,4,1,5,10,2,3,3,8,9,9,7,8,3,1,2,3,7,2,4,9,7,5,5,1,4,10,5,1,7,9,10,7,7,4,8,3,5,1,3,1,6,3,3,3,2,6,3,5,9,5,2,1,8,3,6,5,10,3,7,8,2,3,6,1,7,4,4,4,7,8,1,2,8,9,3,10,8,2,6,0,5,2,4,2,0,2,2,8,5,9,0,7,7,7,9,4,0,2,2,1,1,7,3,7,0,6,6,6,4,8,8,9,6,2,10,2,2,9,7,1,7,6,9,5,2,5,8,0,3,4,10,3,6,1,8,3,1,1,6,7,5,7,4,6,4,6,3,1,7,0,0,7,9,3,1,0,7,1,3,7,1,3,2,4,8,8,6,8,8,1,2,10,5,3,8,1,6,2,2,1,0,5,1,8,6,4,3,8,1,9,4,2,0,3,1,8,1,9,3,3,6,8,1,3,0,1,6,7,6,1,2,4,9,2,5,7,7,5,3,2,1,1,9,2,2,8,8,8,8,7,7,7,10,7,5,4,8,9,9,1,6,8,7,6,0,6,2,9,7,5,1,7,1,7,9,10,8,3,5,9,1,9,3,4,2,1,7,6,1,3,1,7,0,4,1,3,4,2,4,4,8,7,9,8,7,3,9,1,7,3,1,1,6,2,4,8,9,8,0,6,6,7,6,1,8,7,1,2,6,4,9,3,5,8,1,1,5,8,10,3,8,1,8,3,7,7,1,1,3,10,1,0,2,2,5,3,1,10,3,7,1,8,2,8,5,8,3,2,2,3,7,8,9,3,3,0,5,3,8,4,4,1,2,7,3,3,5,9,8,4,8,2,0,0,6,0,10,3,5,3,7,3,2,6,1,2,1,9,3,10,8,3,3,2,7,1,1,1,2,2,5,0,6,4,9,7,7,1,0,4,2,5,0,10,0,8,0,10,4,8,6,1,3,3,3,0,9,1,10,8,8,1,3,4,0,8,6,7,7,1,5,4,1,3,1,1,4,2,0,6,1,6,6,2,8,8,1,1,9,6,7,4,5,8,8,2,2,2,1,8,7,3,1,3,1,0,3,1,9,9,3,1,5,3,6,1,7,5,7,1,2,1,8,7,8,5,7,3,2,1,9,2,8,2,4,6,5,9,1,1,6,1,6,5,3,5,2,1,1,2,0,3,4,7,6,3,8,6,8,7,1,4,3,3,2,6,5,5,10,4,9,5,4,7,7,10,2,4,10,3,9,5,2,5,7,2,2,2,7,5,1,6,9,0,3,6,2,5,8,0,10,4,4,9,1,10,9,4,3,3,6,4,1,3,3,7,8,9,8,7,8,3,4,6,10,8,2,5,5,0,9,8,4,5,10,5,8,7,5,2,7,9,7,0,2,3,7,3,3,2,2,6,9,1,0,1,10,1,6,7,2,10,2,8,5,2,5,3,6,9,7,1,6,6,0,1,2,6,1,3,10,5,0,9,1,7,5,2,8,6,4,1,6,7,9,1,9,3,2,3,6,5,10,0,2,0,3,1,9,8,3,1,2,2,2,4,2,6,7,8,7,4,10,6,7,4,4,4,4,7,3,9,8,8,9,6,9,4,9,1,7,3,9,4,7,7,3,5,0,7,4,4,7,8,5,3,5,6,8,6,8,4,1,9,2,10,0,3,10,8,4,5,8,7,3,8,2,5,3,7,2,5,7,8,3,2,3,3,3,8,2,10,1,8,0,2,4,1,2,3,9,4,4,1,10,7,9,10,2,8,5,9,6,5,8,9,0,8,7,10,6,5,10,6,4,9,1,8,2,9,4,9,9,5,0,2,0,5,7,8,9,9,5,2,9,3,7,3,1,9,9,6,8,1,4,1,8,1,4,10,3,3,5,0,2,8,7,8,5,8,3,2,9,7,9,6,10,4,10,6,6,4,4,9,5,2,3,1,2,9,3,1,0,3,10,9,4,3,5,0,9,9,6,9,7,10,4,7,6,7,8,7,4,2,2,9,7,9,6,5,7,6,8,5,2,1,4,9,9,2,4,5,5,1,8,9,4,2,7,8,1,3,9,1,6,1,8,8,3,10,7,2,7,4,5,4,3,3,3,5,4,7,9,4,7,7,3,7,1,3,10,8,5,6,5,4,1,9,2,8,3,3,1,1,0,10,5,7,2,5,3,9,9,5,7,9,8,1,1,1,1,2,3,9,8,1,5,5,7,4,1,6,9,6,6,9,8,8,4,1,0,7,3,3,8,4,3,1,1,1,2,5,9,2,6,10,9,6,6,8,6,1,6,2,9,9,6,1,9,7,1,5,9,0,8,5,10,5,5,1,0,1,3,0,7,5,5,0,6,8,2,3,9,2,3,1,2,8,4,5,9,4,0,4,1,7,5,6,1,1,3,3,9,2,1,6,4,1,2,5,7,1,10,9,1,5,2,2,5,5,3,8,6,3,5,6,10,7,1,1,2,7,0,9,6,4,1,6,9,10,1,4,1,8,2,8,0,5,9,7,3,8,5,10,4,7,4,2,6,1,0,7,4,7,2,6,1,1,8,1,3,4,5,7,1,6,9,8,1,3,2,7,7,8,0,2,5,4,2,6,7,4,2,1,10,1,5,2,8,9,5,7,6,4,1,4,5,9,9,10,2,7,5,2,5,6,2,1,3,1,5,4,1,10,4,3,9,5,1,2,9,3,8,1,2,1,2,4,5,9,7,8,2,6,7,9,8,10,1,8,3,8,9,8,3,10,2,7,0,3,3,9,1,0,2,8,6,2,3,8,6,1,6,1,6,4,0,10,4,2,4,8,6,3,9,4,8,8,3,10,9,3,0,3,2,3,6,6,9,7,2,3,6,10,3,3,0,6,6,5,3,5,4,2,9,5,2,5,3,1,7,0,2,3,6,8,9,2,4,5,5,8,2,5,3,8,9,2,2,1,6,9,10,5,6,7,6,4,9,6,7,5,7,9,1,1,0,5,8,7,1,4,5,6,1,7,3,8,2,4,10,7,6,4,10,6,1,7,7,4,3,4,9,5,5,2,2,1,3,8,7,8,2,2,4,6,8,5,9,5,7,6,10,0,9,2,3,1,9,0,9,2,4,5,7,2,4,9,7,8,7,7,8,6,5,5,8,3,6,9,9,4,6,2,9,1,3,3,6,6,6,4,4,5,6,4,6,7,7,5,9,6,3,4,7,8,6,5,9,9,3,9,5,2,9,10,10,9,1,5,7,1,6,5,3,6,5,1,8,8,10,10,4,7,8,7,8,4,3,2,8,1,8,9,2,0,1,3,7,8,8,8,9,6,3,6,9,9,7,3,4,8,7,3,5,6,0,3,5,2,2,0,8,1,8,8,1,9,8,8,0,2,10,6,8,7,2,4,5,4,10,1,7,6,5,8,5,8,4,10,0,3,9,1,10,2,5,1,1,9,2,4,7,6,3,5,1,4,1,9,6,5,4,7,2,7,1,8,0,9,8,9,4,8,6,9,2,5,10,6,3,0,4,1,9,4,5,9,1,4,0,2,6,3,3,5,5,1,6,7,10,7,4,3,4,3,9,4,8,3,5,2,2,2,7,9,2,6,2,6,10,6,0,0,9,2,10,3,5,0,3,2,4,1,3,10,1,7,1,2,2,2,4,1,9,4,6,5,4,7,9,6,6,4,6,2,7,10,2,1,2,8,6,10,3,9,1,8,7,3,8,3,5,7,2,4,9,2,9,8,7,4,6,0,0,7,4,3,9,7,7,8,8,7,10,7,0,9,4,6,3,7,6,5,0,7,6,9,9,2,1,7,1,5,9,5,8,6,10,6,3,0,7,7,9,6,4,7,8,7,2,10,9,3,2,7,10,5,4,4,0,6,10,5,2,7,10,9,5,3,5,5,1,1,3,4,9,4,7,2,7,9,2,4,7,0,6,3,1,3,5,9,8,2,4,5,8,1,4,5,7,5,4,8,1,6,0,1,2,9,6,0,6,4,1,4,0,9,6,4,9,3,7,5,8,7,2,7,0,6,4,2,4,8,9,5,5,3,3,2,4,9,2,8,8,1,9,7,3,9,7,2,7,2,3,7,10,8,4,9,5,9,2,6,6,10,9,0,3,5,3,3,9,9,1,2,5,7,0,2,5,1,7,8,3,6,7,7,5,2,1,4,2,9,9,4,8,8,6,3,9,4,8,1,1,10,3,7,3,2,9,6,8,10,2,5,3,4,8,3,0,5,1,8,5,7,7,8,2,7,10,9,2,3,5,1,1,4,8,3,4,4,4,10,9,3,4,6,5,3,5,3,4,3,7,2,0,7,5,2,0,8,3,5,8,2,1,4,7,9,10,9,3,7,2,6,9,6,1,2,10,1,10,0,2,0,8,9,6,3,5,7,4,1,1,2,6,2,3,1,3,6,1,1,8,1,4,8,4,1,3,0,10,8,3,5,1,4,1,9,2,9,10,8,1,3,9,6,7,9,5,1,9,6,1,2,3,9,6,3,3,9,4,4,5,2,8,7,9,2,8,4,8,7,1,9,7,1,0,1,2,7,3,6,4,4,2,7,9,4,5,9,4,8,9,3,10,9,6,7,9,3,5,0,2,8,0,5,8,3,7,2,6,8,4,8,6,1,4,1,8,8,8,1,10,6,3,4,1,8,8,7,1,3,9,8,5,4,9,3,2,9,1,0,8,4,6,5,9,9,0,2,2,5,2,2,1,5,5,9,2,7,1,3,5,6,7,1,7,9,3,9,7,5,3,4,2,0,2,9,9,9,5,10,3,0,2,7,4,8,4,9,1,1,5,4,2,9,6,6,8,6,0,8,9,8,5,3,7,2,5,6,3,1,3,5,8,4,2,4,3,1,10,1,5,3,6,1,9,3,6,2,6,6,5,5,0,9,10,6,1,5,4,4,1,1,2,6,4,7,6,4,5,5,10,8,2,5,4,4,9,5,6,8,4,3,2,5,5,2,9,3,2,6,5,9,7,5,4,9,5,9,5,9,2,6,1,2,1,6,6,1,8,4,7,9,7,2,7,9,4,4,10,4,1,4,1,4,7,3,9,10,9,8,4,8,9,6,7,3,4,1,3,5,7,1,3,2,0,4,7,6,3,5,5,1,4,5,1,5,0,4,1,7,3,4,0,2,0,1,8,1,4,10,8,3,9,6,5,4,9,7,6,6,7,8,9,5,7,2,5,7,0,7,6,1,3,7,5,5,2,6,2,8,1,10,6,5,6,9,6,2,3,5,3,7,1,8,8,1,3,5,5,0,1,3,7,6,7,6,6,5,3,3,5,7,1,5,2,3,4,6,5,7,6,1,3,4,2,8,1,7,10,10,5,8,8,7,1,4,5,4,5,4,1,4,7,8,3,8,5,9,10,3,0,8,2,5,8,8,1,4,8,7,5,5,3,8,3,7,6,7,8,8,5,9,9,2,3,1,6,3,10,7,7,8,3,5,0,8,7,0,2,3,4,0,3,10,4,5,2,4,7,3,5,2,8,8,8,9,10,10,9,4,9,4,0,4,1,2,9,8,2,9,1,9,4,3,3,3,10,9,2,2,7,7,3,3,9,2,1,1,5,4,5,7,6,7,5,7,6,7,2,7,6,4,9,5,8,7,6,2,2,3,10,4,9,5,1,10,6,0,6,7,3,7,9,6,8,2,6,6,8,8,9,7,7,1,1,6,9,5,9,5,3,3,6,0,5,10,3,5,3,7,0,10,9,1,1,10,9,9,9,8,2,10,8,6,6,9,6,6,7,3,1,1,8,5,5,3,1,1,1,9,4,1,5,2,1,1,4,3,6,5,9,6,3,0,8,1,4,2,0,3,7,9,3,7,10,9,0,7,2,3,1,9,8,1,2,8,4,6,1,7,8,5,8,6,7,6,2,2,4,0,7,3,6,1,3,5,5,5,1,3,10,7,7,2,8,4,0,7,3,7,2,5,1,9,1,5,0,1,3,1,9,7,2,1,2,4,4,9,1,6,8,4,7,6,7,7,3,2,6,8,1,5,7,8,4,7,4,3,7,1,3,8,6,5,6,9,7,6,7,9,9,8,8,2,9,5,7,7,10,4,4,5,8,9,1,5,1,4,3,9,7,1,4,1,2,5,5,4,9,5,10,2,8,1,6,5,5,6,8,1,8,8,2,6,1,5,9,2,7,4,3,9,5,3,2,4,7,4,8,0,4,4,1,7,3,8,0,1,2,2,1,2,3,6,2,2,6,6,6,1,5,6,6,9,8,8,4,4,1,9,4,2,3,8,1,4,3,2,3,5,9,1,5,7,4,7,1,9,10,8,5,10,6,6,3,8,4,2,1,7,3,4,3,1,3,7,4,5,8,10,2,8,4,5,5,1,2,8,9,6,2,3,1,4,6,5,8,7,3,6,10,3,4,4,4,3,1,3,2,8,8,1,5,2,0,8,6,1,6,1,2,7,0,4,5,1,8,4,4,4,8,3,9,7,6,10,8,6,3,6,9,3,5,10,8,7,7,5,0,6,8,1,9,5,8,3,5,7,8,7,6,7,0,3,8,9,4,9,8,9,9,2,8,6,5,10,6,7,1,5,8,1,10,9,1,4,4,6,9,4,5,8,1,2,8,1,7,4,9,6,4,9,8,7,0,2,2,6,2,10,4,1,5,5,7,7,7,8,7,5,7,5,7,2,5,3,2,7,6,9,7,0,2,0,2,5,8,7,7,1,4,2,3,7,10,9,6,7,1,7,0,6,6,9,2,0,4,1,7,9,7,3,4,3,4,3,4,7,4,4,3,2,2,7,8,4,9,6,1,1,6,0,8,7,2,8,6,7,6,1,0,4,2,6,2,5,1,5,1,9,1,8,10,2,7,4,1,5,8,4,6,2,6,4,7,8,8,0,4,7,4,7,2,5,6,7,2,6,7,5,4,4,1,5,8,7,6,4,6,4,6,4,5,10,8,10,3,4,4,10,9,7,1,6,6,0,8,1,7,8,6,7,7,4,2,8,9,5,3,5,6,7,8,7,5,4,1,7,1,9,7,6,1,8,4,4,2,9,5,6,7,4,2,6,8,5,4,3,9,1,7,2,1,3,4,8,9,6,0,3,2,2,1,5,6,9,4,6,6,5,5,2,4,4,3,8,7,2,5,8,8,1,0,4,8,2,5,4,6,4,9,0,9,3,4,10,2,8,4,8,6,4,4,1,2,0,4,8,6,7,5,5,9,5,8,4,4,6,2,4,10,10,1,2,8,7,8,6,4,8,10,7,2,4,4,9,4,9,1,0,6,2,9,0,8,7,2,7,8,1,6,2,8,9,1,0,5,1,8,6,1,0,1,10,1,6,6,2,1,4,4,1,3,7,10,4,9,10,7,2,9,8,6,3,3,9,0,2,6,4,6,7,1,10,4,5,4,8,7,8,8,8,1,5,4,3,1,10,3,9,10,8,9,1,10,7,1,0,8,1,3,7,8,6,10,4,7,7,1,9,9,4,6,6,3,5,5,0,5,7,5,7,7,6,4,7,7,2,9,5,6,5,1,3,3,3,8,3,8,7,4,0,9,2,8,6,3,6,2,9,1,4,9,9,10,0,5,3,8,5,2,5,4,4,8,7,3,10,5,2,10,9,8,0,6,1,6,7,5,10,1,2,8,5,7,4,7,9,7,2,8,4,1,3,9,5,4,6,1,3,5,5,4,10,8,3,9,9,4,3,8,2,9,9,5,5,8,1,3,9,3,8,9,1,9,2,5,1,2,1,9,6,3,5,6,7,8,2,10,8,2,1,3,6,3,4,6,5,8,1,3,7,0,5,8,6,9,1,0,6,3,10,6,8,7,6,3,1,6,3,2,1,2,7,2,1,9,7,3,1,4,7,5,10,10,0,2,0,10,7,8,6,2,9,10,9,2,3,3,6,8,4,2,7,3,5,3,5,1,7,9,8,9,3,4,3,7,2,2,2,8,3,3,8,2,9,8,0,5,2,2,7,8,4,2,10,9,8,9,2,3,6,9,8,4,2,8,3,4,7,7,5,1,0,3,0,10,7,0,6,3,7,7,8,7,6,3,3,9,1,5,8,2,9,6,3,4,8,8,3,10,5,5,1,0,2,10,6,9,9,1,6,6,0,8,2,0,9,7,2,5,8,1,10,1,6,4,7,1,3,9,10,0,10,3,2,4,5,6,1,2,6,9,1,6,9,5,8,5,7,6,5,2,7,5,1,4,4,7,1,8,7,6,6,2,3,2,10,6,2,1,1,1,8,6,5,3,1,10,0,2,3,7,5,5,3,6,8,4,2,3,6,0,4,4,9,8,2,6,10,5,7,2,3,4,10,2,7,7,9,1,9,6,2,3,5,8,8,5,9,7,4,1,1,5,6,3,5,8,9,1,6,5,1,8,4,10,1,10,2,10,2,2,1,2,5,3,8,2,6,3,1,10,9,8,4,8,8,3,6,5,6,9,8,1,10,5,4,10,1,6,4,9,3,3,5,6,3,2,1,9,3,1,8,7,2,2,6,6,9,6,6,9,3,5,5,4,9,1,1,4,5,7,8,9,4,8,6,3,6,3,7,4,0,6,1,9,2,1,2,1,5,2,6,6,0,2,2,6,5,2,1,6,2,10,3,6,0,10,3,2,6,2,6,9,6,7,5,5,2,2,1,10,9,6,8,4,5,5,3,4,3,6,7,1,6,4,1,6,1,4,1,1,9,7,8,7,8,5,1,2,3,6,2,9,7,2,6,5,4,4,3,2,8,8,7,2,3,1,0,8,1,0,6,3,8,7,9,1,8,5,2,3,6,3,5,3,8,2,10,8,5,4,7,3,6,3,9,5,10,4,5,3,4,6,2,3,5,6,2,7,0,4,7,4,2,9,2,6,4,7,1,3,3,3,3,10,7,4,0,9,4,9,9,3,3,7,7,8,9,2,3,0,5,7,5,6,6,9,1,9,7,3,1,1,5,1,3,5,7,4,10,6,0,1,8,2,7,0,8,5,1,1,5,9,3,8,2,7,8,4,1,3,10,7,1,9,4,4,1,5,4,2,6,7,2,4,5,7,3,2,8,1,3,4,3,7,9,6,6,6,3,4,1,7,4,6,7,3,1,5,6,3,9,0,9,5,2,2,1,4,4,10,4,0,9,1,0,7,3,3,9,3,3,9,7,2,1,2,6,7,6,1,4,3,3,8,6,9,9,7,1,10,1,2,7,7,1,3,5,2,4,7,7,3,4,6,6,8,2,3,5,3,4,0,8,4,6,0,10,3,9,10,0,4,6,7,8,8,1,6,4,5,3,5,2,4,9,9,7,9,7,6,3,2,5,2,6,9,6,5,4,2,9,1,0,2,2,7,8,6,5,7,3,7,9,7,2,8,5,4,5,3,7,6,5,1,9,5,8,1,9,6,6,9,8,4,7,5,7,1,2,4,2,9,3,5,5,0,10,3,6,4,2,9,0,0,2,5,10,2,9,3,7,6,0,5,7,5,2,9,9,2,4,3,1,7,2,2,6,8,2,3,5,9,5,2,2,8,9,5,4,7,0,4,8,3,7,1,3,8,1,6,8,1,3,4,9,2,1,2,8,6,2,8,6,5,1,7,5,8,4,7,7,2,2,4,8,1,7,1,4,3,1,10,7,5,0,5,10,7,1,10,9,4,9,0,9,7,2,10,8,4,0,9,1,10,4,6,2,1,2,6,6,9,2,7,7,10,6,9,7,9,5,2,3,1,3,9,8,8,2,7,8,5,2,3,1,8,1,3,2,1,4,6,6,6,6,8,7,9,8,4,1,7,4,3,4,2,2,4,2,5,3,2,3,4,6,9,4,6,2,8,10,8,3,2,3,1,1,1,5,6,9,1,9,2,5,6,4,4,1,2,1,1,4,5,2,8,9,1,1,8,7,1,10,9,5,4,2,1,7,6,6,8,10,9,10,5,4,8,5,9,9,0,3,7,2,8,2,9,3,2,2,7,9,3,6,2,9,5,6,6,0,5,2,7,6,8,4,7,10,8,3,8,7,4,8,5,10,6,9,10,10,2,3,8,5,7,8,4,9,5,8,8,10,6,1,2,8,5,2,4,7,3,2,10,8,10,10,3,0,8,1,6,10,5,7,8,4,6,9,6,10,9,1,9,3,9,7,6,9,9,1,8,1,1,2,8,9,2,8,1,2,2,8,5,4,9,6,7,6,2,8,6,3,7,5,9,7,3,8,4,1,7,4,3,10,9,6,4,1,6,9,5,7,3,1,6,2,4,7,3,9,7,2,0,1,2,1,9,4,7,1,2,10,3,4,5,7,8,3,6,10,5,6,1,10,4,7,2,8,5,2,3,7,8,0,8,3,2,0,6,9,3,1,9,2,4,1,2,5,2,4,1,8,3,9,10,5,5,10,2,8,1,8,6,3,2,2,5,9,4,3,0,3,10,9,5,9,7,5,6,1,6,7,4,8,3,1,9,8,2,2,8,0,1,4,5,5,4,10,6,1,9,1,8,9,7,4,9,8,1,2,7,2,3,10,5,7,10,3,8,4,8,6,8,1,8,9,0,1,9,8,8,7,0,7,2,3,4,2,1,0,2,2,2,3,3,6,8,3,0,7,6,5,5,10,2,1,8,4,4,8,5,2,10,9,9,6,7,6,3,7,8,9,7,9,8,6,3,3,7,5,6,8,9,2,5,2,2,4,6,2,7,9,2,1,2,7,5,2,0,2,3,1,8,1,3,5,5,5,1,5,4,9,5,6,9,6,5,3,5,2,8,0,6,9,1,1,3,3,2,7,5,9,1,4,1,3,6,5,5,9,1,8,7,1,6,7,5,8,6,5,2,3,8,4,5,6,2,4,0,2,9,7,5,2,6,6,2,3,6,5,10,9,10,10,9,5,9,2,5,2,3,6,6,5,4,0,1,7,5,2,4,10,1,6,5,4,5,1,3,7,4,0,10,5,7,8,9,8,10,6,4,9,8,7,4,1,4,9,5,2,2,7,10,7,4,10,7,6,7,2,2,1,8,6,2,9,8,8,1,7,9,3,6,10,2,1,0,7,4,6,3,4,4,9,8,6,1,8,7,4,9,3,4,6,6,1,9,4,5,0,0,5,2,1,0,6,10,4,10,10,10,5,2,4,4,4,3,0,0,4,5,5,2,5,8,10,9,4,4,4,6,4,4,7,10,8,9,0,3,0,1,7,6,7,0,6,7,10,6,3,7,8,0,3,7,6,6,3,3,1,5,5,2,4,3,8,2,1,9,1,3,7,6,5,6,3,1,3,3,5,7,5,9,1,8,5,1,5,8,9,9,8,5,7,9,4,10,1,9,5,2,2,0,6,2,2,10,0,7,8,0,6,9,1,6,1,9,9,9,10,2,2,7,5,9,8,9,5,10,4,9,5,2,1,10,7,3,3,2,2,9,0,7,4,4,7,8,0,8,8,7,9,9,9,2,2,3,3,9,9,6,9,8,2,4,9,1,1,5,4,2,0,1,2,1,2,7,2,4,8,10,1,5,2,5,0,0,9,8,1,2,7,2,5,3,4,3,6,5,7,6,2,10,10,5,4,6,10,9,2,6,6,2,1,7,5,9,8,1,4,1,0,9,8,5,5,2,7,7,4,4,5,3,3,10,1,9,1,2,5,4,1,8,8,2,3,5,7,4,4,6,2,8,9,7,4,6,7,9,2,2,1,9,4,10,8,0,4,8,2,7,5,1,1,0,8,1,3,1,4,6,5,6,3,3,4,4,0,8,10,1,1,6,5,8,2,3,6,5,10,6,0,8,1,2,4,5,5,9,9,3,8,7,2,2,8,7,0,5,6,5,9,9,5,6,5,7,6,2,8,10,6,2,6,3,8,9,6,7,1,7,3,7,1,9,4,5,7,3,5,7,6,4,8,5,6,5,9,1,9,6,4,1,10,8,8,7,7,3,9,1,3,2,0,9,9,6,8,2,7,6,10,1,3,7,8,1,1,5,5,7,10,1,7,7,7,3,7,3,9,10,5,9,1,1,2,1,1,4,3,9,2,3,3,4,4,8,8,0,0,1,3,9,2,8,5,6,6,10,2,5,2,1,4,3,9,6,2,8,5,10,5,7,0,5,1,7,3,5,4,4,5,10,3,4,6,3,9,7,6,5,2,3,3,4,4,7,9,8,1,1,4,2,9,1,8,4,6,3,4,4,10,5,9,10,4,7,10,5,6,8,6,9,2,4,3,5,7,9,1,6,7,10,8,3,8,3,9,2,7,5,3,3,9,6,5,3,7,2,3,7,1,7,10,2,7,3,3,3,8,2,8,7,3,8,7,4,9,8,4,0,5,5,8,8,4,8,7,1,8,7,6,4,2,2,1,8,1,10,2,4,3,4,10,5,5,1,4,1,3,7,3,9,10,9,3,7,4,4,5,4,7,5,1,2,6,8,0,5,2,10,10,2,0,3,3,1,1,9,7,9,8,9,1,10,1,9,10,1,7,8,5,7,1,5,8,3,2,9,10,4,5,1,1,6,1,2,1,6,2,10,5,1,5,8,1,9,0,5,9,7,9,10,6,4,8,6,10,6,2,1,1,3,4,10,8,8,5,1,3,4,4,0,6,1,3,2,9,4,7,7,3,8,9,3,1,3,2,4,8,2,8,10,2,4,10,5,9,6,3,2,8,4,3,6,3,7,10,10,2,4,10,9,2,7,3,6,1,1,5,7,8,1,0,3,1,8,6,5,5,1,6,4,4,9,6,8,8,10,5,1,8,5,9,7,8,5,2,7,10,9,1,1,9,10,8,6,2,6,4,10,1,6,4,9,9,9,2,5,4,4,5,8,6,7,3,4,7,7,1,7,9,9,1,6,3,7,4,7,6,1,8,4,4,3,4,2,7,2,5,10,7,3,4],\"xaxis\":\"x\",\"yaxis\":\"y\",\"type\":\"histogram\"}],                        {\"template\":{\"data\":{\"bar\":[{\"error_x\":{\"color\":\"#2a3f5f\"},\"error_y\":{\"color\":\"#2a3f5f\"},\"marker\":{\"line\":{\"color\":\"#E5ECF6\",\"width\":0.5},\"pattern\":{\"fillmode\":\"overlay\",\"size\":10,\"solidity\":0.2}},\"type\":\"bar\"}],\"barpolar\":[{\"marker\":{\"line\":{\"color\":\"#E5ECF6\",\"width\":0.5},\"pattern\":{\"fillmode\":\"overlay\",\"size\":10,\"solidity\":0.2}},\"type\":\"barpolar\"}],\"carpet\":[{\"aaxis\":{\"endlinecolor\":\"#2a3f5f\",\"gridcolor\":\"white\",\"linecolor\":\"white\",\"minorgridcolor\":\"white\",\"startlinecolor\":\"#2a3f5f\"},\"baxis\":{\"endlinecolor\":\"#2a3f5f\",\"gridcolor\":\"white\",\"linecolor\":\"white\",\"minorgridcolor\":\"white\",\"startlinecolor\":\"#2a3f5f\"},\"type\":\"carpet\"}],\"choropleth\":[{\"colorbar\":{\"outlinewidth\":0,\"ticks\":\"\"},\"type\":\"choropleth\"}],\"contour\":[{\"colorbar\":{\"outlinewidth\":0,\"ticks\":\"\"},\"colorscale\":[[0.0,\"#0d0887\"],[0.1111111111111111,\"#46039f\"],[0.2222222222222222,\"#7201a8\"],[0.3333333333333333,\"#9c179e\"],[0.4444444444444444,\"#bd3786\"],[0.5555555555555556,\"#d8576b\"],[0.6666666666666666,\"#ed7953\"],[0.7777777777777778,\"#fb9f3a\"],[0.8888888888888888,\"#fdca26\"],[1.0,\"#f0f921\"]],\"type\":\"contour\"}],\"contourcarpet\":[{\"colorbar\":{\"outlinewidth\":0,\"ticks\":\"\"},\"type\":\"contourcarpet\"}],\"heatmap\":[{\"colorbar\":{\"outlinewidth\":0,\"ticks\":\"\"},\"colorscale\":[[0.0,\"#0d0887\"],[0.1111111111111111,\"#46039f\"],[0.2222222222222222,\"#7201a8\"],[0.3333333333333333,\"#9c179e\"],[0.4444444444444444,\"#bd3786\"],[0.5555555555555556,\"#d8576b\"],[0.6666666666666666,\"#ed7953\"],[0.7777777777777778,\"#fb9f3a\"],[0.8888888888888888,\"#fdca26\"],[1.0,\"#f0f921\"]],\"type\":\"heatmap\"}],\"heatmapgl\":[{\"colorbar\":{\"outlinewidth\":0,\"ticks\":\"\"},\"colorscale\":[[0.0,\"#0d0887\"],[0.1111111111111111,\"#46039f\"],[0.2222222222222222,\"#7201a8\"],[0.3333333333333333,\"#9c179e\"],[0.4444444444444444,\"#bd3786\"],[0.5555555555555556,\"#d8576b\"],[0.6666666666666666,\"#ed7953\"],[0.7777777777777778,\"#fb9f3a\"],[0.8888888888888888,\"#fdca26\"],[1.0,\"#f0f921\"]],\"type\":\"heatmapgl\"}],\"histogram\":[{\"marker\":{\"pattern\":{\"fillmode\":\"overlay\",\"size\":10,\"solidity\":0.2}},\"type\":\"histogram\"}],\"histogram2d\":[{\"colorbar\":{\"outlinewidth\":0,\"ticks\":\"\"},\"colorscale\":[[0.0,\"#0d0887\"],[0.1111111111111111,\"#46039f\"],[0.2222222222222222,\"#7201a8\"],[0.3333333333333333,\"#9c179e\"],[0.4444444444444444,\"#bd3786\"],[0.5555555555555556,\"#d8576b\"],[0.6666666666666666,\"#ed7953\"],[0.7777777777777778,\"#fb9f3a\"],[0.8888888888888888,\"#fdca26\"],[1.0,\"#f0f921\"]],\"type\":\"histogram2d\"}],\"histogram2dcontour\":[{\"colorbar\":{\"outlinewidth\":0,\"ticks\":\"\"},\"colorscale\":[[0.0,\"#0d0887\"],[0.1111111111111111,\"#46039f\"],[0.2222222222222222,\"#7201a8\"],[0.3333333333333333,\"#9c179e\"],[0.4444444444444444,\"#bd3786\"],[0.5555555555555556,\"#d8576b\"],[0.6666666666666666,\"#ed7953\"],[0.7777777777777778,\"#fb9f3a\"],[0.8888888888888888,\"#fdca26\"],[1.0,\"#f0f921\"]],\"type\":\"histogram2dcontour\"}],\"mesh3d\":[{\"colorbar\":{\"outlinewidth\":0,\"ticks\":\"\"},\"type\":\"mesh3d\"}],\"parcoords\":[{\"line\":{\"colorbar\":{\"outlinewidth\":0,\"ticks\":\"\"}},\"type\":\"parcoords\"}],\"pie\":[{\"automargin\":true,\"type\":\"pie\"}],\"scatter\":[{\"marker\":{\"colorbar\":{\"outlinewidth\":0,\"ticks\":\"\"}},\"type\":\"scatter\"}],\"scatter3d\":[{\"line\":{\"colorbar\":{\"outlinewidth\":0,\"ticks\":\"\"}},\"marker\":{\"colorbar\":{\"outlinewidth\":0,\"ticks\":\"\"}},\"type\":\"scatter3d\"}],\"scattercarpet\":[{\"marker\":{\"colorbar\":{\"outlinewidth\":0,\"ticks\":\"\"}},\"type\":\"scattercarpet\"}],\"scattergeo\":[{\"marker\":{\"colorbar\":{\"outlinewidth\":0,\"ticks\":\"\"}},\"type\":\"scattergeo\"}],\"scattergl\":[{\"marker\":{\"colorbar\":{\"outlinewidth\":0,\"ticks\":\"\"}},\"type\":\"scattergl\"}],\"scattermapbox\":[{\"marker\":{\"colorbar\":{\"outlinewidth\":0,\"ticks\":\"\"}},\"type\":\"scattermapbox\"}],\"scatterpolar\":[{\"marker\":{\"colorbar\":{\"outlinewidth\":0,\"ticks\":\"\"}},\"type\":\"scatterpolar\"}],\"scatterpolargl\":[{\"marker\":{\"colorbar\":{\"outlinewidth\":0,\"ticks\":\"\"}},\"type\":\"scatterpolargl\"}],\"scatterternary\":[{\"marker\":{\"colorbar\":{\"outlinewidth\":0,\"ticks\":\"\"}},\"type\":\"scatterternary\"}],\"surface\":[{\"colorbar\":{\"outlinewidth\":0,\"ticks\":\"\"},\"colorscale\":[[0.0,\"#0d0887\"],[0.1111111111111111,\"#46039f\"],[0.2222222222222222,\"#7201a8\"],[0.3333333333333333,\"#9c179e\"],[0.4444444444444444,\"#bd3786\"],[0.5555555555555556,\"#d8576b\"],[0.6666666666666666,\"#ed7953\"],[0.7777777777777778,\"#fb9f3a\"],[0.8888888888888888,\"#fdca26\"],[1.0,\"#f0f921\"]],\"type\":\"surface\"}],\"table\":[{\"cells\":{\"fill\":{\"color\":\"#EBF0F8\"},\"line\":{\"color\":\"white\"}},\"header\":{\"fill\":{\"color\":\"#C8D4E3\"},\"line\":{\"color\":\"white\"}},\"type\":\"table\"}]},\"layout\":{\"annotationdefaults\":{\"arrowcolor\":\"#2a3f5f\",\"arrowhead\":0,\"arrowwidth\":1},\"autotypenumbers\":\"strict\",\"coloraxis\":{\"colorbar\":{\"outlinewidth\":0,\"ticks\":\"\"}},\"colorscale\":{\"diverging\":[[0,\"#8e0152\"],[0.1,\"#c51b7d\"],[0.2,\"#de77ae\"],[0.3,\"#f1b6da\"],[0.4,\"#fde0ef\"],[0.5,\"#f7f7f7\"],[0.6,\"#e6f5d0\"],[0.7,\"#b8e186\"],[0.8,\"#7fbc41\"],[0.9,\"#4d9221\"],[1,\"#276419\"]],\"sequential\":[[0.0,\"#0d0887\"],[0.1111111111111111,\"#46039f\"],[0.2222222222222222,\"#7201a8\"],[0.3333333333333333,\"#9c179e\"],[0.4444444444444444,\"#bd3786\"],[0.5555555555555556,\"#d8576b\"],[0.6666666666666666,\"#ed7953\"],[0.7777777777777778,\"#fb9f3a\"],[0.8888888888888888,\"#fdca26\"],[1.0,\"#f0f921\"]],\"sequentialminus\":[[0.0,\"#0d0887\"],[0.1111111111111111,\"#46039f\"],[0.2222222222222222,\"#7201a8\"],[0.3333333333333333,\"#9c179e\"],[0.4444444444444444,\"#bd3786\"],[0.5555555555555556,\"#d8576b\"],[0.6666666666666666,\"#ed7953\"],[0.7777777777777778,\"#fb9f3a\"],[0.8888888888888888,\"#fdca26\"],[1.0,\"#f0f921\"]]},\"colorway\":[\"#636efa\",\"#EF553B\",\"#00cc96\",\"#ab63fa\",\"#FFA15A\",\"#19d3f3\",\"#FF6692\",\"#B6E880\",\"#FF97FF\",\"#FECB52\"],\"font\":{\"color\":\"#2a3f5f\"},\"geo\":{\"bgcolor\":\"white\",\"lakecolor\":\"white\",\"landcolor\":\"#E5ECF6\",\"showlakes\":true,\"showland\":true,\"subunitcolor\":\"white\"},\"hoverlabel\":{\"align\":\"left\"},\"hovermode\":\"closest\",\"mapbox\":{\"style\":\"light\"},\"paper_bgcolor\":\"white\",\"plot_bgcolor\":\"#E5ECF6\",\"polar\":{\"angularaxis\":{\"gridcolor\":\"white\",\"linecolor\":\"white\",\"ticks\":\"\"},\"bgcolor\":\"#E5ECF6\",\"radialaxis\":{\"gridcolor\":\"white\",\"linecolor\":\"white\",\"ticks\":\"\"}},\"scene\":{\"xaxis\":{\"backgroundcolor\":\"#E5ECF6\",\"gridcolor\":\"white\",\"gridwidth\":2,\"linecolor\":\"white\",\"showbackground\":true,\"ticks\":\"\",\"zerolinecolor\":\"white\"},\"yaxis\":{\"backgroundcolor\":\"#E5ECF6\",\"gridcolor\":\"white\",\"gridwidth\":2,\"linecolor\":\"white\",\"showbackground\":true,\"ticks\":\"\",\"zerolinecolor\":\"white\"},\"zaxis\":{\"backgroundcolor\":\"#E5ECF6\",\"gridcolor\":\"white\",\"gridwidth\":2,\"linecolor\":\"white\",\"showbackground\":true,\"ticks\":\"\",\"zerolinecolor\":\"white\"}},\"shapedefaults\":{\"line\":{\"color\":\"#2a3f5f\"}},\"ternary\":{\"aaxis\":{\"gridcolor\":\"white\",\"linecolor\":\"white\",\"ticks\":\"\"},\"baxis\":{\"gridcolor\":\"white\",\"linecolor\":\"white\",\"ticks\":\"\"},\"bgcolor\":\"#E5ECF6\",\"caxis\":{\"gridcolor\":\"white\",\"linecolor\":\"white\",\"ticks\":\"\"}},\"title\":{\"x\":0.05},\"xaxis\":{\"automargin\":true,\"gridcolor\":\"white\",\"linecolor\":\"white\",\"ticks\":\"\",\"title\":{\"standoff\":15},\"zerolinecolor\":\"white\",\"zerolinewidth\":2},\"yaxis\":{\"automargin\":true,\"gridcolor\":\"white\",\"linecolor\":\"white\",\"ticks\":\"\",\"title\":{\"standoff\":15},\"zerolinecolor\":\"white\",\"zerolinewidth\":2}}},\"xaxis\":{\"anchor\":\"y\",\"domain\":[0.0,1.0],\"title\":{\"text\":\"Tenure\"}},\"yaxis\":{\"anchor\":\"x\",\"domain\":[0.0,1.0],\"title\":{\"text\":\"count\"}},\"legend\":{\"tracegroupgap\":0},\"margin\":{\"t\":60},\"barmode\":\"relative\"},                        {\"responsive\": true}                    ).then(function(){\n",
              "                            \n",
              "var gd = document.getElementById('125960c2-3a25-493f-b0bb-3e780febd4ea');\n",
              "var x = new MutationObserver(function (mutations, observer) {{\n",
              "        var display = window.getComputedStyle(gd).display;\n",
              "        if (!display || display === 'none') {{\n",
              "            console.log([gd, 'removed!']);\n",
              "            Plotly.purge(gd);\n",
              "            observer.disconnect();\n",
              "        }}\n",
              "}});\n",
              "\n",
              "// Listen for the removal of the full notebook cells\n",
              "var notebookContainer = gd.closest('#notebook-container');\n",
              "if (notebookContainer) {{\n",
              "    x.observe(notebookContainer, {childList: true});\n",
              "}}\n",
              "\n",
              "// Listen for the clearing of the current output cell\n",
              "var outputEl = gd.closest('.output');\n",
              "if (outputEl) {{\n",
              "    x.observe(outputEl, {childList: true});\n",
              "}}\n",
              "\n",
              "                        })                };                            </script>        </div>\n",
              "</body>\n",
              "</html>"
            ]
          },
          "metadata": {}
        }
      ]
    },
    {
      "cell_type": "code",
      "source": [
        "#Find outliers in data using a box plot\n",
        "\n",
        "#create a box plot\n",
        "fig = px.box(data,y=\"HasCrCard\")\n",
        "fig.show()"
      ],
      "metadata": {
        "colab": {
          "base_uri": "https://localhost:8080/",
          "height": 542
        },
        "id": "V38tMi-CJmwZ",
        "outputId": "de18e101-8c50-43ff-d831-27bbbc36b063"
      },
      "execution_count": null,
      "outputs": [
        {
          "output_type": "display_data",
          "data": {
            "text/html": [
              "<html>\n",
              "<head><meta charset=\"utf-8\" /></head>\n",
              "<body>\n",
              "    <div>            <script src=\"https://cdnjs.cloudflare.com/ajax/libs/mathjax/2.7.5/MathJax.js?config=TeX-AMS-MML_SVG\"></script><script type=\"text/javascript\">if (window.MathJax) {MathJax.Hub.Config({SVG: {font: \"STIX-Web\"}});}</script>                <script type=\"text/javascript\">window.PlotlyConfig = {MathJaxConfig: 'local'};</script>\n",
              "        <script src=\"https://cdn.plot.ly/plotly-2.8.3.min.js\"></script>                <div id=\"b969b77c-a34b-4a32-8521-405993466a7b\" class=\"plotly-graph-div\" style=\"height:525px; width:100%;\"></div>            <script type=\"text/javascript\">                                    window.PLOTLYENV=window.PLOTLYENV || {};                                    if (document.getElementById(\"b969b77c-a34b-4a32-8521-405993466a7b\")) {                    Plotly.newPlot(                        \"b969b77c-a34b-4a32-8521-405993466a7b\",                        [{\"alignmentgroup\":\"True\",\"hovertemplate\":\"HasCrCard=%{y}<extra></extra>\",\"legendgroup\":\"\",\"marker\":{\"color\":\"#636efa\"},\"name\":\"\",\"notched\":false,\"offsetgroup\":\"\",\"orientation\":\"v\",\"showlegend\":false,\"x0\":\" \",\"xaxis\":\"x\",\"y\":[1,0,1,0,1,1,1,1,0,1,0,1,1,0,1,0,1,1,0,1,1,1,1,0,1,0,1,0,1,1,1,0,0,1,1,1,0,0,1,0,1,0,1,0,1,1,1,1,0,1,1,0,0,0,1,1,1,0,1,1,0,0,0,1,1,1,1,1,0,1,1,1,0,1,0,1,1,1,0,1,0,1,0,1,1,1,1,1,1,1,1,1,1,1,0,0,0,1,0,0,1,0,1,1,1,1,1,0,0,1,0,1,0,0,0,1,1,1,1,1,0,0,1,1,0,1,0,1,1,1,1,1,1,0,1,1,0,0,1,0,1,1,1,1,1,1,1,0,1,0,1,1,1,1,1,1,0,1,0,0,0,1,0,1,1,1,1,1,1,0,1,1,1,1,1,1,1,0,0,1,1,1,1,1,1,1,1,0,0,1,0,1,0,1,1,1,1,1,1,1,1,0,0,1,1,1,0,1,1,0,1,1,0,1,0,0,1,0,1,1,1,0,1,1,1,1,1,1,1,1,0,1,0,0,0,1,1,1,1,0,1,1,0,1,1,1,1,1,1,1,0,1,0,1,0,0,1,0,1,1,1,1,1,0,1,1,1,1,0,1,0,1,1,1,0,1,1,1,0,1,1,1,1,1,0,1,1,1,1,1,0,1,1,0,1,1,1,1,1,1,1,0,1,1,0,1,1,1,1,1,1,1,0,1,1,0,1,1,1,1,1,1,1,0,1,1,1,1,1,1,0,1,0,1,1,1,0,1,1,1,0,0,1,0,1,1,1,1,1,1,1,1,1,1,1,1,1,1,1,0,0,0,1,1,1,1,1,1,0,1,1,0,1,1,1,0,1,1,1,0,1,1,0,1,1,1,1,1,0,1,1,1,1,0,1,0,1,1,0,1,1,1,0,0,1,1,0,1,1,1,0,1,1,1,1,0,0,1,0,0,1,1,1,1,1,1,1,1,1,0,1,0,1,1,0,0,1,0,1,1,0,1,1,1,0,0,0,1,0,1,1,0,0,1,0,1,1,1,0,1,1,1,1,1,1,1,1,1,1,1,1,1,1,1,1,0,1,1,1,1,0,1,0,1,1,1,1,1,0,1,1,1,0,0,0,1,1,1,1,0,1,1,1,1,0,1,1,1,1,1,1,1,0,1,1,1,0,1,0,0,1,1,1,1,0,1,1,1,1,1,1,0,1,1,1,1,1,1,0,1,1,1,1,1,0,1,1,1,1,1,1,1,1,1,1,0,1,1,1,1,0,0,1,1,1,1,0,1,1,1,1,1,1,1,1,1,1,0,1,1,1,0,0,1,0,0,1,1,1,0,1,1,1,0,0,1,1,1,0,0,0,1,0,1,1,1,0,1,1,1,0,1,1,1,1,1,1,1,1,1,1,0,1,0,0,0,1,1,1,1,1,1,1,1,0,1,0,0,0,0,1,1,1,1,1,1,1,1,1,1,1,1,1,1,1,1,0,1,1,1,1,1,1,1,0,1,0,1,1,1,0,0,0,1,1,1,1,0,1,1,0,0,0,0,0,0,1,1,1,1,1,1,0,1,1,1,1,1,1,1,1,0,0,0,1,1,1,1,0,1,0,1,1,1,1,1,0,0,0,1,1,1,0,1,1,1,0,1,1,0,1,0,0,1,0,1,1,0,1,1,0,1,1,0,1,1,0,1,1,1,0,1,1,1,1,1,1,1,1,1,1,1,0,1,1,1,0,0,0,0,0,0,0,0,1,1,1,0,1,0,1,0,0,0,1,0,1,0,1,1,1,1,1,1,1,0,0,1,1,0,1,0,1,0,0,0,0,1,1,1,1,0,1,1,0,1,1,0,1,1,1,0,1,0,1,1,1,1,1,1,1,0,1,1,0,1,1,1,0,0,0,0,0,1,1,0,0,1,1,0,1,0,1,1,0,1,1,0,1,1,1,1,1,0,0,0,1,1,1,1,1,1,1,1,0,0,0,1,1,1,1,1,1,1,1,1,1,1,1,0,0,1,1,1,1,1,1,1,1,1,1,0,1,1,0,1,1,1,1,1,1,1,1,1,1,1,1,1,0,1,0,1,1,1,1,1,1,1,1,0,0,1,1,0,1,0,1,0,1,1,1,0,1,1,1,1,1,1,1,0,1,1,0,1,0,0,0,1,0,1,1,1,1,1,1,1,1,0,0,0,1,1,0,0,1,0,1,1,1,1,0,0,1,0,0,1,1,1,1,1,1,1,0,0,1,0,0,0,1,0,1,1,1,0,1,0,1,1,1,1,1,1,0,1,0,1,1,1,1,1,1,1,0,1,1,1,0,0,1,1,0,0,0,0,0,1,1,1,1,1,1,1,1,1,1,1,1,1,1,1,0,1,1,1,1,1,1,0,0,0,1,1,1,1,1,0,1,1,1,1,1,1,0,0,1,1,1,1,1,1,0,1,1,1,1,1,0,1,1,1,1,1,0,1,1,1,1,1,0,1,1,1,1,1,1,1,0,0,1,1,1,1,0,1,0,0,1,0,1,1,1,1,0,1,1,1,1,1,1,1,0,1,1,1,1,0,0,1,1,0,1,1,1,1,0,1,1,1,1,0,0,0,0,0,1,1,1,0,1,1,1,1,1,0,1,0,1,1,1,1,0,0,1,1,1,1,0,1,1,0,1,1,1,1,1,1,1,1,1,1,1,0,1,1,1,1,1,1,1,0,0,1,1,1,1,0,1,1,1,0,1,0,1,1,1,1,0,1,0,1,1,1,1,0,1,1,1,1,1,1,0,1,1,1,1,1,1,1,0,1,1,1,1,0,0,1,1,1,1,1,1,1,1,1,1,1,1,1,1,0,1,1,0,0,0,1,1,1,1,1,1,1,0,1,1,1,1,1,0,0,1,0,1,0,0,1,0,0,1,1,1,0,1,0,1,0,0,1,0,1,1,1,1,1,1,0,1,0,1,0,1,1,1,1,1,0,1,1,1,0,1,0,1,0,1,0,1,1,0,1,1,1,1,1,1,1,1,1,1,1,1,1,1,1,1,0,1,1,1,1,1,0,1,1,0,1,1,0,1,1,0,1,1,0,1,1,1,1,1,1,1,1,0,1,1,1,1,1,1,1,1,1,1,0,1,0,0,1,0,1,1,1,1,1,1,1,1,1,0,1,0,1,1,1,1,1,0,1,0,1,0,0,1,0,1,1,1,0,1,1,0,1,0,1,0,0,1,0,1,1,0,1,1,0,1,1,0,0,0,1,1,1,1,0,0,1,0,1,1,0,1,1,1,1,1,0,1,0,1,1,1,1,1,0,1,1,1,1,1,0,1,1,1,0,0,1,0,0,1,1,1,1,1,0,1,0,1,0,1,0,1,1,0,1,0,0,0,1,0,1,0,1,0,0,1,0,0,1,1,1,1,0,1,1,1,0,0,0,0,1,0,0,1,1,0,1,0,1,1,1,1,0,0,0,0,0,1,1,1,1,1,1,1,1,1,1,1,1,1,1,1,0,1,0,1,0,1,1,0,1,0,1,1,0,1,1,1,0,1,1,1,1,1,1,1,1,1,1,0,1,0,1,0,0,1,1,1,1,0,1,1,1,1,1,1,1,1,1,1,0,1,1,1,1,0,1,1,1,1,1,1,1,1,1,1,1,1,0,1,0,0,1,1,1,1,1,1,1,0,1,1,1,1,0,1,1,1,0,1,0,1,0,1,1,1,1,1,1,1,1,0,1,1,1,0,1,1,1,0,1,1,1,0,1,0,0,1,1,0,1,1,1,1,1,1,1,1,1,1,0,1,1,1,1,1,0,1,1,0,1,0,1,0,0,1,0,0,0,1,1,1,1,1,1,0,1,1,1,0,0,1,1,1,1,0,0,1,1,1,1,0,1,1,1,1,0,0,1,0,0,1,1,1,1,1,0,1,1,1,1,0,0,0,1,0,1,0,1,1,1,1,0,1,0,1,0,0,1,1,1,0,1,1,0,1,1,1,1,0,1,0,0,1,0,1,0,0,0,1,1,1,0,0,0,1,1,1,0,0,1,1,1,0,1,1,0,1,1,0,1,1,1,1,0,0,1,0,0,0,1,1,0,1,1,1,1,0,1,1,0,1,0,1,1,1,1,1,0,0,0,1,1,1,1,0,1,1,1,0,1,1,1,1,1,1,0,1,0,0,1,1,1,1,1,0,1,1,1,1,1,1,1,1,1,0,1,1,1,0,1,0,1,1,1,1,0,0,1,1,0,1,1,0,0,1,1,1,1,1,1,1,1,0,1,1,1,0,0,1,1,1,0,1,1,1,1,1,1,1,1,1,1,1,1,1,0,0,1,0,1,0,0,1,1,1,1,0,1,0,1,1,0,1,1,1,1,1,1,0,0,1,1,1,0,1,0,1,1,0,1,1,1,0,0,1,0,1,1,0,1,1,0,1,1,1,0,1,1,0,1,1,1,0,0,1,1,0,0,1,1,1,0,1,1,1,1,0,0,1,1,0,1,1,0,1,1,0,1,1,1,1,1,0,0,0,0,1,0,1,1,1,0,0,1,1,1,1,0,1,1,1,0,1,0,0,0,0,1,1,1,0,1,1,1,1,1,0,0,1,1,0,1,1,0,1,0,1,0,1,1,1,0,0,0,1,0,1,1,1,1,1,1,0,1,1,1,1,1,1,1,1,1,1,1,1,1,0,0,1,1,1,1,1,1,1,1,1,1,0,0,1,1,0,1,0,1,1,0,1,1,1,0,1,1,0,1,1,0,1,0,1,1,1,0,1,1,1,0,1,1,1,0,0,1,0,0,1,1,0,1,1,1,1,1,1,1,1,1,1,1,1,1,1,1,1,1,0,1,1,1,0,1,0,0,0,1,1,1,1,0,0,1,1,1,1,0,1,0,1,1,0,1,1,1,1,0,1,0,1,0,0,1,0,1,1,1,1,1,1,1,1,1,1,1,1,0,1,1,1,1,1,1,1,1,1,0,1,0,1,0,0,1,0,1,0,1,1,1,1,0,1,1,1,1,1,0,1,1,1,1,1,1,1,0,1,1,0,1,1,1,0,1,1,1,1,1,1,0,0,1,1,1,0,1,0,1,1,1,0,1,1,1,1,0,1,1,1,1,1,0,0,1,1,0,1,1,1,1,0,1,1,0,0,1,1,1,0,1,1,0,1,1,1,1,1,0,0,1,1,1,1,1,0,0,1,1,1,0,1,1,1,0,0,1,1,1,1,1,1,1,1,1,1,1,1,1,0,1,1,1,1,1,1,1,0,1,1,0,1,0,0,1,1,1,1,1,0,1,0,1,1,1,1,1,1,1,1,1,0,1,1,1,1,0,0,0,1,1,1,1,1,1,1,1,1,1,1,0,1,0,1,0,1,0,1,0,1,0,1,1,1,1,1,1,1,0,0,1,1,1,1,0,1,0,0,1,1,1,1,0,1,1,1,1,1,1,1,1,1,0,1,1,1,1,1,1,1,1,1,1,0,1,1,1,1,1,0,0,1,1,0,1,1,0,0,1,1,0,1,0,1,1,1,1,0,0,0,0,1,0,1,1,1,0,1,0,0,0,1,1,0,1,1,1,1,1,1,1,1,0,1,1,0,1,1,0,1,1,0,1,1,1,1,1,1,1,0,1,1,0,0,1,1,0,0,0,1,0,1,1,1,1,1,1,1,1,1,1,1,1,1,1,0,1,1,0,0,1,0,1,1,1,0,0,1,0,0,1,1,1,0,0,1,0,0,1,1,0,1,1,1,1,1,1,0,1,1,1,1,1,0,1,0,1,1,0,1,0,1,1,1,0,1,1,0,1,1,1,0,1,1,1,1,1,0,1,1,0,1,1,1,1,1,0,1,1,0,1,1,0,1,1,1,0,1,1,1,1,1,1,1,1,0,0,1,1,0,0,0,0,1,1,1,0,0,1,0,1,1,0,1,1,1,1,1,1,1,1,1,1,1,0,1,1,0,1,1,0,1,1,1,0,1,1,1,1,0,1,0,1,1,1,0,0,1,1,1,1,1,1,0,0,0,1,1,1,1,1,1,1,1,0,1,0,0,1,0,0,1,0,1,1,0,0,0,1,1,1,1,1,1,1,0,1,0,1,1,0,1,0,1,1,1,0,1,0,1,1,0,1,0,1,1,1,1,1,0,1,1,1,0,1,1,1,0,1,1,0,0,0,1,1,1,1,1,1,1,1,1,1,1,1,0,0,1,0,1,1,0,1,1,1,1,1,0,1,1,1,1,1,1,1,1,0,1,1,0,1,1,0,1,1,0,0,0,0,1,1,1,1,1,1,0,1,0,0,1,0,1,1,1,1,1,1,1,1,1,1,1,1,1,1,1,1,1,1,1,1,1,1,1,1,1,0,1,1,1,0,0,1,0,0,1,1,0,1,1,0,0,1,1,1,1,1,0,1,1,1,1,0,0,1,1,1,0,1,1,0,0,1,1,1,0,1,1,1,1,0,1,1,0,1,1,1,1,1,1,1,1,1,1,1,1,1,0,1,1,1,1,0,0,1,1,0,1,1,0,1,1,1,0,1,1,1,1,0,1,1,1,1,0,1,1,1,0,1,1,1,1,0,1,1,0,1,1,1,1,1,1,1,1,1,1,1,1,1,1,1,1,0,1,0,1,0,1,0,1,0,0,1,1,1,1,1,1,1,1,1,0,1,1,1,1,0,0,1,1,0,1,0,0,1,1,1,1,1,1,1,0,1,1,1,1,1,1,1,1,0,1,1,0,1,0,1,0,1,1,0,1,0,0,1,0,0,1,1,1,0,0,1,1,1,1,1,1,1,0,1,1,1,0,1,1,1,0,1,0,0,1,1,0,1,1,1,1,0,1,1,1,1,1,1,0,1,1,1,0,1,1,1,1,1,1,1,0,1,1,1,1,0,1,1,1,1,1,1,1,1,1,1,1,0,1,1,1,1,1,1,1,0,1,0,1,1,1,1,1,1,1,1,0,0,0,0,0,1,0,1,1,1,1,1,1,1,1,1,1,1,1,0,1,1,1,1,1,1,1,0,1,0,1,1,1,1,1,1,1,0,0,1,1,0,1,1,1,0,1,1,1,1,1,0,0,1,0,0,1,1,1,1,0,0,1,1,0,1,1,0,1,1,1,0,0,1,1,1,0,1,1,1,0,1,0,1,1,1,1,0,1,1,1,1,1,1,1,1,1,0,1,1,1,1,1,1,1,0,1,0,1,1,1,1,1,1,0,1,1,0,1,1,1,0,1,1,1,0,0,1,1,1,0,0,1,0,1,0,1,1,1,1,1,1,1,1,1,1,1,0,1,1,1,1,0,0,1,0,1,1,1,0,0,1,1,1,1,0,0,1,1,1,0,1,0,1,1,1,1,1,1,1,1,0,1,1,1,0,1,1,1,1,0,1,1,1,1,0,0,1,1,1,1,1,1,1,0,1,1,1,1,1,1,1,1,1,1,1,1,1,0,1,1,1,1,1,1,0,1,1,1,0,0,1,1,1,0,1,0,1,1,0,1,0,0,1,0,1,1,0,1,1,1,0,1,0,1,1,0,0,0,1,0,1,1,1,0,1,1,0,0,1,1,0,0,1,0,1,1,0,1,1,1,0,0,1,0,1,1,1,1,1,1,1,1,0,1,1,1,1,1,1,1,0,1,1,1,1,1,1,0,1,1,1,1,1,1,1,1,1,1,0,0,0,1,1,1,0,0,0,1,1,1,1,1,1,0,1,0,1,0,0,1,0,1,1,1,1,1,0,1,1,1,1,1,1,1,1,1,1,1,1,1,1,1,0,1,1,0,0,0,0,0,1,0,1,1,0,1,0,1,1,0,1,0,0,0,1,0,1,1,1,1,1,1,1,1,1,1,0,1,0,0,1,0,1,1,1,1,0,0,1,1,0,1,0,0,1,0,1,1,1,1,1,1,0,0,0,1,0,0,1,1,0,1,1,1,1,1,1,1,1,1,0,1,0,1,1,1,1,1,1,0,1,1,0,1,0,1,0,0,1,1,1,1,1,0,1,1,0,0,1,0,1,1,0,0,0,0,1,0,1,1,1,0,1,1,0,1,1,1,1,1,1,1,1,0,1,1,1,1,0,0,1,1,0,1,1,0,1,1,1,0,1,1,1,0,1,1,0,1,1,1,0,1,1,1,0,1,1,1,1,1,1,1,1,0,1,1,1,0,0,0,1,1,1,0,1,0,1,0,1,1,1,1,1,1,0,1,0,0,1,0,1,1,0,0,0,1,1,1,0,1,1,0,1,1,0,1,0,0,1,1,0,1,1,1,1,0,1,1,1,1,1,1,0,0,0,1,1,1,1,1,0,0,1,1,1,0,1,0,1,1,1,1,1,1,1,0,1,0,1,1,0,1,0,1,0,0,1,1,1,1,1,1,1,0,1,1,1,1,1,0,0,1,1,1,1,1,1,1,1,0,1,1,1,1,1,0,1,0,1,1,1,0,1,1,0,0,1,1,1,0,0,0,1,1,1,0,1,0,0,1,1,1,1,1,0,1,1,1,0,1,1,1,1,1,0,1,1,1,1,1,1,0,1,1,0,0,1,1,1,1,0,0,0,1,0,1,1,0,0,1,1,0,1,1,1,0,0,0,1,0,0,1,1,0,1,1,1,1,1,1,1,1,0,0,1,0,1,0,1,0,1,1,1,1,1,1,1,0,1,1,0,1,0,1,1,0,1,0,1,1,0,0,1,1,1,1,1,0,0,1,1,0,1,0,1,1,0,1,0,1,1,1,1,1,1,0,1,0,0,0,1,1,0,1,1,0,1,1,1,0,1,0,1,1,1,0,1,1,1,1,1,0,1,1,1,1,1,0,1,1,1,1,0,1,1,1,0,0,1,1,0,0,0,1,1,0,1,0,1,0,1,1,1,1,1,0,1,0,0,0,0,0,1,0,1,0,0,1,1,0,1,1,1,1,0,0,1,0,1,1,1,0,0,1,0,1,0,1,1,1,0,1,0,1,1,0,1,1,0,1,1,0,1,0,1,1,1,1,1,1,1,0,1,0,1,1,1,1,1,1,1,0,0,1,1,0,1,1,1,0,1,1,1,0,1,1,1,1,1,1,1,1,1,1,0,1,0,1,1,1,1,0,1,1,1,1,1,1,1,1,1,1,1,1,1,0,0,1,1,1,1,0,0,1,0,0,0,1,0,0,1,1,0,1,1,1,1,1,1,1,0,1,1,0,1,1,1,0,1,1,0,1,1,0,0,1,1,0,0,0,1,0,1,1,0,1,0,1,1,1,1,1,1,1,0,1,1,1,0,1,0,1,0,1,1,1,1,0,1,1,1,0,1,1,0,1,1,0,1,1,1,1,1,0,1,1,1,1,0,1,0,1,0,1,1,1,1,0,1,1,1,1,0,0,1,1,0,1,0,1,0,1,1,1,1,1,1,0,1,0,1,1,1,0,1,1,1,1,1,1,1,0,0,1,0,0,1,1,1,0,1,0,1,1,1,0,1,1,1,1,1,1,1,1,1,1,1,1,0,0,1,1,1,1,1,1,0,1,1,1,1,0,0,1,1,1,1,1,1,1,0,0,1,0,1,1,0,1,1,0,1,1,1,1,1,1,0,1,0,0,1,1,0,1,0,1,1,1,0,1,0,1,1,0,1,0,1,0,0,0,0,0,1,0,1,1,1,1,1,1,1,1,0,1,0,1,1,1,0,0,0,0,0,1,1,0,1,1,1,0,1,0,1,0,1,1,1,0,1,1,1,1,1,0,1,1,0,1,1,1,1,1,0,1,0,1,1,1,1,0,1,1,1,0,1,1,0,0,1,1,1,0,1,1,1,0,1,1,1,1,1,0,1,1,0,1,0,1,1,1,1,0,0,0,1,1,1,1,1,1,0,0,1,1,1,1,1,1,0,1,1,0,0,0,1,0,1,1,1,0,1,1,1,1,1,1,1,0,0,1,1,0,1,1,1,1,1,1,1,1,1,1,1,1,0,1,1,1,1,1,0,1,1,1,1,1,1,1,1,1,1,0,1,0,1,1,1,0,1,1,1,0,0,1,1,1,1,1,1,1,1,1,1,1,1,1,1,0,1,1,0,0,1,0,1,1,0,0,1,1,0,1,0,1,1,1,0,0,1,1,1,1,1,1,1,1,1,1,0,0,1,1,1,1,0,1,1,1,1,0,1,0,0,1,1,1,1,1,1,1,1,0,1,1,0,1,0,1,1,1,0,1,0,1,1,1,1,1,1,1,1,0,0,1,0,1,0,1,0,1,1,1,1,1,1,1,0,0,0,1,0,1,0,1,1,1,1,1,1,1,1,1,1,1,0,0,1,0,1,1,1,0,1,1,1,1,1,1,1,1,1,1,1,0,1,0,1,1,1,1,0,1,0,0,0,1,1,0,0,1,0,0,1,1,0,0,1,0,0,0,0,1,1,1,0,1,0,1,1,1,1,1,1,1,1,0,1,1,1,0,1,1,0,0,1,1,1,1,1,1,0,1,0,0,0,1,1,0,1,0,0,0,1,1,1,1,1,1,1,1,1,1,1,0,1,1,0,1,1,0,1,1,1,1,0,1,0,1,0,1,1,0,1,1,1,0,1,1,0,0,0,0,0,1,0,1,1,0,0,1,0,1,1,0,1,0,0,1,1,0,1,0,1,1,1,1,0,0,1,1,0,1,1,1,1,1,1,0,0,1,1,1,1,1,1,1,0,1,1,1,1,1,1,1,1,1,1,1,0,1,1,1,1,1,0,1,1,1,0,1,1,1,1,1,1,1,0,0,0,1,0,1,1,1,0,1,1,1,1,0,1,1,1,1,1,1,1,1,0,1,0,1,1,1,1,1,0,1,1,0,1,1,0,1,1,0,1,1,0,1,1,0,1,0,1,1,0,1,1,1,1,1,1,1,1,0,1,0,1,1,1,0,1,0,1,1,0,0,1,1,1,1,1,0,0,1,0,1,1,1,1,0,1,1,1,1,1,1,1,0,1,1,1,1,0,0,0,0,1,1,1,1,1,1,1,1,1,0,1,1,1,0,1,0,1,1,1,0,1,1,0,1,0,1,1,0,1,1,1,1,1,1,1,1,1,0,1,1,1,1,1,1,0,0,1,1,0,1,1,1,1,0,1,1,0,1,0,0,0,0,1,0,1,0,1,1,1,1,0,1,0,1,0,1,1,0,1,1,1,1,1,0,1,1,1,1,1,0,1,1,1,1,1,0,1,1,1,0,1,1,0,1,1,1,1,1,1,0,1,0,1,1,1,1,0,1,1,1,1,0,1,1,1,1,0,1,0,1,1,1,1,1,1,0,0,1,1,1,0,0,1,1,1,1,0,0,1,1,1,1,1,1,1,1,1,0,1,0,1,0,1,1,0,0,1,0,1,1,0,1,1,0,0,0,1,0,1,0,1,1,1,1,0,1,1,1,1,1,0,0,1,0,0,0,1,1,1,1,1,1,1,0,1,1,1,0,1,1,0,0,1,1,1,1,0,0,1,1,0,1,1,0,1,0,1,1,1,1,1,1,0,1,1,0,1,1,0,1,1,1,0,1,0,1,0,0,0,0,1,0,1,1,0,1,0,1,1,0,1,0,1,0,1,1,1,0,1,1,0,1,1,1,1,0,0,0,1,1,1,1,0,1,1,1,0,1,1,1,1,1,1,1,1,1,1,1,0,0,1,0,1,1,0,1,1,1,0,1,0,1,1,1,1,0,1,1,0,0,1,1,1,1,1,1,1,1,1,1,1,0,1,0,1,1,0,1,1,1,1,1,1,1,0,1,1,1,1,0,1,1,1,1,1,1,1,1,1,1,0,1,0,1,1,1,1,1,1,1,0,0,1,1,0,1,1,0,1,1,0,1,1,1,1,0,1,1,1,0,1,1,1,1,1,1,0,1,1,1,1,1,0,1,0,1,1,0,1,1,1,1,0,1,1,1,1,1,1,1,1,1,1,0,1,0,1,1,1,0,1,0,1,1,1,1,1,1,1,1,1,1,0,1,1,1,1,1,1,1,1,1,1,1,0,1,1,0,0,0,1,1,0,1,1,1,0,1,0,1,1,1,1,1,1,1,1,1,1,1,1,1,1,1,1,0,1,1,1,0,0,0,1,1,0,0,1,0,1,1,1,1,1,1,1,1,0,0,1,0,0,0,1,1,1,1,0,1,0,1,1,1,1,1,1,1,1,0,0,1,1,1,1,0,1,1,0,0,1,0,1,1,0,1,1,0,0,1,1,1,1,1,1,1,1,1,1,0,1,1,1,0,1,0,0,0,1,1,0,0,1,1,1,0,0,1,1,1,1,1,1,0,0,0,0,0,1,0,1,1,0,1,1,0,1,1,1,1,1,1,0,0,0,1,0,0,1,0,1,1,0,0,1,1,1,0,1,0,0,0,1,1,1,1,1,0,1,0,1,1,1,1,1,0,0,1,1,1,1,0,1,1,1,1,1,0,1,1,1,0,1,1,0,1,1,0,1,1,1,0,0,1,0,1,1,1,0,1,1,1,1,0,1,1,1,1,1,1,1,1,1,1,1,1,1,1,0,0,1,1,1,1,1,1,1,1,1,1,1,1,0,1,1,0,0,1,1,1,1,1,0,1,1,0,1,1,0,0,1,1,0,1,1,1,1,0,1,1,1,1,1,0,1,1,1,1,1,1,1,1,1,0,0,0,1,1,1,1,1,1,0,1,1,1,1,0,0,0,1,0,1,0,1,1,1,1,1,1,1,0,1,1,1,0,1,1,1,1,0,1,1,1,1,0,1,0,1,1,1,0,0,1,0,1,0,0,1,0,1,1,1,0,1,1,1,0,0,0,0,1,1,1,1,1,0,0,1,0,0,1,1,1,1,1,1,1,1,1,0,1,1,0,1,1,0,1,0,0,0,1,0,1,1,0,1,1,0,1,0,1,1,1,1,1,1,1,0,0,1,1,1,1,0,0,0,1,1,1,0,0,0,1,1,1,0,1,1,1,1,0,0,1,1,1,1,1,1,1,0,0,1,1,0,1,0,1,1,1,1,1,1,1,0,0,1,1,0,0,1,0,1,1,0,1,1,1,1,1,0,0,1,1,0,1,0,1,1,1,1,1,1,0,0,0,1,1,0,0,0,1,1,0,1,1,1,1,1,1,1,1,1,1,1,0,1,1,1,1,1,0,1,1,1,0,1,1,0,1,0,1,0,1,0,0,1,1,1,1,1,1,0,1,1,1,0,0,1,0,1,1,0,1,0,0,1,1,1,1,0,1,1,1,0,0,1,1,1,0,1,1,0,1,1,1,0,1,1,1,1,1,0,1,0,1,1,1,1,0,1,1,1,1,1,0,1,0,1,0,1,0,1,0,1,1,1,0,0,1,0,1,1,0,1,1,1,0,0,1,0,0,1,1,1,1,1,0,0,1,1,1,0,1,0,1,1,0,1,1,1,0,1,1,0,1,1,0,1,1,1,0,0,0,1,0,1,1,0,0,0,1,0,1,1,1,1,1,1,1,1,1,0,1,1,1,0,1,1,1,0,1,0,0,1,1,1,1,0,1,1,1,1,1,1,1,1,1,1,0,0,0,0,1,1,1,0,0,0,1,0,1,0,1,1,1,1,0,1,0,1,1,0,1,1,1,1,1,1,0,1,0,1,1,1,0,0,1,0,1,1,1,1,1,0,1,1,1,1,0,0,1,1,0,1,1,1,1,0,1,0,0,1,0,0,1,1,1,1,1,1,1,1,0,0,1,1,1,1,1,1,0,1,1,1,1,0,1,1,1,1,1,1,0,1,1,0,1,0,0,1,0,1,1,1,1,1,0,0,0,1,0,0,0,1,1,1,1,1,1,1,1,1,0,1,1,1,1,1,0,1,1,1,1,0,1,1,1,1,0,1,1,0,1,0,1,1,0,1,0,0,1,1,1,1,1,1,0,1,1,0,0,1,1,1,1,0,0,1,0,0,1,1,0,1,1,0,0,1,1,1,1,0,0,0,0,1,1,0,0,1,1,0,1,0,1,1,1,1,1,1,1,1,1,1,1,1,1,1,0,1,1,1,0,1,0,1,1,1,0,1,1,1,1,1,1,1,1,0,0,0,1,0,1,1,0,1,1,1,1,1,1,1,1,0,0,1,0,1,1,0,1,1,0,1,1,0,1,1,1,1,1,1,1,0,1,1,1,0,1,0,1,1,1,0,0,1,1,0,0,0,0,1,1,1,0,1,0,1,1,1,1,0,1,1,1,1,1,1,0,1,0,1,0,1,0,0,1,1,1,1,0,1,0,1,1,1,1,0,0,1,0,1,1,1,1,0,1,1,0,1,1,0,0,0,1,1,1,0,1,0,1,1,1,1,1,1,1,0,1,1,1,0,1,1,1,0,1,1,1,1,0,1,1,1,1,0,1,0,0,1,1,0,1,1,1,1,1,1,0,1,1,0,0,0,1,1,1,0,1,1,1,1,1,1,0,0,0,1,1,1,0,1,0,1,0,1,0,0,1,1,1,0,1,0,1,1,1,1,1,1,1,1,0,1,1,0,1,1,1,0,1,0,1,1,1,0,1,0,1,1,1,1,0,1,1,0,0,1,1,0,0,1,1,1,1,1,1,0,0,0,1,1,0,1,1,1,1,1,0,0,1,1,1,0,0,1,1,1,1,1,1,1,0,1,1,0,1,0,1,1,0,0,1,0,1,1,0,0,0,1,0,0,1,1,1,0,1,1,1,1,0,1,0,1,1,1,1,0,1,0,1,1,1,1,1,1,0,1,1,1,1,1,1,0,1,1,1,1,0,0,0,1,1,1,1,1,1,1,1,0,1,1,1,1,1,1,0,1,1,0,1,0,1,1,0,1,1,1,1,1,1,0,1,1,0,1,0,0,0,0,1,1,0,1,1,0,0,1,0,1,1,1,0,0,0,0,1,0,1,0,0,1,1,1,0,1,0,1,0,1,1,0,1,0,1,1,1,1,1,1,1,1,1,1,0,1,1,1,0,1,0,1,1,0,0,1,0,1,0,1,0,1,1,1,0,1,0,0,0,1,1,0,1,1,0,0,1,0,1,1,0,1,1,1,1,1,1,1,0,1,1,0,1,0,0,1,0,0,1,1,0,1,1,1,1,0,1,1,0,1,1,0,1,0,1,0,1,0,1,0,1,0,1,0,1,0,1,0,0,1,1,1,0,1,0,1,0,1,1,1,1,1,0,1,1,1,0,1,1,1,0,0,0,1,1,1,0,1,1,0,0,1,0,1,0,1,1,1,1,1,1,0,1,1,1,1,1,1,0,1,1,0,1,1,1,0,1,1,1,1,0,0,0,1,0,0,1,1,1,1,1,1,1,1,0,0,1,1,1,1,1,0,1,0,1,1,1,0,0,1,1,1,1,0,1,1,1,0,1,1,1,1,0,0,1,0,1,1,1,1,1,1,1,1,1,1,0,1,0,0,0,1,1,1,1,1,1,1,1,1,1,0,1,0,1,1,1,0,1,1,0,1,1,1,1,1,1,0,0,1,0,0,0,1,0,1,1,1,1,1,1,0,1,1,1,1,1,1,1,1,0,1,1,0,0,1,1,1,0,1,1,1,1,1,1,1,0,0,1,1,1,1,1,0,1,0,0,1,1,0,1,1,0,1,1,1,1,1,0,0,1,0,1,1,1,1,1,1,1,1,0,0,1,0,1,1,1,1,0,1,1,0,1,1,1,1,0,1,0,1,1,1,1,0,1,1,1,1,1,1,0,1,1,1,1,1,1,0,1,0,1,1,1,1,1,1,0,0,1,1,0,1,1,0,1,0,0,1,1,0,1,0,0,0,1,1,1,0,1,1,1,1,1,1,1,1,1,1,0,0,0,1,1,0,0,0,0,1,0,0,1,0,1,1,0,0,1,1,1,0,1,1,1,1,1,1,0,1,1,1,1,1,1,1,1,1,1,1,1,0,1,1,0,1,1,1,1,0,1,0,0,1,0,0,1,1,1,1,1,0,1,1,0,1,0,1,0,1,1,0,0,0,1,0,1,0,0,0,1,1,0,0,0,1,0,1,1,1,1,1,1,1,0,0,1,0,0,1,1,1,1,1,1,0,1,1,1,0,0,1,1,0,0,0,1,1,0,0,1,1,0,1,1,1,0,1,0,1,1,1,1,1,1,0,1,1,1,0,1,0,1,0,1,1,1,1,0,0,1,0,1,1,1,0,0,1,1,0,1,0,1,0,1,0,1,1,1,1,1,1,1,1,1,1,1,0,0,1,1,0,1,1,1,0,0,0,1,1,1,1,0,0,0,1,1,0,0,1,1,1,1,1,1,1,1,1,1,1,1,1,1,1,1,1,0,1,1,1,0,1,1,1,1,1,1,1,0,1,1,0,0,1,1,0,1,1,1,0,1,1,0,1,1,1,1,1,1,0,1,1,0,0,1,1,1,1,0,1,1,1,1,1,1,1,1,1,0,0,1,0,0,1,0,1,1,1,1,1,1,1,0,1,1,0,1,0,1,1,0,1,1,1,1,1,0,1,1,1,1,1,0,1,1,1,1,1,1,1,1,1,0,1,1,0,1,0,1,1,1,1,0,0,1,1,0,0,1,1,1,1,0,1,0,1,1,1,1,1,0,1,1,1,1,1,0,0,1,1,1,1,1,1,1,1,1,0,1,0,0,0,1,1,1,1,1,0,0,0,1,1,1,1,0,0,1,0,1,1,1,1,1,1,1,1,1,0,1,0,0,1,1,0,1,1,1,1,1,1,0,0,1,0,1,1,0,1,1,1,1,1,1,0,0,1,1,1,1,1,1,1,0,1,1,0,0,1,1,0,1,1,1,1,1,0,1,1,1,0,1,1,1,1,1,0,1,1,1,0,1,0,1,1,0,1,1,0,0,1,0,0,1,1,1,1,0,1,1,0,1,1,1,1,1,1,1,1,1,1,0,1,1,0,1,1,1,1,1,1,1,1,1,1,1,0,0,0,1,0,1,0,1,1,0,0,0,0,1,1,1,1,1,1,1,1,1,1,0,1,1,1,0,1,1,1,1,1,0,1,1,1,1,1,1,1,1,0,1,1,1,0,1,1,1,1,0,1,1,1,0,1,1,0,0,1,0,1,0,1,1,1,1,0,1,0,1,1,1,1,1,0,1,1,1,0,1,1,1,0,1,1,0,1,1,0,1,1,1,1,1,0,0,1,1,0,1,0,1,1,1,1,1,0,1,1,1,0,0,1,1,1,1,1,1,1,1,1,1,1,1,1,0,1,1,0,1,0,1,0,1,1,0,1,1,1,1,1,1,1,0,0,1,1,1,1,0,0,1,1,0,1,1,1,0,1,0,0,1,1,1,1,1,0,0,0,1,0,1,0,1,1,1,0,1,0,1,1,1,1,1,1,0,1,1,1,1,1,1,1,0,1,0,1,1,1,0,0,0,0,1,1,0,1,0,1,1,0,1,1,1,1,0,0,1,0,1,1,0,1,1,1,1,1,1,0,1,1,1,1,1,0,1,0,1,1,0,1,1,0,0,1,1,0,1,1,1,0,0,1,0,0,0,1,0,1,1,1,1,1,1,1,1,0,1,1,1,1,0,1,1,1,1,1,1,0,1,0,0,1,1,1,1,1,0,0,0,1,0,1,1,0,0,0,1,0,1,1,0,1,1,0,1,0,1,0,0,0,0,1,1,1,1,1,1,1,0,1,1,1,1,1,1,1,1,1,0,1,0,1,0,0,0,1,0,1,1,1,1,0,1,1,1,1,1,1,1,0,1,1,1,1,1,1,0,1,0,1,0,1,0,0,1,1,1,0,1,1,1,1,1,1,0,1,1,1,0,0,1,1,0,1,0,0,1,1,0,1,0,1,1,0,1,1,0,1,1,1,1,1,1,1,1,0,0,0,1,0,1,0,1,1,0,1,0,1,1,1,0,1,1,1,0,0,1,1,1,1,0,1,1,1,1,1,0,1,0,1,0,1,1,0,0,1,1,0,1,1,1,1,0,0,1,1,0,0,0,1,1,1,0,1,0,0,0,1,1,1,1,0,1,1,1,0,1,1,0,1,1,1,1,1,1,0,1,1,1,1,1,1,1,1,1,1,1,1,1,1,1,1,0,0,1,0,1,1,1,0,1,0,0,1,1,1,0,1,0,0,1,1,0,1,1,0,0,1,1,1,1,1,1,1,0,1,1,0,1,1,1,1,1,0,0,1,0,1,1,1,1,0,0,1,1,0,1,0,1,0,1,0,0,1,1,0,1,1,1,1,0,1,0,1,0,1,0,1,0,1,1,1,1,1,1,1,1,1,0,1,1,1,1,1,1,1,1,1,1,0,0,1,1,1,1,1,1,1,0,1,1,1,1,0,1,1,0,1,0,0,0,0,1,1,1,1,0,1,1,1,1,1,1,0,1,1,1,0,1,1,1,1,1,1,1,1,0,1,1,1,1,1,0,0,1,0,1,0,0,1,1,0,1,1,1,1,1,1,1,1,1,0,0,1,1,0,1,0,1,1,1,1,1,1,1,1,1,1,1,0,1,1,1,0,0,1,1,1,1,1,0,1,1,1,1,1,1,1,1,1,1,1,0,1,1,0,1,1,0,0,1,1,1,1,0,1,0,0,1,1,1,1,1,0,1,0,0,1,1,0,0,1,1,1,0,0,1,1,1,1,1,0,0,1,1,0,0,1,1,1,1,0,1,1,1,0,1,1,1,0,1,1,1,0,0,0,1,1,1,1,1,1,1,1,1,1,1,1,1,1,1,1,1,0,0,0,1,1,0,1,1,1,1,1,1,1,1,0,0,1,1,1,0,1,1,0,1,1,1,1,0,1,0,1,1,1,1,1,1,1,1,1,1,1,1,0,0,0,0,1,1,1,0,1,1,1,1,0,0,0,1,1,1,1,1,0,1,1,1,1,1,0,1,1,1,1,0,1,1,1,1,1,1,0,1,0,1,1,0,0,1,1,0,0,1,1,1,1,1,0,1,0,0,1,1,0,1,1,0,0,1,1,0,1,1,1,1,1,0,0,0,1,0,0,1,1,1,0,0,1,1,1,1,1,1,0,0,1,1,1,1,1,1,0,1,1,0,1,1,1,1,1,0,1,1,1,0,1,0,1,1,1,0,0,0,0,1,1,0,1,1,1,1,1,1,0,1,1,0,1,0,0,1,0,1,0,1,1,1,0,1,0,0,1,1,1,0,1,1,0,1,0,1,1,0,0,1,1,1,1,1,1,1,1,0,0,1,1,1,1,1,0,1,1,1,1,0,1,0,0,1,0,1,0,1,1,0,1,1,1,1,1,0,0,1,1,1,1,0,1,1,1,0,1,0,1,0,1,1,1,1,0,0,1,1,0,1,1,0,0,1,1,1,0,1,0,1,0,1,0,1,1,0,1,1,1,1,0,0,1,0,1,1,0,1,1,1,1,1,0,1,1,1,1,1,1,0,1,1,1,1,0,0,0,0,1,1,0,1,0,0,1,1,1,0,1,0,0,1,0,0,0,1,1,1,1,1,1,0,1,1,1,1,0,0,1,0,0,1,1,1,1,1,1,0,1,1,1,1,1,1,1,1,1,0,1,1,1,1,0,1,1,1,0,1,0,1,0,1,1,0,1,1,1,0,1,1,1,0,1,1,1,0,1,1,1,1,1,1,0,1,0,0,1,1,1,0,1,1,1,1,1,1,1,0,1,0,0,0,0,1,0,0,1,0,0,0,1,1,0,1,1,0,1,1,1,1,1,1,1,0,1,1,0,1,1,1,1,0,1,1,1,0,1,0,1,1,0,1,1,1,0,1,1,1,0,1,0,1,1,1,1,1,0,1,0,0,1,1,1,1,1,0,0,1,1,1,1,1,1,0,1,1,0,1,0,1,1,0,1,1,0,1,0,1,0,0,1,1,0,1,1,0,1,1,0,1,1,1,1,1,1,1,1,1,1,1,1,0,0,1,1,1,1,1,1,1,1,1,1,1,0,1,0,0,1,1,0,1,1,1,1,1,1,1,0,1,1,1,0,1,1,1,0,1,1,1,1,1,1,0,1,0,0,1,1,1,0,1,1,1,1,1,1,1,1,1,1,1,1,1,0,0,0,1,1,0,1,1,1,1,1,1,1,1,1,1,1,1,0,1,1,1,1,0,1,1,0,1,0,1,0,0,1,1,1,1,0,1,0,1,1,0,0,1,1,1,1,1,0,1,0,0,1,0,1,1,1,0,0,1,1,0,1,1,0,1,0,1,1,1,1,1,1,1,1,1,1,0,1,1,1,1,0,0,1,1,1,0,1,1,0,1,1,1,1,1,1,1,0,1,1,1,1,0,0,0,0,1,0,0,0,1,0,1,1,1,1,0,1,0,1,0,0,1,1,0,1,0,1,1,1,0,1,0,1,1,1,0,0,0,1,0,1,1,1,0,1,1,1,0,1,0,1,1,0,0,1,1,1,1,1,1,1,1,1,1,1,0,1,1,1,0,1,1,0,1,0,1,1,1,0,1,1,1,1,1,1,0,1,1,0,1,1,1,1,1,1,0,1,1,0,1,0,1,0,1,1,1,1,1,0,1,0,1,1,0,1,1,0,0,0,0,0,1,0,1,1,1,1,1,1,1,1,0,1,0,1,1,0,1,0,1,0,0,1,1,1,1,1,1,1,1,0,1,0,1,0,1,1,1,1,1,1,0,0,0,0,1,0,1,1,1,1,1,0,1,0,1,1,1,1,0,1,1,1,1,1,1,1,0,0,1,1,1,1,0,1,1,0,1,1,0,1,1,1,1,1,1,0,1,1,1,1,1,1,1,1,1,1,0,1,1,1,1,1,1,1,1,0,1,1,1,1,1,1,0,0,1,1,1,1,1,1,1,0,0,1,0,1,1,1,1,1,1,1,0,1,0,1,1,0,1,1,1,1,1,1,1,1,0,1,1,1,0,0,0,1,1,1,0,0,1,0,1,1,1,1,1,1,1,1,1,0,0,1,1,0,1,0,0,1,0,1,0,0,1,1,1,0,1,1,1,1,0,1,1,1,1,1,1,1,0,1,1,1,1,1,1,1,1,1,1,1,1,1,1,1,1,1,1,1,1,1,0,0,0,1,1,1,1,1,1,1,1,1,0,1,1,1,1,1,1,1,1,1,0,1,0,1,1,1,0,1,1,1,0,1,1,0,0,1,1,0,1,1,1,1,1,1,1,0,1,0,1,1,0,0,1,1,0,1,1,0,1,0,1,1,0,1,1,0,1,1,1,1,0,1,1,1,1,1,0,0,1,1,1,0,1,1,0,1,1,1,0,1,0,1,1,1,1,1,0,0,1,1,1,1,1,1,1,1,1,1,1,1,1,0,1,0,1,1,1,1,1,1,1,1,1,0,1,1,1,0,1,0,1,1,1,0,0,1,1,1,1,1,1,1,1,1,0,1,1,0,1,1,1,1,1,0,1,1,0,1,1,1,0,1,1,0,1,1,1,1,1,1,1,1,1,1,1,1,0,1,1,1,0,1,1,1,1,1,1,1,1,1,1,1,1,0,1,1,1,1,1,1,1,1,1,1,1,1,0,1,1,1,1,1,1,0,0,1,1,1,0,1,1,1,0,1,1,0,1,1,0,1,1,1,1,1,1,1,0,1,1,1,1,1,0,0,1,1,1,1,0,0,0,1,0,0,1,0,0,1,1,1,0,1,1,0,0,1,0,1,1,1,0,0,1,1,1,1,0,1,1,0,1,1,1,1,1,0,1,1,0,1,1,1,1,1,1,0,1,0,0,1,1,1,1,1,0,1,0,1,1,1,1,0,1,0,1,1,1,0,1,1,1,1,1,0,1,1,1,0,0,1,1,1,1,0,1,0,1,1,1,1,0,1,1,0,1,0,1,0,0,1,1,1,1,1,1,0,1,1,0,1,0,0,1,1,1,1,1,0,1,0,1,1,1,0,1,1,1,0,0,1,0,1,0,1,1,1,0,1,0,1,1,1,1,0,1,1,1,0,1,1,1,0,1,1,1,1,1,1,1,1,0,1,1,1,0,0,1,1,0,0,1,1,1,1,0,1,1,1,1,1,1,1,1,1,1,0,1,0,1,1,1,1,1,1,0,1,1,1,1,1,1,1,1,0,1,0,1,0,0,1,1,1,1,1,0,1,1,0,1,1,0,1,0,1,1,1,1,0,1,0,1,1,1,1,0,1,1,1,0,1,0,1,1,1,1,1,1,1,1,1,0,1,0,1,1,1,1,1,1,1,1,1,1,1,1,1,0,1,1,1,1,1,0,1,1,0,1,1,0,1,1,1,1,1,0,1,1,1,0,1,1,1,0,1,1,1,1,1,1,1,0,1,1,0,1,1,1,1,0,1,1,0,1,0,1,0,1,0,0,1,0,0,1,1,1,1,1,1,1,1,0,1,1,0,1,0,0,1,0,1,0,0,1,1,1,0,0,1,1,1,1,1,1,1,0,1,1,1,1,1,1,1,0,1,0,0,1,1,0,0,1,0,1,1,1,1,1,1,1,0,0,1,1,0,1,1,0,1,1,1,1,1,1,1,0,1,1,0,1,1],\"y0\":\" \",\"yaxis\":\"y\",\"type\":\"box\"}],                        {\"template\":{\"data\":{\"bar\":[{\"error_x\":{\"color\":\"#2a3f5f\"},\"error_y\":{\"color\":\"#2a3f5f\"},\"marker\":{\"line\":{\"color\":\"#E5ECF6\",\"width\":0.5},\"pattern\":{\"fillmode\":\"overlay\",\"size\":10,\"solidity\":0.2}},\"type\":\"bar\"}],\"barpolar\":[{\"marker\":{\"line\":{\"color\":\"#E5ECF6\",\"width\":0.5},\"pattern\":{\"fillmode\":\"overlay\",\"size\":10,\"solidity\":0.2}},\"type\":\"barpolar\"}],\"carpet\":[{\"aaxis\":{\"endlinecolor\":\"#2a3f5f\",\"gridcolor\":\"white\",\"linecolor\":\"white\",\"minorgridcolor\":\"white\",\"startlinecolor\":\"#2a3f5f\"},\"baxis\":{\"endlinecolor\":\"#2a3f5f\",\"gridcolor\":\"white\",\"linecolor\":\"white\",\"minorgridcolor\":\"white\",\"startlinecolor\":\"#2a3f5f\"},\"type\":\"carpet\"}],\"choropleth\":[{\"colorbar\":{\"outlinewidth\":0,\"ticks\":\"\"},\"type\":\"choropleth\"}],\"contour\":[{\"colorbar\":{\"outlinewidth\":0,\"ticks\":\"\"},\"colorscale\":[[0.0,\"#0d0887\"],[0.1111111111111111,\"#46039f\"],[0.2222222222222222,\"#7201a8\"],[0.3333333333333333,\"#9c179e\"],[0.4444444444444444,\"#bd3786\"],[0.5555555555555556,\"#d8576b\"],[0.6666666666666666,\"#ed7953\"],[0.7777777777777778,\"#fb9f3a\"],[0.8888888888888888,\"#fdca26\"],[1.0,\"#f0f921\"]],\"type\":\"contour\"}],\"contourcarpet\":[{\"colorbar\":{\"outlinewidth\":0,\"ticks\":\"\"},\"type\":\"contourcarpet\"}],\"heatmap\":[{\"colorbar\":{\"outlinewidth\":0,\"ticks\":\"\"},\"colorscale\":[[0.0,\"#0d0887\"],[0.1111111111111111,\"#46039f\"],[0.2222222222222222,\"#7201a8\"],[0.3333333333333333,\"#9c179e\"],[0.4444444444444444,\"#bd3786\"],[0.5555555555555556,\"#d8576b\"],[0.6666666666666666,\"#ed7953\"],[0.7777777777777778,\"#fb9f3a\"],[0.8888888888888888,\"#fdca26\"],[1.0,\"#f0f921\"]],\"type\":\"heatmap\"}],\"heatmapgl\":[{\"colorbar\":{\"outlinewidth\":0,\"ticks\":\"\"},\"colorscale\":[[0.0,\"#0d0887\"],[0.1111111111111111,\"#46039f\"],[0.2222222222222222,\"#7201a8\"],[0.3333333333333333,\"#9c179e\"],[0.4444444444444444,\"#bd3786\"],[0.5555555555555556,\"#d8576b\"],[0.6666666666666666,\"#ed7953\"],[0.7777777777777778,\"#fb9f3a\"],[0.8888888888888888,\"#fdca26\"],[1.0,\"#f0f921\"]],\"type\":\"heatmapgl\"}],\"histogram\":[{\"marker\":{\"pattern\":{\"fillmode\":\"overlay\",\"size\":10,\"solidity\":0.2}},\"type\":\"histogram\"}],\"histogram2d\":[{\"colorbar\":{\"outlinewidth\":0,\"ticks\":\"\"},\"colorscale\":[[0.0,\"#0d0887\"],[0.1111111111111111,\"#46039f\"],[0.2222222222222222,\"#7201a8\"],[0.3333333333333333,\"#9c179e\"],[0.4444444444444444,\"#bd3786\"],[0.5555555555555556,\"#d8576b\"],[0.6666666666666666,\"#ed7953\"],[0.7777777777777778,\"#fb9f3a\"],[0.8888888888888888,\"#fdca26\"],[1.0,\"#f0f921\"]],\"type\":\"histogram2d\"}],\"histogram2dcontour\":[{\"colorbar\":{\"outlinewidth\":0,\"ticks\":\"\"},\"colorscale\":[[0.0,\"#0d0887\"],[0.1111111111111111,\"#46039f\"],[0.2222222222222222,\"#7201a8\"],[0.3333333333333333,\"#9c179e\"],[0.4444444444444444,\"#bd3786\"],[0.5555555555555556,\"#d8576b\"],[0.6666666666666666,\"#ed7953\"],[0.7777777777777778,\"#fb9f3a\"],[0.8888888888888888,\"#fdca26\"],[1.0,\"#f0f921\"]],\"type\":\"histogram2dcontour\"}],\"mesh3d\":[{\"colorbar\":{\"outlinewidth\":0,\"ticks\":\"\"},\"type\":\"mesh3d\"}],\"parcoords\":[{\"line\":{\"colorbar\":{\"outlinewidth\":0,\"ticks\":\"\"}},\"type\":\"parcoords\"}],\"pie\":[{\"automargin\":true,\"type\":\"pie\"}],\"scatter\":[{\"marker\":{\"colorbar\":{\"outlinewidth\":0,\"ticks\":\"\"}},\"type\":\"scatter\"}],\"scatter3d\":[{\"line\":{\"colorbar\":{\"outlinewidth\":0,\"ticks\":\"\"}},\"marker\":{\"colorbar\":{\"outlinewidth\":0,\"ticks\":\"\"}},\"type\":\"scatter3d\"}],\"scattercarpet\":[{\"marker\":{\"colorbar\":{\"outlinewidth\":0,\"ticks\":\"\"}},\"type\":\"scattercarpet\"}],\"scattergeo\":[{\"marker\":{\"colorbar\":{\"outlinewidth\":0,\"ticks\":\"\"}},\"type\":\"scattergeo\"}],\"scattergl\":[{\"marker\":{\"colorbar\":{\"outlinewidth\":0,\"ticks\":\"\"}},\"type\":\"scattergl\"}],\"scattermapbox\":[{\"marker\":{\"colorbar\":{\"outlinewidth\":0,\"ticks\":\"\"}},\"type\":\"scattermapbox\"}],\"scatterpolar\":[{\"marker\":{\"colorbar\":{\"outlinewidth\":0,\"ticks\":\"\"}},\"type\":\"scatterpolar\"}],\"scatterpolargl\":[{\"marker\":{\"colorbar\":{\"outlinewidth\":0,\"ticks\":\"\"}},\"type\":\"scatterpolargl\"}],\"scatterternary\":[{\"marker\":{\"colorbar\":{\"outlinewidth\":0,\"ticks\":\"\"}},\"type\":\"scatterternary\"}],\"surface\":[{\"colorbar\":{\"outlinewidth\":0,\"ticks\":\"\"},\"colorscale\":[[0.0,\"#0d0887\"],[0.1111111111111111,\"#46039f\"],[0.2222222222222222,\"#7201a8\"],[0.3333333333333333,\"#9c179e\"],[0.4444444444444444,\"#bd3786\"],[0.5555555555555556,\"#d8576b\"],[0.6666666666666666,\"#ed7953\"],[0.7777777777777778,\"#fb9f3a\"],[0.8888888888888888,\"#fdca26\"],[1.0,\"#f0f921\"]],\"type\":\"surface\"}],\"table\":[{\"cells\":{\"fill\":{\"color\":\"#EBF0F8\"},\"line\":{\"color\":\"white\"}},\"header\":{\"fill\":{\"color\":\"#C8D4E3\"},\"line\":{\"color\":\"white\"}},\"type\":\"table\"}]},\"layout\":{\"annotationdefaults\":{\"arrowcolor\":\"#2a3f5f\",\"arrowhead\":0,\"arrowwidth\":1},\"autotypenumbers\":\"strict\",\"coloraxis\":{\"colorbar\":{\"outlinewidth\":0,\"ticks\":\"\"}},\"colorscale\":{\"diverging\":[[0,\"#8e0152\"],[0.1,\"#c51b7d\"],[0.2,\"#de77ae\"],[0.3,\"#f1b6da\"],[0.4,\"#fde0ef\"],[0.5,\"#f7f7f7\"],[0.6,\"#e6f5d0\"],[0.7,\"#b8e186\"],[0.8,\"#7fbc41\"],[0.9,\"#4d9221\"],[1,\"#276419\"]],\"sequential\":[[0.0,\"#0d0887\"],[0.1111111111111111,\"#46039f\"],[0.2222222222222222,\"#7201a8\"],[0.3333333333333333,\"#9c179e\"],[0.4444444444444444,\"#bd3786\"],[0.5555555555555556,\"#d8576b\"],[0.6666666666666666,\"#ed7953\"],[0.7777777777777778,\"#fb9f3a\"],[0.8888888888888888,\"#fdca26\"],[1.0,\"#f0f921\"]],\"sequentialminus\":[[0.0,\"#0d0887\"],[0.1111111111111111,\"#46039f\"],[0.2222222222222222,\"#7201a8\"],[0.3333333333333333,\"#9c179e\"],[0.4444444444444444,\"#bd3786\"],[0.5555555555555556,\"#d8576b\"],[0.6666666666666666,\"#ed7953\"],[0.7777777777777778,\"#fb9f3a\"],[0.8888888888888888,\"#fdca26\"],[1.0,\"#f0f921\"]]},\"colorway\":[\"#636efa\",\"#EF553B\",\"#00cc96\",\"#ab63fa\",\"#FFA15A\",\"#19d3f3\",\"#FF6692\",\"#B6E880\",\"#FF97FF\",\"#FECB52\"],\"font\":{\"color\":\"#2a3f5f\"},\"geo\":{\"bgcolor\":\"white\",\"lakecolor\":\"white\",\"landcolor\":\"#E5ECF6\",\"showlakes\":true,\"showland\":true,\"subunitcolor\":\"white\"},\"hoverlabel\":{\"align\":\"left\"},\"hovermode\":\"closest\",\"mapbox\":{\"style\":\"light\"},\"paper_bgcolor\":\"white\",\"plot_bgcolor\":\"#E5ECF6\",\"polar\":{\"angularaxis\":{\"gridcolor\":\"white\",\"linecolor\":\"white\",\"ticks\":\"\"},\"bgcolor\":\"#E5ECF6\",\"radialaxis\":{\"gridcolor\":\"white\",\"linecolor\":\"white\",\"ticks\":\"\"}},\"scene\":{\"xaxis\":{\"backgroundcolor\":\"#E5ECF6\",\"gridcolor\":\"white\",\"gridwidth\":2,\"linecolor\":\"white\",\"showbackground\":true,\"ticks\":\"\",\"zerolinecolor\":\"white\"},\"yaxis\":{\"backgroundcolor\":\"#E5ECF6\",\"gridcolor\":\"white\",\"gridwidth\":2,\"linecolor\":\"white\",\"showbackground\":true,\"ticks\":\"\",\"zerolinecolor\":\"white\"},\"zaxis\":{\"backgroundcolor\":\"#E5ECF6\",\"gridcolor\":\"white\",\"gridwidth\":2,\"linecolor\":\"white\",\"showbackground\":true,\"ticks\":\"\",\"zerolinecolor\":\"white\"}},\"shapedefaults\":{\"line\":{\"color\":\"#2a3f5f\"}},\"ternary\":{\"aaxis\":{\"gridcolor\":\"white\",\"linecolor\":\"white\",\"ticks\":\"\"},\"baxis\":{\"gridcolor\":\"white\",\"linecolor\":\"white\",\"ticks\":\"\"},\"bgcolor\":\"#E5ECF6\",\"caxis\":{\"gridcolor\":\"white\",\"linecolor\":\"white\",\"ticks\":\"\"}},\"title\":{\"x\":0.05},\"xaxis\":{\"automargin\":true,\"gridcolor\":\"white\",\"linecolor\":\"white\",\"ticks\":\"\",\"title\":{\"standoff\":15},\"zerolinecolor\":\"white\",\"zerolinewidth\":2},\"yaxis\":{\"automargin\":true,\"gridcolor\":\"white\",\"linecolor\":\"white\",\"ticks\":\"\",\"title\":{\"standoff\":15},\"zerolinecolor\":\"white\",\"zerolinewidth\":2}}},\"xaxis\":{\"anchor\":\"y\",\"domain\":[0.0,1.0]},\"yaxis\":{\"anchor\":\"x\",\"domain\":[0.0,1.0],\"title\":{\"text\":\"HasCrCard\"}},\"legend\":{\"tracegroupgap\":0},\"margin\":{\"t\":60},\"boxmode\":\"group\"},                        {\"responsive\": true}                    ).then(function(){\n",
              "                            \n",
              "var gd = document.getElementById('b969b77c-a34b-4a32-8521-405993466a7b');\n",
              "var x = new MutationObserver(function (mutations, observer) {{\n",
              "        var display = window.getComputedStyle(gd).display;\n",
              "        if (!display || display === 'none') {{\n",
              "            console.log([gd, 'removed!']);\n",
              "            Plotly.purge(gd);\n",
              "            observer.disconnect();\n",
              "        }}\n",
              "}});\n",
              "\n",
              "// Listen for the removal of the full notebook cells\n",
              "var notebookContainer = gd.closest('#notebook-container');\n",
              "if (notebookContainer) {{\n",
              "    x.observe(notebookContainer, {childList: true});\n",
              "}}\n",
              "\n",
              "// Listen for the clearing of the current output cell\n",
              "var outputEl = gd.closest('.output');\n",
              "if (outputEl) {{\n",
              "    x.observe(outputEl, {childList: true});\n",
              "}}\n",
              "\n",
              "                        })                };                            </script>        </div>\n",
              "</body>\n",
              "</html>"
            ]
          },
          "metadata": {}
        }
      ]
    },
    {
      "cell_type": "code",
      "source": [
        "#Find multivariate outliers using a scatter plot\n",
        "\n",
        "fig = px.scatter(x=data['Tenure'],y=data['HasCrCard'])\n",
        "fig.show()"
      ],
      "metadata": {
        "colab": {
          "base_uri": "https://localhost:8080/",
          "height": 542
        },
        "id": "m_vg9np3J8Pl",
        "outputId": "edd6c916-5879-469b-9533-f9fa6aad3c7e"
      },
      "execution_count": null,
      "outputs": [
        {
          "output_type": "display_data",
          "data": {
            "text/html": [
              "<html>\n",
              "<head><meta charset=\"utf-8\" /></head>\n",
              "<body>\n",
              "    <div>            <script src=\"https://cdnjs.cloudflare.com/ajax/libs/mathjax/2.7.5/MathJax.js?config=TeX-AMS-MML_SVG\"></script><script type=\"text/javascript\">if (window.MathJax) {MathJax.Hub.Config({SVG: {font: \"STIX-Web\"}});}</script>                <script type=\"text/javascript\">window.PlotlyConfig = {MathJaxConfig: 'local'};</script>\n",
              "        <script src=\"https://cdn.plot.ly/plotly-2.8.3.min.js\"></script>                <div id=\"0f7f01c3-4b0e-4a47-9735-5f32da2087a9\" class=\"plotly-graph-div\" style=\"height:525px; width:100%;\"></div>            <script type=\"text/javascript\">                                    window.PLOTLYENV=window.PLOTLYENV || {};                                    if (document.getElementById(\"0f7f01c3-4b0e-4a47-9735-5f32da2087a9\")) {                    Plotly.newPlot(                        \"0f7f01c3-4b0e-4a47-9735-5f32da2087a9\",                        [{\"hovertemplate\":\"x=%{x}<br>y=%{y}<extra></extra>\",\"legendgroup\":\"\",\"marker\":{\"color\":\"#636efa\",\"symbol\":\"circle\"},\"mode\":\"markers\",\"name\":\"\",\"showlegend\":false,\"x\":[2,1,8,1,2,8,7,4,4,2,6,3,10,5,7,3,1,9,6,6,8,8,4,3,5,3,2,9,3,0,3,7,9,6,9,0,3,7,7,6,4,8,2,2,5,4,9,9,2,2,10,5,5,8,1,1,5,0,4,4,5,9,1,8,4,6,1,10,5,8,2,6,0,5,9,1,8,9,5,10,1,2,3,4,4,10,3,9,4,3,5,7,10,8,4,10,9,8,8,9,6,6,9,7,1,4,1,2,5,9,3,7,2,9,9,9,6,1,8,4,8,6,6,10,3,9,1,0,7,9,3,9,9,1,7,5,5,2,2,1,10,7,5,2,5,5,8,5,9,0,7,9,8,2,6,7,7,2,6,4,6,2,7,2,0,9,7,9,2,9,4,5,10,4,5,7,0,5,8,3,2,2,1,2,4,8,1,0,5,7,8,3,1,8,9,3,6,3,10,6,2,4,5,2,3,3,3,5,5,2,2,8,9,1,4,7,7,9,1,8,9,7,2,10,6,4,9,6,2,3,1,0,1,3,5,6,2,3,2,2,4,5,8,6,7,10,7,1,8,8,5,1,0,2,8,0,10,6,6,3,9,6,6,0,9,9,2,7,7,7,9,3,1,8,4,7,3,10,6,1,8,10,4,7,8,7,5,8,5,10,9,5,7,9,3,2,4,7,0,5,10,6,8,6,4,1,2,7,4,8,4,6,3,0,2,3,2,9,3,4,2,8,1,4,3,4,2,9,1,7,7,1,2,8,6,7,3,2,5,10,6,4,5,8,7,7,9,3,1,5,3,2,7,6,1,0,8,9,1,3,3,2,9,9,9,3,9,8,2,2,4,1,0,1,7,8,10,4,2,2,9,7,10,8,3,9,6,2,2,10,7,3,9,8,0,2,3,8,9,1,1,4,8,6,8,9,9,4,10,3,10,1,3,9,8,8,5,9,6,6,3,2,7,4,9,9,10,0,9,1,3,2,0,8,8,3,4,10,2,3,3,9,7,2,3,1,2,4,6,6,7,9,7,3,6,5,3,3,1,8,1,3,3,4,4,9,9,5,8,3,10,1,2,8,1,6,1,8,7,4,6,5,8,9,9,0,7,3,2,9,1,2,4,6,2,8,6,5,8,8,4,5,5,9,4,5,7,6,5,2,10,6,5,6,3,9,10,7,4,6,1,7,5,8,3,2,2,8,3,1,2,4,6,10,7,1,10,9,5,1,8,9,4,0,7,2,0,7,7,1,3,6,10,7,3,3,5,3,3,5,7,1,8,1,6,4,2,1,5,7,1,1,9,10,3,8,3,4,6,2,8,2,3,9,1,2,9,5,1,6,7,8,9,4,4,2,9,9,5,4,8,7,9,5,10,9,4,10,5,2,10,6,2,1,8,0,6,8,7,8,9,10,5,3,2,7,1,2,1,3,1,6,10,3,6,5,1,1,10,4,5,5,1,5,9,8,3,7,4,6,4,7,3,4,8,8,6,1,9,6,3,8,2,4,1,9,3,3,3,5,3,9,0,6,5,5,4,7,1,3,5,5,4,8,9,2,2,5,7,5,1,1,8,6,2,6,1,1,2,0,5,7,2,1,2,5,4,4,8,3,0,6,1,3,3,9,4,5,10,5,2,6,1,2,3,10,9,7,5,1,6,10,3,9,7,6,6,2,6,8,7,8,7,2,8,5,2,5,2,4,0,9,7,2,5,9,2,2,9,5,5,5,6,1,2,2,2,9,2,1,2,4,2,3,6,7,7,9,8,8,8,1,2,8,7,5,1,2,0,8,2,3,6,1,1,8,9,3,6,9,7,0,7,9,4,9,0,5,10,6,10,7,3,8,2,5,8,2,9,6,4,5,8,9,4,8,5,1,2,10,6,5,1,3,6,2,3,5,3,4,6,1,8,5,3,7,6,5,1,0,1,1,8,6,8,4,5,7,9,1,8,2,7,6,4,10,1,1,6,4,8,7,2,7,5,9,1,4,3,9,6,4,6,4,7,7,0,2,3,8,8,2,9,3,8,5,8,6,2,2,1,7,7,5,4,9,6,1,10,7,6,6,4,1,10,6,6,3,3,9,5,1,5,1,9,1,3,5,8,7,6,9,8,1,9,3,8,5,4,10,1,8,6,8,8,5,4,5,4,3,8,8,9,0,2,4,0,8,8,6,1,4,7,4,4,5,6,9,3,9,10,3,5,7,5,8,8,4,8,7,0,0,7,6,1,9,1,0,7,3,5,2,3,7,9,9,3,7,4,1,8,10,1,3,7,5,6,7,6,0,10,3,4,4,3,5,7,7,5,1,6,6,1,3,4,4,6,0,9,10,1,3,4,1,3,0,2,1,1,3,3,5,7,1,4,6,1,4,5,3,4,2,3,6,7,3,3,1,8,7,8,4,9,5,4,4,10,4,6,7,5,8,6,6,7,6,8,3,8,10,7,8,0,5,8,5,2,10,2,3,4,7,4,4,0,4,3,6,4,7,2,9,7,2,7,3,2,1,7,4,0,1,3,8,8,5,8,1,7,2,4,4,1,1,7,1,8,3,2,7,1,9,0,4,2,6,5,4,9,1,5,5,9,9,4,8,3,5,3,4,6,4,2,7,2,3,3,1,9,10,8,6,9,5,0,5,1,10,2,8,6,0,3,3,5,5,9,1,4,1,6,7,5,1,7,3,3,9,2,5,1,3,4,6,7,2,4,6,9,7,6,2,5,2,7,10,5,4,6,7,7,5,6,4,6,8,5,3,5,5,7,2,1,1,8,6,6,7,3,6,2,4,9,4,7,6,0,5,3,7,9,1,4,6,0,10,7,6,3,4,5,10,4,4,1,3,9,3,3,1,5,6,1,7,9,8,3,2,6,4,7,2,7,5,6,9,5,7,7,6,4,8,8,7,7,5,5,9,7,10,9,2,7,2,0,3,2,5,10,8,1,3,2,9,0,10,3,2,10,8,2,7,8,3,2,5,4,3,5,2,7,6,2,7,2,8,3,3,3,6,8,7,3,8,1,9,5,10,5,7,2,7,4,3,6,6,5,2,7,3,3,9,5,7,7,6,4,3,9,0,3,4,10,4,3,8,7,7,4,8,7,8,8,9,3,6,8,6,4,10,3,5,3,10,8,8,7,4,0,2,9,4,8,2,9,7,0,4,3,5,9,2,8,6,4,6,2,2,9,5,7,4,4,10,5,7,8,2,9,2,5,5,9,1,8,2,4,9,5,8,3,2,4,1,9,8,1,9,9,7,10,6,8,6,10,7,2,5,4,6,3,10,3,7,7,2,8,4,2,10,10,4,1,5,6,3,7,0,3,1,1,4,1,8,6,8,5,2,5,8,5,8,8,1,1,10,4,4,6,8,8,7,9,3,6,7,8,9,7,8,1,7,5,5,8,4,10,3,6,6,2,0,10,2,8,6,7,6,8,3,5,6,1,8,6,4,8,8,5,8,2,6,1,3,4,9,8,8,4,8,1,5,4,6,7,6,1,2,8,4,2,7,1,8,4,7,10,2,1,0,10,4,6,5,8,1,9,6,8,1,1,5,3,6,10,2,9,8,7,8,6,7,1,8,3,6,4,7,7,7,5,6,3,7,6,4,7,5,8,1,2,8,4,8,1,9,2,4,2,8,0,9,3,3,9,6,4,4,8,10,1,5,4,2,10,3,0,5,9,5,8,1,3,7,5,7,6,0,9,8,5,2,3,4,7,3,5,7,8,4,6,9,5,1,8,9,6,6,2,9,7,0,7,4,4,1,5,8,10,7,3,2,6,1,7,10,8,8,4,1,6,3,0,5,7,0,5,4,1,8,3,8,7,8,9,7,8,8,7,8,8,9,5,1,4,4,0,5,2,2,8,5,1,9,6,9,9,3,8,1,3,7,5,6,5,2,5,4,5,0,7,4,5,7,3,8,0,9,8,7,7,4,1,6,7,2,1,9,2,9,7,7,2,10,5,7,2,1,5,9,5,4,1,7,1,6,3,7,1,2,4,1,4,1,7,8,5,4,5,2,8,0,6,1,8,3,2,1,8,6,3,8,7,1,1,5,9,4,4,10,3,7,8,1,5,7,7,2,5,6,0,0,7,9,2,9,3,3,5,8,9,1,4,8,4,4,9,7,9,8,5,7,0,8,5,6,6,7,0,9,5,3,8,1,2,9,7,0,8,8,5,4,10,4,4,9,2,1,4,9,8,2,9,8,7,7,9,3,8,7,6,2,10,1,5,5,9,9,7,9,9,2,2,7,6,6,7,8,7,9,4,1,8,3,7,7,3,0,5,6,8,5,10,2,1,9,4,3,6,3,0,9,4,6,2,7,1,3,3,7,7,5,9,2,8,3,1,8,3,3,6,4,5,7,5,3,9,3,3,7,7,3,6,6,9,5,3,1,9,2,10,8,9,10,5,3,4,6,6,8,1,5,8,8,5,9,8,5,9,5,10,4,0,4,4,5,6,1,5,8,9,1,6,4,1,9,2,4,8,0,1,2,6,8,7,5,2,1,5,3,1,3,2,0,8,3,7,10,6,5,8,9,9,4,3,2,4,4,3,3,6,3,4,1,6,9,9,7,9,4,2,3,5,8,4,8,6,7,0,6,5,1,3,5,2,9,8,2,5,1,8,1,4,8,5,9,6,9,3,4,6,6,3,1,6,8,9,9,2,8,4,5,4,2,1,9,6,6,2,6,3,9,7,1,5,5,0,7,9,1,9,5,3,4,1,7,9,1,2,6,4,8,6,3,5,7,1,3,5,5,10,7,4,6,8,4,7,2,7,5,4,2,9,2,7,6,9,9,8,4,6,2,6,6,1,9,4,1,3,2,8,7,6,9,1,4,5,2,7,4,10,7,9,8,10,6,5,3,7,3,5,6,2,6,8,7,9,1,2,8,4,9,2,0,4,9,2,4,1,3,7,5,9,9,1,1,9,8,8,2,5,6,8,9,2,9,2,2,8,6,8,4,9,9,3,2,1,1,2,9,1,0,8,4,4,9,5,2,9,6,5,6,2,8,9,3,2,6,8,5,8,2,8,0,10,6,3,2,2,3,6,3,2,6,6,10,6,2,1,9,8,8,7,7,6,1,2,4,5,4,9,1,2,2,0,5,4,4,9,4,8,5,4,7,9,6,2,6,5,9,7,5,1,9,7,3,5,4,7,8,2,8,2,0,9,7,9,9,2,2,10,8,4,0,7,0,2,6,4,9,6,9,5,9,3,6,5,2,2,9,5,6,1,6,2,10,7,5,2,3,5,0,6,8,1,6,7,9,3,5,0,7,5,5,4,9,4,7,3,5,3,7,2,7,2,1,4,4,1,3,5,5,4,9,2,5,9,9,10,7,2,9,1,3,4,6,9,9,4,9,4,7,1,9,10,4,4,4,4,1,7,3,4,4,9,8,3,10,8,7,4,3,3,4,8,9,8,0,7,2,1,9,2,8,9,6,9,8,6,0,7,2,4,10,2,4,3,5,2,8,4,4,3,6,2,8,4,8,1,6,7,10,1,0,4,5,8,2,10,5,10,5,0,9,1,5,4,1,10,9,1,8,9,2,4,10,3,4,9,6,3,9,6,4,8,10,9,8,5,8,2,1,4,3,6,6,7,3,1,6,4,4,3,10,5,2,4,3,8,8,10,5,0,6,0,4,8,1,2,10,2,7,1,10,4,4,6,2,2,0,7,4,1,1,4,10,6,6,8,10,3,4,2,5,5,1,3,0,6,6,8,3,9,1,5,0,1,0,4,8,0,3,7,8,2,9,4,4,8,2,6,1,9,5,6,4,6,1,6,2,5,7,9,2,9,5,4,8,1,0,6,0,5,7,0,9,6,8,5,8,7,2,6,7,6,10,4,2,1,7,10,9,0,7,5,5,3,1,1,2,4,3,3,7,3,9,9,6,1,8,6,5,0,9,3,5,2,6,2,3,3,1,2,1,9,4,2,0,9,3,8,6,5,4,5,5,5,9,4,6,5,4,0,3,3,2,5,9,2,4,2,2,8,2,3,9,7,3,2,5,9,7,2,2,7,5,1,10,10,4,5,5,3,9,7,6,0,3,4,8,2,1,8,2,3,8,0,7,5,8,4,2,4,7,2,4,9,3,1,4,1,9,9,9,8,1,3,6,3,9,8,3,9,8,8,4,3,2,10,1,3,7,1,5,7,2,8,4,3,7,4,8,2,4,7,9,8,10,8,6,9,8,8,6,0,7,1,4,6,7,2,6,3,6,7,9,1,10,4,1,5,7,6,1,1,3,7,8,10,9,8,9,8,6,5,7,9,6,1,0,4,3,2,5,8,7,6,2,6,8,9,8,4,7,2,5,0,3,7,2,10,9,2,7,2,1,4,8,4,5,1,10,3,5,9,1,4,7,9,6,1,0,4,8,9,6,8,6,2,1,4,5,2,6,2,10,4,7,5,9,5,5,6,4,1,5,3,3,3,4,7,6,8,9,8,6,9,1,8,9,1,0,3,1,9,7,7,5,1,6,8,2,3,8,3,5,6,1,2,9,5,5,3,9,3,7,2,9,6,7,8,2,1,7,3,7,6,0,9,6,2,8,1,6,7,1,2,6,4,9,4,8,6,4,6,9,8,6,0,4,7,7,9,8,7,8,10,6,5,2,5,9,9,9,7,4,1,7,1,4,0,7,10,6,5,1,8,10,2,9,7,7,9,3,1,5,5,5,7,7,7,2,9,9,9,6,4,9,1,1,3,2,3,8,9,8,0,1,1,1,2,8,5,8,3,2,7,7,5,1,5,4,2,6,5,4,1,5,10,1,2,8,9,4,3,8,10,2,8,7,6,3,7,2,5,6,7,3,2,10,1,4,3,10,2,9,1,1,9,8,4,7,10,1,2,1,3,7,1,4,5,1,2,5,1,4,1,1,8,8,7,3,9,7,6,8,5,10,7,7,2,7,8,0,6,10,2,6,6,1,3,2,5,4,8,3,8,2,5,8,3,2,2,5,3,7,8,3,3,8,3,9,3,10,5,4,6,2,1,10,8,1,7,7,10,4,7,3,6,5,7,3,4,8,6,4,7,8,6,9,5,3,4,1,5,10,0,10,2,3,4,2,7,8,1,2,8,6,6,8,9,3,9,6,7,7,8,5,3,4,5,9,7,8,5,6,4,7,0,5,2,3,1,3,6,7,1,7,4,5,10,9,1,6,9,9,10,8,4,2,6,5,8,1,3,0,4,4,1,1,4,6,4,3,3,8,9,2,8,7,1,1,10,1,9,8,6,4,10,10,7,2,1,2,2,0,1,9,10,5,6,6,5,6,1,9,0,7,6,6,0,8,10,7,2,3,6,7,5,3,8,0,10,5,4,4,7,3,7,2,2,3,6,2,5,2,1,3,5,7,7,9,4,4,6,3,1,2,7,7,3,2,2,4,9,9,1,1,6,8,9,8,1,3,0,9,10,2,10,9,0,5,4,3,8,8,3,7,10,2,3,3,7,6,3,6,5,3,6,1,2,9,8,1,8,7,4,5,2,3,4,5,3,5,5,6,10,4,3,4,5,3,6,3,8,7,4,1,6,5,2,9,2,7,2,5,10,5,5,4,7,7,9,2,1,5,2,0,5,8,6,6,4,2,2,4,4,3,5,7,3,6,5,9,9,7,6,8,7,4,7,3,8,6,6,5,4,2,9,6,3,4,5,7,2,9,7,3,9,7,1,8,6,3,2,6,9,10,2,10,1,0,1,8,5,4,10,9,4,9,1,3,5,6,4,4,8,3,3,7,2,2,8,4,5,1,9,8,5,10,3,0,3,9,1,8,6,8,9,10,5,4,1,8,7,2,4,1,1,3,2,3,9,0,6,4,1,7,3,7,0,9,3,6,2,3,10,7,3,10,6,6,7,3,7,4,1,1,7,10,5,10,2,5,3,1,10,9,3,1,2,5,3,10,2,8,7,1,5,5,10,4,9,6,7,4,9,7,5,5,5,8,0,5,4,5,7,7,2,6,5,4,4,8,1,8,6,6,5,5,4,6,3,4,1,1,6,1,4,7,8,10,9,8,5,5,3,2,3,8,2,6,3,4,4,9,8,2,1,9,5,5,4,8,8,7,4,2,3,4,3,2,5,10,9,5,0,1,8,7,6,6,2,7,4,10,1,5,7,6,1,8,3,6,0,9,6,4,8,0,4,9,8,6,1,4,6,7,8,8,9,5,3,8,7,5,4,0,5,8,0,3,6,3,3,3,9,2,8,4,3,10,8,0,8,6,6,7,3,9,2,7,5,5,0,9,9,4,2,2,4,6,6,7,9,1,2,2,10,7,3,2,8,9,2,5,2,2,1,5,6,5,4,4,4,10,7,10,3,10,6,2,8,5,7,3,6,3,7,10,1,8,1,0,3,0,2,0,8,1,8,9,4,2,9,1,7,7,5,2,3,7,6,9,2,10,8,8,2,1,7,9,6,6,3,1,5,9,10,8,2,2,2,6,8,1,5,6,4,9,7,10,2,3,8,8,4,4,2,5,1,8,7,3,1,5,2,2,3,0,5,2,2,8,9,3,9,4,2,4,0,3,7,5,4,8,7,3,0,5,2,6,9,4,1,0,10,3,0,1,6,9,7,5,7,0,9,6,10,3,9,5,0,8,2,8,4,3,7,1,10,5,1,6,6,7,5,6,4,2,1,2,8,1,6,8,7,6,4,1,3,1,9,9,9,3,0,7,9,5,6,3,3,3,5,6,6,2,4,7,8,7,6,4,5,9,2,4,6,9,8,3,6,1,6,6,8,5,0,2,9,5,6,5,2,3,9,5,2,2,9,2,1,9,8,4,8,4,1,6,3,4,2,5,2,2,6,6,1,7,3,3,3,7,0,5,6,1,5,6,9,8,5,5,1,3,4,1,1,9,5,9,5,5,8,10,5,10,9,5,5,9,7,3,9,2,0,5,5,7,0,10,2,8,4,8,4,10,4,2,6,7,5,3,8,3,7,9,6,7,0,1,4,2,8,6,8,7,8,7,10,7,0,3,8,7,5,10,5,1,5,5,8,1,4,2,6,7,3,1,9,4,4,1,2,1,6,9,3,2,4,6,0,8,7,8,10,5,8,4,6,7,9,6,4,2,2,5,6,2,8,2,5,1,8,5,9,2,7,4,9,9,10,5,3,6,3,6,8,10,4,6,8,5,10,1,1,4,3,3,1,4,9,0,2,5,1,3,1,4,2,5,6,4,4,4,4,3,2,6,8,2,4,1,10,5,10,7,5,9,9,4,3,0,6,6,10,3,9,1,6,1,9,4,3,5,3,5,9,7,1,7,10,1,5,9,10,9,5,7,2,9,6,3,5,3,2,3,8,7,7,0,5,2,8,2,2,6,6,1,6,6,8,8,3,8,8,5,0,3,7,4,5,7,1,7,5,8,8,10,3,6,2,3,4,0,8,7,1,2,10,4,5,2,8,8,4,5,9,4,3,1,2,0,9,2,7,2,1,8,5,7,9,7,2,5,8,7,5,9,2,0,4,8,7,1,9,5,9,1,1,5,6,8,2,8,8,6,9,9,10,3,5,3,7,6,4,9,6,3,2,0,5,5,1,8,8,5,8,3,5,2,7,1,8,4,9,1,7,3,2,8,8,10,8,4,8,3,8,4,7,5,3,5,0,7,4,2,4,3,7,4,10,7,2,5,3,1,4,1,5,10,2,3,3,8,9,9,7,8,3,1,2,3,7,2,4,9,7,5,5,1,4,10,5,1,7,9,10,7,7,4,8,3,5,1,3,1,6,3,3,3,2,6,3,5,9,5,2,1,8,3,6,5,10,3,7,8,2,3,6,1,7,4,4,4,7,8,1,2,8,9,3,10,8,2,6,0,5,2,4,2,0,2,2,8,5,9,0,7,7,7,9,4,0,2,2,1,1,7,3,7,0,6,6,6,4,8,8,9,6,2,10,2,2,9,7,1,7,6,9,5,2,5,8,0,3,4,10,3,6,1,8,3,1,1,6,7,5,7,4,6,4,6,3,1,7,0,0,7,9,3,1,0,7,1,3,7,1,3,2,4,8,8,6,8,8,1,2,10,5,3,8,1,6,2,2,1,0,5,1,8,6,4,3,8,1,9,4,2,0,3,1,8,1,9,3,3,6,8,1,3,0,1,6,7,6,1,2,4,9,2,5,7,7,5,3,2,1,1,9,2,2,8,8,8,8,7,7,7,10,7,5,4,8,9,9,1,6,8,7,6,0,6,2,9,7,5,1,7,1,7,9,10,8,3,5,9,1,9,3,4,2,1,7,6,1,3,1,7,0,4,1,3,4,2,4,4,8,7,9,8,7,3,9,1,7,3,1,1,6,2,4,8,9,8,0,6,6,7,6,1,8,7,1,2,6,4,9,3,5,8,1,1,5,8,10,3,8,1,8,3,7,7,1,1,3,10,1,0,2,2,5,3,1,10,3,7,1,8,2,8,5,8,3,2,2,3,7,8,9,3,3,0,5,3,8,4,4,1,2,7,3,3,5,9,8,4,8,2,0,0,6,0,10,3,5,3,7,3,2,6,1,2,1,9,3,10,8,3,3,2,7,1,1,1,2,2,5,0,6,4,9,7,7,1,0,4,2,5,0,10,0,8,0,10,4,8,6,1,3,3,3,0,9,1,10,8,8,1,3,4,0,8,6,7,7,1,5,4,1,3,1,1,4,2,0,6,1,6,6,2,8,8,1,1,9,6,7,4,5,8,8,2,2,2,1,8,7,3,1,3,1,0,3,1,9,9,3,1,5,3,6,1,7,5,7,1,2,1,8,7,8,5,7,3,2,1,9,2,8,2,4,6,5,9,1,1,6,1,6,5,3,5,2,1,1,2,0,3,4,7,6,3,8,6,8,7,1,4,3,3,2,6,5,5,10,4,9,5,4,7,7,10,2,4,10,3,9,5,2,5,7,2,2,2,7,5,1,6,9,0,3,6,2,5,8,0,10,4,4,9,1,10,9,4,3,3,6,4,1,3,3,7,8,9,8,7,8,3,4,6,10,8,2,5,5,0,9,8,4,5,10,5,8,7,5,2,7,9,7,0,2,3,7,3,3,2,2,6,9,1,0,1,10,1,6,7,2,10,2,8,5,2,5,3,6,9,7,1,6,6,0,1,2,6,1,3,10,5,0,9,1,7,5,2,8,6,4,1,6,7,9,1,9,3,2,3,6,5,10,0,2,0,3,1,9,8,3,1,2,2,2,4,2,6,7,8,7,4,10,6,7,4,4,4,4,7,3,9,8,8,9,6,9,4,9,1,7,3,9,4,7,7,3,5,0,7,4,4,7,8,5,3,5,6,8,6,8,4,1,9,2,10,0,3,10,8,4,5,8,7,3,8,2,5,3,7,2,5,7,8,3,2,3,3,3,8,2,10,1,8,0,2,4,1,2,3,9,4,4,1,10,7,9,10,2,8,5,9,6,5,8,9,0,8,7,10,6,5,10,6,4,9,1,8,2,9,4,9,9,5,0,2,0,5,7,8,9,9,5,2,9,3,7,3,1,9,9,6,8,1,4,1,8,1,4,10,3,3,5,0,2,8,7,8,5,8,3,2,9,7,9,6,10,4,10,6,6,4,4,9,5,2,3,1,2,9,3,1,0,3,10,9,4,3,5,0,9,9,6,9,7,10,4,7,6,7,8,7,4,2,2,9,7,9,6,5,7,6,8,5,2,1,4,9,9,2,4,5,5,1,8,9,4,2,7,8,1,3,9,1,6,1,8,8,3,10,7,2,7,4,5,4,3,3,3,5,4,7,9,4,7,7,3,7,1,3,10,8,5,6,5,4,1,9,2,8,3,3,1,1,0,10,5,7,2,5,3,9,9,5,7,9,8,1,1,1,1,2,3,9,8,1,5,5,7,4,1,6,9,6,6,9,8,8,4,1,0,7,3,3,8,4,3,1,1,1,2,5,9,2,6,10,9,6,6,8,6,1,6,2,9,9,6,1,9,7,1,5,9,0,8,5,10,5,5,1,0,1,3,0,7,5,5,0,6,8,2,3,9,2,3,1,2,8,4,5,9,4,0,4,1,7,5,6,1,1,3,3,9,2,1,6,4,1,2,5,7,1,10,9,1,5,2,2,5,5,3,8,6,3,5,6,10,7,1,1,2,7,0,9,6,4,1,6,9,10,1,4,1,8,2,8,0,5,9,7,3,8,5,10,4,7,4,2,6,1,0,7,4,7,2,6,1,1,8,1,3,4,5,7,1,6,9,8,1,3,2,7,7,8,0,2,5,4,2,6,7,4,2,1,10,1,5,2,8,9,5,7,6,4,1,4,5,9,9,10,2,7,5,2,5,6,2,1,3,1,5,4,1,10,4,3,9,5,1,2,9,3,8,1,2,1,2,4,5,9,7,8,2,6,7,9,8,10,1,8,3,8,9,8,3,10,2,7,0,3,3,9,1,0,2,8,6,2,3,8,6,1,6,1,6,4,0,10,4,2,4,8,6,3,9,4,8,8,3,10,9,3,0,3,2,3,6,6,9,7,2,3,6,10,3,3,0,6,6,5,3,5,4,2,9,5,2,5,3,1,7,0,2,3,6,8,9,2,4,5,5,8,2,5,3,8,9,2,2,1,6,9,10,5,6,7,6,4,9,6,7,5,7,9,1,1,0,5,8,7,1,4,5,6,1,7,3,8,2,4,10,7,6,4,10,6,1,7,7,4,3,4,9,5,5,2,2,1,3,8,7,8,2,2,4,6,8,5,9,5,7,6,10,0,9,2,3,1,9,0,9,2,4,5,7,2,4,9,7,8,7,7,8,6,5,5,8,3,6,9,9,4,6,2,9,1,3,3,6,6,6,4,4,5,6,4,6,7,7,5,9,6,3,4,7,8,6,5,9,9,3,9,5,2,9,10,10,9,1,5,7,1,6,5,3,6,5,1,8,8,10,10,4,7,8,7,8,4,3,2,8,1,8,9,2,0,1,3,7,8,8,8,9,6,3,6,9,9,7,3,4,8,7,3,5,6,0,3,5,2,2,0,8,1,8,8,1,9,8,8,0,2,10,6,8,7,2,4,5,4,10,1,7,6,5,8,5,8,4,10,0,3,9,1,10,2,5,1,1,9,2,4,7,6,3,5,1,4,1,9,6,5,4,7,2,7,1,8,0,9,8,9,4,8,6,9,2,5,10,6,3,0,4,1,9,4,5,9,1,4,0,2,6,3,3,5,5,1,6,7,10,7,4,3,4,3,9,4,8,3,5,2,2,2,7,9,2,6,2,6,10,6,0,0,9,2,10,3,5,0,3,2,4,1,3,10,1,7,1,2,2,2,4,1,9,4,6,5,4,7,9,6,6,4,6,2,7,10,2,1,2,8,6,10,3,9,1,8,7,3,8,3,5,7,2,4,9,2,9,8,7,4,6,0,0,7,4,3,9,7,7,8,8,7,10,7,0,9,4,6,3,7,6,5,0,7,6,9,9,2,1,7,1,5,9,5,8,6,10,6,3,0,7,7,9,6,4,7,8,7,2,10,9,3,2,7,10,5,4,4,0,6,10,5,2,7,10,9,5,3,5,5,1,1,3,4,9,4,7,2,7,9,2,4,7,0,6,3,1,3,5,9,8,2,4,5,8,1,4,5,7,5,4,8,1,6,0,1,2,9,6,0,6,4,1,4,0,9,6,4,9,3,7,5,8,7,2,7,0,6,4,2,4,8,9,5,5,3,3,2,4,9,2,8,8,1,9,7,3,9,7,2,7,2,3,7,10,8,4,9,5,9,2,6,6,10,9,0,3,5,3,3,9,9,1,2,5,7,0,2,5,1,7,8,3,6,7,7,5,2,1,4,2,9,9,4,8,8,6,3,9,4,8,1,1,10,3,7,3,2,9,6,8,10,2,5,3,4,8,3,0,5,1,8,5,7,7,8,2,7,10,9,2,3,5,1,1,4,8,3,4,4,4,10,9,3,4,6,5,3,5,3,4,3,7,2,0,7,5,2,0,8,3,5,8,2,1,4,7,9,10,9,3,7,2,6,9,6,1,2,10,1,10,0,2,0,8,9,6,3,5,7,4,1,1,2,6,2,3,1,3,6,1,1,8,1,4,8,4,1,3,0,10,8,3,5,1,4,1,9,2,9,10,8,1,3,9,6,7,9,5,1,9,6,1,2,3,9,6,3,3,9,4,4,5,2,8,7,9,2,8,4,8,7,1,9,7,1,0,1,2,7,3,6,4,4,2,7,9,4,5,9,4,8,9,3,10,9,6,7,9,3,5,0,2,8,0,5,8,3,7,2,6,8,4,8,6,1,4,1,8,8,8,1,10,6,3,4,1,8,8,7,1,3,9,8,5,4,9,3,2,9,1,0,8,4,6,5,9,9,0,2,2,5,2,2,1,5,5,9,2,7,1,3,5,6,7,1,7,9,3,9,7,5,3,4,2,0,2,9,9,9,5,10,3,0,2,7,4,8,4,9,1,1,5,4,2,9,6,6,8,6,0,8,9,8,5,3,7,2,5,6,3,1,3,5,8,4,2,4,3,1,10,1,5,3,6,1,9,3,6,2,6,6,5,5,0,9,10,6,1,5,4,4,1,1,2,6,4,7,6,4,5,5,10,8,2,5,4,4,9,5,6,8,4,3,2,5,5,2,9,3,2,6,5,9,7,5,4,9,5,9,5,9,2,6,1,2,1,6,6,1,8,4,7,9,7,2,7,9,4,4,10,4,1,4,1,4,7,3,9,10,9,8,4,8,9,6,7,3,4,1,3,5,7,1,3,2,0,4,7,6,3,5,5,1,4,5,1,5,0,4,1,7,3,4,0,2,0,1,8,1,4,10,8,3,9,6,5,4,9,7,6,6,7,8,9,5,7,2,5,7,0,7,6,1,3,7,5,5,2,6,2,8,1,10,6,5,6,9,6,2,3,5,3,7,1,8,8,1,3,5,5,0,1,3,7,6,7,6,6,5,3,3,5,7,1,5,2,3,4,6,5,7,6,1,3,4,2,8,1,7,10,10,5,8,8,7,1,4,5,4,5,4,1,4,7,8,3,8,5,9,10,3,0,8,2,5,8,8,1,4,8,7,5,5,3,8,3,7,6,7,8,8,5,9,9,2,3,1,6,3,10,7,7,8,3,5,0,8,7,0,2,3,4,0,3,10,4,5,2,4,7,3,5,2,8,8,8,9,10,10,9,4,9,4,0,4,1,2,9,8,2,9,1,9,4,3,3,3,10,9,2,2,7,7,3,3,9,2,1,1,5,4,5,7,6,7,5,7,6,7,2,7,6,4,9,5,8,7,6,2,2,3,10,4,9,5,1,10,6,0,6,7,3,7,9,6,8,2,6,6,8,8,9,7,7,1,1,6,9,5,9,5,3,3,6,0,5,10,3,5,3,7,0,10,9,1,1,10,9,9,9,8,2,10,8,6,6,9,6,6,7,3,1,1,8,5,5,3,1,1,1,9,4,1,5,2,1,1,4,3,6,5,9,6,3,0,8,1,4,2,0,3,7,9,3,7,10,9,0,7,2,3,1,9,8,1,2,8,4,6,1,7,8,5,8,6,7,6,2,2,4,0,7,3,6,1,3,5,5,5,1,3,10,7,7,2,8,4,0,7,3,7,2,5,1,9,1,5,0,1,3,1,9,7,2,1,2,4,4,9,1,6,8,4,7,6,7,7,3,2,6,8,1,5,7,8,4,7,4,3,7,1,3,8,6,5,6,9,7,6,7,9,9,8,8,2,9,5,7,7,10,4,4,5,8,9,1,5,1,4,3,9,7,1,4,1,2,5,5,4,9,5,10,2,8,1,6,5,5,6,8,1,8,8,2,6,1,5,9,2,7,4,3,9,5,3,2,4,7,4,8,0,4,4,1,7,3,8,0,1,2,2,1,2,3,6,2,2,6,6,6,1,5,6,6,9,8,8,4,4,1,9,4,2,3,8,1,4,3,2,3,5,9,1,5,7,4,7,1,9,10,8,5,10,6,6,3,8,4,2,1,7,3,4,3,1,3,7,4,5,8,10,2,8,4,5,5,1,2,8,9,6,2,3,1,4,6,5,8,7,3,6,10,3,4,4,4,3,1,3,2,8,8,1,5,2,0,8,6,1,6,1,2,7,0,4,5,1,8,4,4,4,8,3,9,7,6,10,8,6,3,6,9,3,5,10,8,7,7,5,0,6,8,1,9,5,8,3,5,7,8,7,6,7,0,3,8,9,4,9,8,9,9,2,8,6,5,10,6,7,1,5,8,1,10,9,1,4,4,6,9,4,5,8,1,2,8,1,7,4,9,6,4,9,8,7,0,2,2,6,2,10,4,1,5,5,7,7,7,8,7,5,7,5,7,2,5,3,2,7,6,9,7,0,2,0,2,5,8,7,7,1,4,2,3,7,10,9,6,7,1,7,0,6,6,9,2,0,4,1,7,9,7,3,4,3,4,3,4,7,4,4,3,2,2,7,8,4,9,6,1,1,6,0,8,7,2,8,6,7,6,1,0,4,2,6,2,5,1,5,1,9,1,8,10,2,7,4,1,5,8,4,6,2,6,4,7,8,8,0,4,7,4,7,2,5,6,7,2,6,7,5,4,4,1,5,8,7,6,4,6,4,6,4,5,10,8,10,3,4,4,10,9,7,1,6,6,0,8,1,7,8,6,7,7,4,2,8,9,5,3,5,6,7,8,7,5,4,1,7,1,9,7,6,1,8,4,4,2,9,5,6,7,4,2,6,8,5,4,3,9,1,7,2,1,3,4,8,9,6,0,3,2,2,1,5,6,9,4,6,6,5,5,2,4,4,3,8,7,2,5,8,8,1,0,4,8,2,5,4,6,4,9,0,9,3,4,10,2,8,4,8,6,4,4,1,2,0,4,8,6,7,5,5,9,5,8,4,4,6,2,4,10,10,1,2,8,7,8,6,4,8,10,7,2,4,4,9,4,9,1,0,6,2,9,0,8,7,2,7,8,1,6,2,8,9,1,0,5,1,8,6,1,0,1,10,1,6,6,2,1,4,4,1,3,7,10,4,9,10,7,2,9,8,6,3,3,9,0,2,6,4,6,7,1,10,4,5,4,8,7,8,8,8,1,5,4,3,1,10,3,9,10,8,9,1,10,7,1,0,8,1,3,7,8,6,10,4,7,7,1,9,9,4,6,6,3,5,5,0,5,7,5,7,7,6,4,7,7,2,9,5,6,5,1,3,3,3,8,3,8,7,4,0,9,2,8,6,3,6,2,9,1,4,9,9,10,0,5,3,8,5,2,5,4,4,8,7,3,10,5,2,10,9,8,0,6,1,6,7,5,10,1,2,8,5,7,4,7,9,7,2,8,4,1,3,9,5,4,6,1,3,5,5,4,10,8,3,9,9,4,3,8,2,9,9,5,5,8,1,3,9,3,8,9,1,9,2,5,1,2,1,9,6,3,5,6,7,8,2,10,8,2,1,3,6,3,4,6,5,8,1,3,7,0,5,8,6,9,1,0,6,3,10,6,8,7,6,3,1,6,3,2,1,2,7,2,1,9,7,3,1,4,7,5,10,10,0,2,0,10,7,8,6,2,9,10,9,2,3,3,6,8,4,2,7,3,5,3,5,1,7,9,8,9,3,4,3,7,2,2,2,8,3,3,8,2,9,8,0,5,2,2,7,8,4,2,10,9,8,9,2,3,6,9,8,4,2,8,3,4,7,7,5,1,0,3,0,10,7,0,6,3,7,7,8,7,6,3,3,9,1,5,8,2,9,6,3,4,8,8,3,10,5,5,1,0,2,10,6,9,9,1,6,6,0,8,2,0,9,7,2,5,8,1,10,1,6,4,7,1,3,9,10,0,10,3,2,4,5,6,1,2,6,9,1,6,9,5,8,5,7,6,5,2,7,5,1,4,4,7,1,8,7,6,6,2,3,2,10,6,2,1,1,1,8,6,5,3,1,10,0,2,3,7,5,5,3,6,8,4,2,3,6,0,4,4,9,8,2,6,10,5,7,2,3,4,10,2,7,7,9,1,9,6,2,3,5,8,8,5,9,7,4,1,1,5,6,3,5,8,9,1,6,5,1,8,4,10,1,10,2,10,2,2,1,2,5,3,8,2,6,3,1,10,9,8,4,8,8,3,6,5,6,9,8,1,10,5,4,10,1,6,4,9,3,3,5,6,3,2,1,9,3,1,8,7,2,2,6,6,9,6,6,9,3,5,5,4,9,1,1,4,5,7,8,9,4,8,6,3,6,3,7,4,0,6,1,9,2,1,2,1,5,2,6,6,0,2,2,6,5,2,1,6,2,10,3,6,0,10,3,2,6,2,6,9,6,7,5,5,2,2,1,10,9,6,8,4,5,5,3,4,3,6,7,1,6,4,1,6,1,4,1,1,9,7,8,7,8,5,1,2,3,6,2,9,7,2,6,5,4,4,3,2,8,8,7,2,3,1,0,8,1,0,6,3,8,7,9,1,8,5,2,3,6,3,5,3,8,2,10,8,5,4,7,3,6,3,9,5,10,4,5,3,4,6,2,3,5,6,2,7,0,4,7,4,2,9,2,6,4,7,1,3,3,3,3,10,7,4,0,9,4,9,9,3,3,7,7,8,9,2,3,0,5,7,5,6,6,9,1,9,7,3,1,1,5,1,3,5,7,4,10,6,0,1,8,2,7,0,8,5,1,1,5,9,3,8,2,7,8,4,1,3,10,7,1,9,4,4,1,5,4,2,6,7,2,4,5,7,3,2,8,1,3,4,3,7,9,6,6,6,3,4,1,7,4,6,7,3,1,5,6,3,9,0,9,5,2,2,1,4,4,10,4,0,9,1,0,7,3,3,9,3,3,9,7,2,1,2,6,7,6,1,4,3,3,8,6,9,9,7,1,10,1,2,7,7,1,3,5,2,4,7,7,3,4,6,6,8,2,3,5,3,4,0,8,4,6,0,10,3,9,10,0,4,6,7,8,8,1,6,4,5,3,5,2,4,9,9,7,9,7,6,3,2,5,2,6,9,6,5,4,2,9,1,0,2,2,7,8,6,5,7,3,7,9,7,2,8,5,4,5,3,7,6,5,1,9,5,8,1,9,6,6,9,8,4,7,5,7,1,2,4,2,9,3,5,5,0,10,3,6,4,2,9,0,0,2,5,10,2,9,3,7,6,0,5,7,5,2,9,9,2,4,3,1,7,2,2,6,8,2,3,5,9,5,2,2,8,9,5,4,7,0,4,8,3,7,1,3,8,1,6,8,1,3,4,9,2,1,2,8,6,2,8,6,5,1,7,5,8,4,7,7,2,2,4,8,1,7,1,4,3,1,10,7,5,0,5,10,7,1,10,9,4,9,0,9,7,2,10,8,4,0,9,1,10,4,6,2,1,2,6,6,9,2,7,7,10,6,9,7,9,5,2,3,1,3,9,8,8,2,7,8,5,2,3,1,8,1,3,2,1,4,6,6,6,6,8,7,9,8,4,1,7,4,3,4,2,2,4,2,5,3,2,3,4,6,9,4,6,2,8,10,8,3,2,3,1,1,1,5,6,9,1,9,2,5,6,4,4,1,2,1,1,4,5,2,8,9,1,1,8,7,1,10,9,5,4,2,1,7,6,6,8,10,9,10,5,4,8,5,9,9,0,3,7,2,8,2,9,3,2,2,7,9,3,6,2,9,5,6,6,0,5,2,7,6,8,4,7,10,8,3,8,7,4,8,5,10,6,9,10,10,2,3,8,5,7,8,4,9,5,8,8,10,6,1,2,8,5,2,4,7,3,2,10,8,10,10,3,0,8,1,6,10,5,7,8,4,6,9,6,10,9,1,9,3,9,7,6,9,9,1,8,1,1,2,8,9,2,8,1,2,2,8,5,4,9,6,7,6,2,8,6,3,7,5,9,7,3,8,4,1,7,4,3,10,9,6,4,1,6,9,5,7,3,1,6,2,4,7,3,9,7,2,0,1,2,1,9,4,7,1,2,10,3,4,5,7,8,3,6,10,5,6,1,10,4,7,2,8,5,2,3,7,8,0,8,3,2,0,6,9,3,1,9,2,4,1,2,5,2,4,1,8,3,9,10,5,5,10,2,8,1,8,6,3,2,2,5,9,4,3,0,3,10,9,5,9,7,5,6,1,6,7,4,8,3,1,9,8,2,2,8,0,1,4,5,5,4,10,6,1,9,1,8,9,7,4,9,8,1,2,7,2,3,10,5,7,10,3,8,4,8,6,8,1,8,9,0,1,9,8,8,7,0,7,2,3,4,2,1,0,2,2,2,3,3,6,8,3,0,7,6,5,5,10,2,1,8,4,4,8,5,2,10,9,9,6,7,6,3,7,8,9,7,9,8,6,3,3,7,5,6,8,9,2,5,2,2,4,6,2,7,9,2,1,2,7,5,2,0,2,3,1,8,1,3,5,5,5,1,5,4,9,5,6,9,6,5,3,5,2,8,0,6,9,1,1,3,3,2,7,5,9,1,4,1,3,6,5,5,9,1,8,7,1,6,7,5,8,6,5,2,3,8,4,5,6,2,4,0,2,9,7,5,2,6,6,2,3,6,5,10,9,10,10,9,5,9,2,5,2,3,6,6,5,4,0,1,7,5,2,4,10,1,6,5,4,5,1,3,7,4,0,10,5,7,8,9,8,10,6,4,9,8,7,4,1,4,9,5,2,2,7,10,7,4,10,7,6,7,2,2,1,8,6,2,9,8,8,1,7,9,3,6,10,2,1,0,7,4,6,3,4,4,9,8,6,1,8,7,4,9,3,4,6,6,1,9,4,5,0,0,5,2,1,0,6,10,4,10,10,10,5,2,4,4,4,3,0,0,4,5,5,2,5,8,10,9,4,4,4,6,4,4,7,10,8,9,0,3,0,1,7,6,7,0,6,7,10,6,3,7,8,0,3,7,6,6,3,3,1,5,5,2,4,3,8,2,1,9,1,3,7,6,5,6,3,1,3,3,5,7,5,9,1,8,5,1,5,8,9,9,8,5,7,9,4,10,1,9,5,2,2,0,6,2,2,10,0,7,8,0,6,9,1,6,1,9,9,9,10,2,2,7,5,9,8,9,5,10,4,9,5,2,1,10,7,3,3,2,2,9,0,7,4,4,7,8,0,8,8,7,9,9,9,2,2,3,3,9,9,6,9,8,2,4,9,1,1,5,4,2,0,1,2,1,2,7,2,4,8,10,1,5,2,5,0,0,9,8,1,2,7,2,5,3,4,3,6,5,7,6,2,10,10,5,4,6,10,9,2,6,6,2,1,7,5,9,8,1,4,1,0,9,8,5,5,2,7,7,4,4,5,3,3,10,1,9,1,2,5,4,1,8,8,2,3,5,7,4,4,6,2,8,9,7,4,6,7,9,2,2,1,9,4,10,8,0,4,8,2,7,5,1,1,0,8,1,3,1,4,6,5,6,3,3,4,4,0,8,10,1,1,6,5,8,2,3,6,5,10,6,0,8,1,2,4,5,5,9,9,3,8,7,2,2,8,7,0,5,6,5,9,9,5,6,5,7,6,2,8,10,6,2,6,3,8,9,6,7,1,7,3,7,1,9,4,5,7,3,5,7,6,4,8,5,6,5,9,1,9,6,4,1,10,8,8,7,7,3,9,1,3,2,0,9,9,6,8,2,7,6,10,1,3,7,8,1,1,5,5,7,10,1,7,7,7,3,7,3,9,10,5,9,1,1,2,1,1,4,3,9,2,3,3,4,4,8,8,0,0,1,3,9,2,8,5,6,6,10,2,5,2,1,4,3,9,6,2,8,5,10,5,7,0,5,1,7,3,5,4,4,5,10,3,4,6,3,9,7,6,5,2,3,3,4,4,7,9,8,1,1,4,2,9,1,8,4,6,3,4,4,10,5,9,10,4,7,10,5,6,8,6,9,2,4,3,5,7,9,1,6,7,10,8,3,8,3,9,2,7,5,3,3,9,6,5,3,7,2,3,7,1,7,10,2,7,3,3,3,8,2,8,7,3,8,7,4,9,8,4,0,5,5,8,8,4,8,7,1,8,7,6,4,2,2,1,8,1,10,2,4,3,4,10,5,5,1,4,1,3,7,3,9,10,9,3,7,4,4,5,4,7,5,1,2,6,8,0,5,2,10,10,2,0,3,3,1,1,9,7,9,8,9,1,10,1,9,10,1,7,8,5,7,1,5,8,3,2,9,10,4,5,1,1,6,1,2,1,6,2,10,5,1,5,8,1,9,0,5,9,7,9,10,6,4,8,6,10,6,2,1,1,3,4,10,8,8,5,1,3,4,4,0,6,1,3,2,9,4,7,7,3,8,9,3,1,3,2,4,8,2,8,10,2,4,10,5,9,6,3,2,8,4,3,6,3,7,10,10,2,4,10,9,2,7,3,6,1,1,5,7,8,1,0,3,1,8,6,5,5,1,6,4,4,9,6,8,8,10,5,1,8,5,9,7,8,5,2,7,10,9,1,1,9,10,8,6,2,6,4,10,1,6,4,9,9,9,2,5,4,4,5,8,6,7,3,4,7,7,1,7,9,9,1,6,3,7,4,7,6,1,8,4,4,3,4,2,7,2,5,10,7,3,4],\"xaxis\":\"x\",\"y\":[1,0,1,0,1,1,1,1,0,1,0,1,1,0,1,0,1,1,0,1,1,1,1,0,1,0,1,0,1,1,1,0,0,1,1,1,0,0,1,0,1,0,1,0,1,1,1,1,0,1,1,0,0,0,1,1,1,0,1,1,0,0,0,1,1,1,1,1,0,1,1,1,0,1,0,1,1,1,0,1,0,1,0,1,1,1,1,1,1,1,1,1,1,1,0,0,0,1,0,0,1,0,1,1,1,1,1,0,0,1,0,1,0,0,0,1,1,1,1,1,0,0,1,1,0,1,0,1,1,1,1,1,1,0,1,1,0,0,1,0,1,1,1,1,1,1,1,0,1,0,1,1,1,1,1,1,0,1,0,0,0,1,0,1,1,1,1,1,1,0,1,1,1,1,1,1,1,0,0,1,1,1,1,1,1,1,1,0,0,1,0,1,0,1,1,1,1,1,1,1,1,0,0,1,1,1,0,1,1,0,1,1,0,1,0,0,1,0,1,1,1,0,1,1,1,1,1,1,1,1,0,1,0,0,0,1,1,1,1,0,1,1,0,1,1,1,1,1,1,1,0,1,0,1,0,0,1,0,1,1,1,1,1,0,1,1,1,1,0,1,0,1,1,1,0,1,1,1,0,1,1,1,1,1,0,1,1,1,1,1,0,1,1,0,1,1,1,1,1,1,1,0,1,1,0,1,1,1,1,1,1,1,0,1,1,0,1,1,1,1,1,1,1,0,1,1,1,1,1,1,0,1,0,1,1,1,0,1,1,1,0,0,1,0,1,1,1,1,1,1,1,1,1,1,1,1,1,1,1,0,0,0,1,1,1,1,1,1,0,1,1,0,1,1,1,0,1,1,1,0,1,1,0,1,1,1,1,1,0,1,1,1,1,0,1,0,1,1,0,1,1,1,0,0,1,1,0,1,1,1,0,1,1,1,1,0,0,1,0,0,1,1,1,1,1,1,1,1,1,0,1,0,1,1,0,0,1,0,1,1,0,1,1,1,0,0,0,1,0,1,1,0,0,1,0,1,1,1,0,1,1,1,1,1,1,1,1,1,1,1,1,1,1,1,1,0,1,1,1,1,0,1,0,1,1,1,1,1,0,1,1,1,0,0,0,1,1,1,1,0,1,1,1,1,0,1,1,1,1,1,1,1,0,1,1,1,0,1,0,0,1,1,1,1,0,1,1,1,1,1,1,0,1,1,1,1,1,1,0,1,1,1,1,1,0,1,1,1,1,1,1,1,1,1,1,0,1,1,1,1,0,0,1,1,1,1,0,1,1,1,1,1,1,1,1,1,1,0,1,1,1,0,0,1,0,0,1,1,1,0,1,1,1,0,0,1,1,1,0,0,0,1,0,1,1,1,0,1,1,1,0,1,1,1,1,1,1,1,1,1,1,0,1,0,0,0,1,1,1,1,1,1,1,1,0,1,0,0,0,0,1,1,1,1,1,1,1,1,1,1,1,1,1,1,1,1,0,1,1,1,1,1,1,1,0,1,0,1,1,1,0,0,0,1,1,1,1,0,1,1,0,0,0,0,0,0,1,1,1,1,1,1,0,1,1,1,1,1,1,1,1,0,0,0,1,1,1,1,0,1,0,1,1,1,1,1,0,0,0,1,1,1,0,1,1,1,0,1,1,0,1,0,0,1,0,1,1,0,1,1,0,1,1,0,1,1,0,1,1,1,0,1,1,1,1,1,1,1,1,1,1,1,0,1,1,1,0,0,0,0,0,0,0,0,1,1,1,0,1,0,1,0,0,0,1,0,1,0,1,1,1,1,1,1,1,0,0,1,1,0,1,0,1,0,0,0,0,1,1,1,1,0,1,1,0,1,1,0,1,1,1,0,1,0,1,1,1,1,1,1,1,0,1,1,0,1,1,1,0,0,0,0,0,1,1,0,0,1,1,0,1,0,1,1,0,1,1,0,1,1,1,1,1,0,0,0,1,1,1,1,1,1,1,1,0,0,0,1,1,1,1,1,1,1,1,1,1,1,1,0,0,1,1,1,1,1,1,1,1,1,1,0,1,1,0,1,1,1,1,1,1,1,1,1,1,1,1,1,0,1,0,1,1,1,1,1,1,1,1,0,0,1,1,0,1,0,1,0,1,1,1,0,1,1,1,1,1,1,1,0,1,1,0,1,0,0,0,1,0,1,1,1,1,1,1,1,1,0,0,0,1,1,0,0,1,0,1,1,1,1,0,0,1,0,0,1,1,1,1,1,1,1,0,0,1,0,0,0,1,0,1,1,1,0,1,0,1,1,1,1,1,1,0,1,0,1,1,1,1,1,1,1,0,1,1,1,0,0,1,1,0,0,0,0,0,1,1,1,1,1,1,1,1,1,1,1,1,1,1,1,0,1,1,1,1,1,1,0,0,0,1,1,1,1,1,0,1,1,1,1,1,1,0,0,1,1,1,1,1,1,0,1,1,1,1,1,0,1,1,1,1,1,0,1,1,1,1,1,0,1,1,1,1,1,1,1,0,0,1,1,1,1,0,1,0,0,1,0,1,1,1,1,0,1,1,1,1,1,1,1,0,1,1,1,1,0,0,1,1,0,1,1,1,1,0,1,1,1,1,0,0,0,0,0,1,1,1,0,1,1,1,1,1,0,1,0,1,1,1,1,0,0,1,1,1,1,0,1,1,0,1,1,1,1,1,1,1,1,1,1,1,0,1,1,1,1,1,1,1,0,0,1,1,1,1,0,1,1,1,0,1,0,1,1,1,1,0,1,0,1,1,1,1,0,1,1,1,1,1,1,0,1,1,1,1,1,1,1,0,1,1,1,1,0,0,1,1,1,1,1,1,1,1,1,1,1,1,1,1,0,1,1,0,0,0,1,1,1,1,1,1,1,0,1,1,1,1,1,0,0,1,0,1,0,0,1,0,0,1,1,1,0,1,0,1,0,0,1,0,1,1,1,1,1,1,0,1,0,1,0,1,1,1,1,1,0,1,1,1,0,1,0,1,0,1,0,1,1,0,1,1,1,1,1,1,1,1,1,1,1,1,1,1,1,1,0,1,1,1,1,1,0,1,1,0,1,1,0,1,1,0,1,1,0,1,1,1,1,1,1,1,1,0,1,1,1,1,1,1,1,1,1,1,0,1,0,0,1,0,1,1,1,1,1,1,1,1,1,0,1,0,1,1,1,1,1,0,1,0,1,0,0,1,0,1,1,1,0,1,1,0,1,0,1,0,0,1,0,1,1,0,1,1,0,1,1,0,0,0,1,1,1,1,0,0,1,0,1,1,0,1,1,1,1,1,0,1,0,1,1,1,1,1,0,1,1,1,1,1,0,1,1,1,0,0,1,0,0,1,1,1,1,1,0,1,0,1,0,1,0,1,1,0,1,0,0,0,1,0,1,0,1,0,0,1,0,0,1,1,1,1,0,1,1,1,0,0,0,0,1,0,0,1,1,0,1,0,1,1,1,1,0,0,0,0,0,1,1,1,1,1,1,1,1,1,1,1,1,1,1,1,0,1,0,1,0,1,1,0,1,0,1,1,0,1,1,1,0,1,1,1,1,1,1,1,1,1,1,0,1,0,1,0,0,1,1,1,1,0,1,1,1,1,1,1,1,1,1,1,0,1,1,1,1,0,1,1,1,1,1,1,1,1,1,1,1,1,0,1,0,0,1,1,1,1,1,1,1,0,1,1,1,1,0,1,1,1,0,1,0,1,0,1,1,1,1,1,1,1,1,0,1,1,1,0,1,1,1,0,1,1,1,0,1,0,0,1,1,0,1,1,1,1,1,1,1,1,1,1,0,1,1,1,1,1,0,1,1,0,1,0,1,0,0,1,0,0,0,1,1,1,1,1,1,0,1,1,1,0,0,1,1,1,1,0,0,1,1,1,1,0,1,1,1,1,0,0,1,0,0,1,1,1,1,1,0,1,1,1,1,0,0,0,1,0,1,0,1,1,1,1,0,1,0,1,0,0,1,1,1,0,1,1,0,1,1,1,1,0,1,0,0,1,0,1,0,0,0,1,1,1,0,0,0,1,1,1,0,0,1,1,1,0,1,1,0,1,1,0,1,1,1,1,0,0,1,0,0,0,1,1,0,1,1,1,1,0,1,1,0,1,0,1,1,1,1,1,0,0,0,1,1,1,1,0,1,1,1,0,1,1,1,1,1,1,0,1,0,0,1,1,1,1,1,0,1,1,1,1,1,1,1,1,1,0,1,1,1,0,1,0,1,1,1,1,0,0,1,1,0,1,1,0,0,1,1,1,1,1,1,1,1,0,1,1,1,0,0,1,1,1,0,1,1,1,1,1,1,1,1,1,1,1,1,1,0,0,1,0,1,0,0,1,1,1,1,0,1,0,1,1,0,1,1,1,1,1,1,0,0,1,1,1,0,1,0,1,1,0,1,1,1,0,0,1,0,1,1,0,1,1,0,1,1,1,0,1,1,0,1,1,1,0,0,1,1,0,0,1,1,1,0,1,1,1,1,0,0,1,1,0,1,1,0,1,1,0,1,1,1,1,1,0,0,0,0,1,0,1,1,1,0,0,1,1,1,1,0,1,1,1,0,1,0,0,0,0,1,1,1,0,1,1,1,1,1,0,0,1,1,0,1,1,0,1,0,1,0,1,1,1,0,0,0,1,0,1,1,1,1,1,1,0,1,1,1,1,1,1,1,1,1,1,1,1,1,0,0,1,1,1,1,1,1,1,1,1,1,0,0,1,1,0,1,0,1,1,0,1,1,1,0,1,1,0,1,1,0,1,0,1,1,1,0,1,1,1,0,1,1,1,0,0,1,0,0,1,1,0,1,1,1,1,1,1,1,1,1,1,1,1,1,1,1,1,1,0,1,1,1,0,1,0,0,0,1,1,1,1,0,0,1,1,1,1,0,1,0,1,1,0,1,1,1,1,0,1,0,1,0,0,1,0,1,1,1,1,1,1,1,1,1,1,1,1,0,1,1,1,1,1,1,1,1,1,0,1,0,1,0,0,1,0,1,0,1,1,1,1,0,1,1,1,1,1,0,1,1,1,1,1,1,1,0,1,1,0,1,1,1,0,1,1,1,1,1,1,0,0,1,1,1,0,1,0,1,1,1,0,1,1,1,1,0,1,1,1,1,1,0,0,1,1,0,1,1,1,1,0,1,1,0,0,1,1,1,0,1,1,0,1,1,1,1,1,0,0,1,1,1,1,1,0,0,1,1,1,0,1,1,1,0,0,1,1,1,1,1,1,1,1,1,1,1,1,1,0,1,1,1,1,1,1,1,0,1,1,0,1,0,0,1,1,1,1,1,0,1,0,1,1,1,1,1,1,1,1,1,0,1,1,1,1,0,0,0,1,1,1,1,1,1,1,1,1,1,1,0,1,0,1,0,1,0,1,0,1,0,1,1,1,1,1,1,1,0,0,1,1,1,1,0,1,0,0,1,1,1,1,0,1,1,1,1,1,1,1,1,1,0,1,1,1,1,1,1,1,1,1,1,0,1,1,1,1,1,0,0,1,1,0,1,1,0,0,1,1,0,1,0,1,1,1,1,0,0,0,0,1,0,1,1,1,0,1,0,0,0,1,1,0,1,1,1,1,1,1,1,1,0,1,1,0,1,1,0,1,1,0,1,1,1,1,1,1,1,0,1,1,0,0,1,1,0,0,0,1,0,1,1,1,1,1,1,1,1,1,1,1,1,1,1,0,1,1,0,0,1,0,1,1,1,0,0,1,0,0,1,1,1,0,0,1,0,0,1,1,0,1,1,1,1,1,1,0,1,1,1,1,1,0,1,0,1,1,0,1,0,1,1,1,0,1,1,0,1,1,1,0,1,1,1,1,1,0,1,1,0,1,1,1,1,1,0,1,1,0,1,1,0,1,1,1,0,1,1,1,1,1,1,1,1,0,0,1,1,0,0,0,0,1,1,1,0,0,1,0,1,1,0,1,1,1,1,1,1,1,1,1,1,1,0,1,1,0,1,1,0,1,1,1,0,1,1,1,1,0,1,0,1,1,1,0,0,1,1,1,1,1,1,0,0,0,1,1,1,1,1,1,1,1,0,1,0,0,1,0,0,1,0,1,1,0,0,0,1,1,1,1,1,1,1,0,1,0,1,1,0,1,0,1,1,1,0,1,0,1,1,0,1,0,1,1,1,1,1,0,1,1,1,0,1,1,1,0,1,1,0,0,0,1,1,1,1,1,1,1,1,1,1,1,1,0,0,1,0,1,1,0,1,1,1,1,1,0,1,1,1,1,1,1,1,1,0,1,1,0,1,1,0,1,1,0,0,0,0,1,1,1,1,1,1,0,1,0,0,1,0,1,1,1,1,1,1,1,1,1,1,1,1,1,1,1,1,1,1,1,1,1,1,1,1,1,0,1,1,1,0,0,1,0,0,1,1,0,1,1,0,0,1,1,1,1,1,0,1,1,1,1,0,0,1,1,1,0,1,1,0,0,1,1,1,0,1,1,1,1,0,1,1,0,1,1,1,1,1,1,1,1,1,1,1,1,1,0,1,1,1,1,0,0,1,1,0,1,1,0,1,1,1,0,1,1,1,1,0,1,1,1,1,0,1,1,1,0,1,1,1,1,0,1,1,0,1,1,1,1,1,1,1,1,1,1,1,1,1,1,1,1,0,1,0,1,0,1,0,1,0,0,1,1,1,1,1,1,1,1,1,0,1,1,1,1,0,0,1,1,0,1,0,0,1,1,1,1,1,1,1,0,1,1,1,1,1,1,1,1,0,1,1,0,1,0,1,0,1,1,0,1,0,0,1,0,0,1,1,1,0,0,1,1,1,1,1,1,1,0,1,1,1,0,1,1,1,0,1,0,0,1,1,0,1,1,1,1,0,1,1,1,1,1,1,0,1,1,1,0,1,1,1,1,1,1,1,0,1,1,1,1,0,1,1,1,1,1,1,1,1,1,1,1,0,1,1,1,1,1,1,1,0,1,0,1,1,1,1,1,1,1,1,0,0,0,0,0,1,0,1,1,1,1,1,1,1,1,1,1,1,1,0,1,1,1,1,1,1,1,0,1,0,1,1,1,1,1,1,1,0,0,1,1,0,1,1,1,0,1,1,1,1,1,0,0,1,0,0,1,1,1,1,0,0,1,1,0,1,1,0,1,1,1,0,0,1,1,1,0,1,1,1,0,1,0,1,1,1,1,0,1,1,1,1,1,1,1,1,1,0,1,1,1,1,1,1,1,0,1,0,1,1,1,1,1,1,0,1,1,0,1,1,1,0,1,1,1,0,0,1,1,1,0,0,1,0,1,0,1,1,1,1,1,1,1,1,1,1,1,0,1,1,1,1,0,0,1,0,1,1,1,0,0,1,1,1,1,0,0,1,1,1,0,1,0,1,1,1,1,1,1,1,1,0,1,1,1,0,1,1,1,1,0,1,1,1,1,0,0,1,1,1,1,1,1,1,0,1,1,1,1,1,1,1,1,1,1,1,1,1,0,1,1,1,1,1,1,0,1,1,1,0,0,1,1,1,0,1,0,1,1,0,1,0,0,1,0,1,1,0,1,1,1,0,1,0,1,1,0,0,0,1,0,1,1,1,0,1,1,0,0,1,1,0,0,1,0,1,1,0,1,1,1,0,0,1,0,1,1,1,1,1,1,1,1,0,1,1,1,1,1,1,1,0,1,1,1,1,1,1,0,1,1,1,1,1,1,1,1,1,1,0,0,0,1,1,1,0,0,0,1,1,1,1,1,1,0,1,0,1,0,0,1,0,1,1,1,1,1,0,1,1,1,1,1,1,1,1,1,1,1,1,1,1,1,0,1,1,0,0,0,0,0,1,0,1,1,0,1,0,1,1,0,1,0,0,0,1,0,1,1,1,1,1,1,1,1,1,1,0,1,0,0,1,0,1,1,1,1,0,0,1,1,0,1,0,0,1,0,1,1,1,1,1,1,0,0,0,1,0,0,1,1,0,1,1,1,1,1,1,1,1,1,0,1,0,1,1,1,1,1,1,0,1,1,0,1,0,1,0,0,1,1,1,1,1,0,1,1,0,0,1,0,1,1,0,0,0,0,1,0,1,1,1,0,1,1,0,1,1,1,1,1,1,1,1,0,1,1,1,1,0,0,1,1,0,1,1,0,1,1,1,0,1,1,1,0,1,1,0,1,1,1,0,1,1,1,0,1,1,1,1,1,1,1,1,0,1,1,1,0,0,0,1,1,1,0,1,0,1,0,1,1,1,1,1,1,0,1,0,0,1,0,1,1,0,0,0,1,1,1,0,1,1,0,1,1,0,1,0,0,1,1,0,1,1,1,1,0,1,1,1,1,1,1,0,0,0,1,1,1,1,1,0,0,1,1,1,0,1,0,1,1,1,1,1,1,1,0,1,0,1,1,0,1,0,1,0,0,1,1,1,1,1,1,1,0,1,1,1,1,1,0,0,1,1,1,1,1,1,1,1,0,1,1,1,1,1,0,1,0,1,1,1,0,1,1,0,0,1,1,1,0,0,0,1,1,1,0,1,0,0,1,1,1,1,1,0,1,1,1,0,1,1,1,1,1,0,1,1,1,1,1,1,0,1,1,0,0,1,1,1,1,0,0,0,1,0,1,1,0,0,1,1,0,1,1,1,0,0,0,1,0,0,1,1,0,1,1,1,1,1,1,1,1,0,0,1,0,1,0,1,0,1,1,1,1,1,1,1,0,1,1,0,1,0,1,1,0,1,0,1,1,0,0,1,1,1,1,1,0,0,1,1,0,1,0,1,1,0,1,0,1,1,1,1,1,1,0,1,0,0,0,1,1,0,1,1,0,1,1,1,0,1,0,1,1,1,0,1,1,1,1,1,0,1,1,1,1,1,0,1,1,1,1,0,1,1,1,0,0,1,1,0,0,0,1,1,0,1,0,1,0,1,1,1,1,1,0,1,0,0,0,0,0,1,0,1,0,0,1,1,0,1,1,1,1,0,0,1,0,1,1,1,0,0,1,0,1,0,1,1,1,0,1,0,1,1,0,1,1,0,1,1,0,1,0,1,1,1,1,1,1,1,0,1,0,1,1,1,1,1,1,1,0,0,1,1,0,1,1,1,0,1,1,1,0,1,1,1,1,1,1,1,1,1,1,0,1,0,1,1,1,1,0,1,1,1,1,1,1,1,1,1,1,1,1,1,0,0,1,1,1,1,0,0,1,0,0,0,1,0,0,1,1,0,1,1,1,1,1,1,1,0,1,1,0,1,1,1,0,1,1,0,1,1,0,0,1,1,0,0,0,1,0,1,1,0,1,0,1,1,1,1,1,1,1,0,1,1,1,0,1,0,1,0,1,1,1,1,0,1,1,1,0,1,1,0,1,1,0,1,1,1,1,1,0,1,1,1,1,0,1,0,1,0,1,1,1,1,0,1,1,1,1,0,0,1,1,0,1,0,1,0,1,1,1,1,1,1,0,1,0,1,1,1,0,1,1,1,1,1,1,1,0,0,1,0,0,1,1,1,0,1,0,1,1,1,0,1,1,1,1,1,1,1,1,1,1,1,1,0,0,1,1,1,1,1,1,0,1,1,1,1,0,0,1,1,1,1,1,1,1,0,0,1,0,1,1,0,1,1,0,1,1,1,1,1,1,0,1,0,0,1,1,0,1,0,1,1,1,0,1,0,1,1,0,1,0,1,0,0,0,0,0,1,0,1,1,1,1,1,1,1,1,0,1,0,1,1,1,0,0,0,0,0,1,1,0,1,1,1,0,1,0,1,0,1,1,1,0,1,1,1,1,1,0,1,1,0,1,1,1,1,1,0,1,0,1,1,1,1,0,1,1,1,0,1,1,0,0,1,1,1,0,1,1,1,0,1,1,1,1,1,0,1,1,0,1,0,1,1,1,1,0,0,0,1,1,1,1,1,1,0,0,1,1,1,1,1,1,0,1,1,0,0,0,1,0,1,1,1,0,1,1,1,1,1,1,1,0,0,1,1,0,1,1,1,1,1,1,1,1,1,1,1,1,0,1,1,1,1,1,0,1,1,1,1,1,1,1,1,1,1,0,1,0,1,1,1,0,1,1,1,0,0,1,1,1,1,1,1,1,1,1,1,1,1,1,1,0,1,1,0,0,1,0,1,1,0,0,1,1,0,1,0,1,1,1,0,0,1,1,1,1,1,1,1,1,1,1,0,0,1,1,1,1,0,1,1,1,1,0,1,0,0,1,1,1,1,1,1,1,1,0,1,1,0,1,0,1,1,1,0,1,0,1,1,1,1,1,1,1,1,0,0,1,0,1,0,1,0,1,1,1,1,1,1,1,0,0,0,1,0,1,0,1,1,1,1,1,1,1,1,1,1,1,0,0,1,0,1,1,1,0,1,1,1,1,1,1,1,1,1,1,1,0,1,0,1,1,1,1,0,1,0,0,0,1,1,0,0,1,0,0,1,1,0,0,1,0,0,0,0,1,1,1,0,1,0,1,1,1,1,1,1,1,1,0,1,1,1,0,1,1,0,0,1,1,1,1,1,1,0,1,0,0,0,1,1,0,1,0,0,0,1,1,1,1,1,1,1,1,1,1,1,0,1,1,0,1,1,0,1,1,1,1,0,1,0,1,0,1,1,0,1,1,1,0,1,1,0,0,0,0,0,1,0,1,1,0,0,1,0,1,1,0,1,0,0,1,1,0,1,0,1,1,1,1,0,0,1,1,0,1,1,1,1,1,1,0,0,1,1,1,1,1,1,1,0,1,1,1,1,1,1,1,1,1,1,1,0,1,1,1,1,1,0,1,1,1,0,1,1,1,1,1,1,1,0,0,0,1,0,1,1,1,0,1,1,1,1,0,1,1,1,1,1,1,1,1,0,1,0,1,1,1,1,1,0,1,1,0,1,1,0,1,1,0,1,1,0,1,1,0,1,0,1,1,0,1,1,1,1,1,1,1,1,0,1,0,1,1,1,0,1,0,1,1,0,0,1,1,1,1,1,0,0,1,0,1,1,1,1,0,1,1,1,1,1,1,1,0,1,1,1,1,0,0,0,0,1,1,1,1,1,1,1,1,1,0,1,1,1,0,1,0,1,1,1,0,1,1,0,1,0,1,1,0,1,1,1,1,1,1,1,1,1,0,1,1,1,1,1,1,0,0,1,1,0,1,1,1,1,0,1,1,0,1,0,0,0,0,1,0,1,0,1,1,1,1,0,1,0,1,0,1,1,0,1,1,1,1,1,0,1,1,1,1,1,0,1,1,1,1,1,0,1,1,1,0,1,1,0,1,1,1,1,1,1,0,1,0,1,1,1,1,0,1,1,1,1,0,1,1,1,1,0,1,0,1,1,1,1,1,1,0,0,1,1,1,0,0,1,1,1,1,0,0,1,1,1,1,1,1,1,1,1,0,1,0,1,0,1,1,0,0,1,0,1,1,0,1,1,0,0,0,1,0,1,0,1,1,1,1,0,1,1,1,1,1,0,0,1,0,0,0,1,1,1,1,1,1,1,0,1,1,1,0,1,1,0,0,1,1,1,1,0,0,1,1,0,1,1,0,1,0,1,1,1,1,1,1,0,1,1,0,1,1,0,1,1,1,0,1,0,1,0,0,0,0,1,0,1,1,0,1,0,1,1,0,1,0,1,0,1,1,1,0,1,1,0,1,1,1,1,0,0,0,1,1,1,1,0,1,1,1,0,1,1,1,1,1,1,1,1,1,1,1,0,0,1,0,1,1,0,1,1,1,0,1,0,1,1,1,1,0,1,1,0,0,1,1,1,1,1,1,1,1,1,1,1,0,1,0,1,1,0,1,1,1,1,1,1,1,0,1,1,1,1,0,1,1,1,1,1,1,1,1,1,1,0,1,0,1,1,1,1,1,1,1,0,0,1,1,0,1,1,0,1,1,0,1,1,1,1,0,1,1,1,0,1,1,1,1,1,1,0,1,1,1,1,1,0,1,0,1,1,0,1,1,1,1,0,1,1,1,1,1,1,1,1,1,1,0,1,0,1,1,1,0,1,0,1,1,1,1,1,1,1,1,1,1,0,1,1,1,1,1,1,1,1,1,1,1,0,1,1,0,0,0,1,1,0,1,1,1,0,1,0,1,1,1,1,1,1,1,1,1,1,1,1,1,1,1,1,0,1,1,1,0,0,0,1,1,0,0,1,0,1,1,1,1,1,1,1,1,0,0,1,0,0,0,1,1,1,1,0,1,0,1,1,1,1,1,1,1,1,0,0,1,1,1,1,0,1,1,0,0,1,0,1,1,0,1,1,0,0,1,1,1,1,1,1,1,1,1,1,0,1,1,1,0,1,0,0,0,1,1,0,0,1,1,1,0,0,1,1,1,1,1,1,0,0,0,0,0,1,0,1,1,0,1,1,0,1,1,1,1,1,1,0,0,0,1,0,0,1,0,1,1,0,0,1,1,1,0,1,0,0,0,1,1,1,1,1,0,1,0,1,1,1,1,1,0,0,1,1,1,1,0,1,1,1,1,1,0,1,1,1,0,1,1,0,1,1,0,1,1,1,0,0,1,0,1,1,1,0,1,1,1,1,0,1,1,1,1,1,1,1,1,1,1,1,1,1,1,0,0,1,1,1,1,1,1,1,1,1,1,1,1,0,1,1,0,0,1,1,1,1,1,0,1,1,0,1,1,0,0,1,1,0,1,1,1,1,0,1,1,1,1,1,0,1,1,1,1,1,1,1,1,1,0,0,0,1,1,1,1,1,1,0,1,1,1,1,0,0,0,1,0,1,0,1,1,1,1,1,1,1,0,1,1,1,0,1,1,1,1,0,1,1,1,1,0,1,0,1,1,1,0,0,1,0,1,0,0,1,0,1,1,1,0,1,1,1,0,0,0,0,1,1,1,1,1,0,0,1,0,0,1,1,1,1,1,1,1,1,1,0,1,1,0,1,1,0,1,0,0,0,1,0,1,1,0,1,1,0,1,0,1,1,1,1,1,1,1,0,0,1,1,1,1,0,0,0,1,1,1,0,0,0,1,1,1,0,1,1,1,1,0,0,1,1,1,1,1,1,1,0,0,1,1,0,1,0,1,1,1,1,1,1,1,0,0,1,1,0,0,1,0,1,1,0,1,1,1,1,1,0,0,1,1,0,1,0,1,1,1,1,1,1,0,0,0,1,1,0,0,0,1,1,0,1,1,1,1,1,1,1,1,1,1,1,0,1,1,1,1,1,0,1,1,1,0,1,1,0,1,0,1,0,1,0,0,1,1,1,1,1,1,0,1,1,1,0,0,1,0,1,1,0,1,0,0,1,1,1,1,0,1,1,1,0,0,1,1,1,0,1,1,0,1,1,1,0,1,1,1,1,1,0,1,0,1,1,1,1,0,1,1,1,1,1,0,1,0,1,0,1,0,1,0,1,1,1,0,0,1,0,1,1,0,1,1,1,0,0,1,0,0,1,1,1,1,1,0,0,1,1,1,0,1,0,1,1,0,1,1,1,0,1,1,0,1,1,0,1,1,1,0,0,0,1,0,1,1,0,0,0,1,0,1,1,1,1,1,1,1,1,1,0,1,1,1,0,1,1,1,0,1,0,0,1,1,1,1,0,1,1,1,1,1,1,1,1,1,1,0,0,0,0,1,1,1,0,0,0,1,0,1,0,1,1,1,1,0,1,0,1,1,0,1,1,1,1,1,1,0,1,0,1,1,1,0,0,1,0,1,1,1,1,1,0,1,1,1,1,0,0,1,1,0,1,1,1,1,0,1,0,0,1,0,0,1,1,1,1,1,1,1,1,0,0,1,1,1,1,1,1,0,1,1,1,1,0,1,1,1,1,1,1,0,1,1,0,1,0,0,1,0,1,1,1,1,1,0,0,0,1,0,0,0,1,1,1,1,1,1,1,1,1,0,1,1,1,1,1,0,1,1,1,1,0,1,1,1,1,0,1,1,0,1,0,1,1,0,1,0,0,1,1,1,1,1,1,0,1,1,0,0,1,1,1,1,0,0,1,0,0,1,1,0,1,1,0,0,1,1,1,1,0,0,0,0,1,1,0,0,1,1,0,1,0,1,1,1,1,1,1,1,1,1,1,1,1,1,1,0,1,1,1,0,1,0,1,1,1,0,1,1,1,1,1,1,1,1,0,0,0,1,0,1,1,0,1,1,1,1,1,1,1,1,0,0,1,0,1,1,0,1,1,0,1,1,0,1,1,1,1,1,1,1,0,1,1,1,0,1,0,1,1,1,0,0,1,1,0,0,0,0,1,1,1,0,1,0,1,1,1,1,0,1,1,1,1,1,1,0,1,0,1,0,1,0,0,1,1,1,1,0,1,0,1,1,1,1,0,0,1,0,1,1,1,1,0,1,1,0,1,1,0,0,0,1,1,1,0,1,0,1,1,1,1,1,1,1,0,1,1,1,0,1,1,1,0,1,1,1,1,0,1,1,1,1,0,1,0,0,1,1,0,1,1,1,1,1,1,0,1,1,0,0,0,1,1,1,0,1,1,1,1,1,1,0,0,0,1,1,1,0,1,0,1,0,1,0,0,1,1,1,0,1,0,1,1,1,1,1,1,1,1,0,1,1,0,1,1,1,0,1,0,1,1,1,0,1,0,1,1,1,1,0,1,1,0,0,1,1,0,0,1,1,1,1,1,1,0,0,0,1,1,0,1,1,1,1,1,0,0,1,1,1,0,0,1,1,1,1,1,1,1,0,1,1,0,1,0,1,1,0,0,1,0,1,1,0,0,0,1,0,0,1,1,1,0,1,1,1,1,0,1,0,1,1,1,1,0,1,0,1,1,1,1,1,1,0,1,1,1,1,1,1,0,1,1,1,1,0,0,0,1,1,1,1,1,1,1,1,0,1,1,1,1,1,1,0,1,1,0,1,0,1,1,0,1,1,1,1,1,1,0,1,1,0,1,0,0,0,0,1,1,0,1,1,0,0,1,0,1,1,1,0,0,0,0,1,0,1,0,0,1,1,1,0,1,0,1,0,1,1,0,1,0,1,1,1,1,1,1,1,1,1,1,0,1,1,1,0,1,0,1,1,0,0,1,0,1,0,1,0,1,1,1,0,1,0,0,0,1,1,0,1,1,0,0,1,0,1,1,0,1,1,1,1,1,1,1,0,1,1,0,1,0,0,1,0,0,1,1,0,1,1,1,1,0,1,1,0,1,1,0,1,0,1,0,1,0,1,0,1,0,1,0,1,0,1,0,0,1,1,1,0,1,0,1,0,1,1,1,1,1,0,1,1,1,0,1,1,1,0,0,0,1,1,1,0,1,1,0,0,1,0,1,0,1,1,1,1,1,1,0,1,1,1,1,1,1,0,1,1,0,1,1,1,0,1,1,1,1,0,0,0,1,0,0,1,1,1,1,1,1,1,1,0,0,1,1,1,1,1,0,1,0,1,1,1,0,0,1,1,1,1,0,1,1,1,0,1,1,1,1,0,0,1,0,1,1,1,1,1,1,1,1,1,1,0,1,0,0,0,1,1,1,1,1,1,1,1,1,1,0,1,0,1,1,1,0,1,1,0,1,1,1,1,1,1,0,0,1,0,0,0,1,0,1,1,1,1,1,1,0,1,1,1,1,1,1,1,1,0,1,1,0,0,1,1,1,0,1,1,1,1,1,1,1,0,0,1,1,1,1,1,0,1,0,0,1,1,0,1,1,0,1,1,1,1,1,0,0,1,0,1,1,1,1,1,1,1,1,0,0,1,0,1,1,1,1,0,1,1,0,1,1,1,1,0,1,0,1,1,1,1,0,1,1,1,1,1,1,0,1,1,1,1,1,1,0,1,0,1,1,1,1,1,1,0,0,1,1,0,1,1,0,1,0,0,1,1,0,1,0,0,0,1,1,1,0,1,1,1,1,1,1,1,1,1,1,0,0,0,1,1,0,0,0,0,1,0,0,1,0,1,1,0,0,1,1,1,0,1,1,1,1,1,1,0,1,1,1,1,1,1,1,1,1,1,1,1,0,1,1,0,1,1,1,1,0,1,0,0,1,0,0,1,1,1,1,1,0,1,1,0,1,0,1,0,1,1,0,0,0,1,0,1,0,0,0,1,1,0,0,0,1,0,1,1,1,1,1,1,1,0,0,1,0,0,1,1,1,1,1,1,0,1,1,1,0,0,1,1,0,0,0,1,1,0,0,1,1,0,1,1,1,0,1,0,1,1,1,1,1,1,0,1,1,1,0,1,0,1,0,1,1,1,1,0,0,1,0,1,1,1,0,0,1,1,0,1,0,1,0,1,0,1,1,1,1,1,1,1,1,1,1,1,0,0,1,1,0,1,1,1,0,0,0,1,1,1,1,0,0,0,1,1,0,0,1,1,1,1,1,1,1,1,1,1,1,1,1,1,1,1,1,0,1,1,1,0,1,1,1,1,1,1,1,0,1,1,0,0,1,1,0,1,1,1,0,1,1,0,1,1,1,1,1,1,0,1,1,0,0,1,1,1,1,0,1,1,1,1,1,1,1,1,1,0,0,1,0,0,1,0,1,1,1,1,1,1,1,0,1,1,0,1,0,1,1,0,1,1,1,1,1,0,1,1,1,1,1,0,1,1,1,1,1,1,1,1,1,0,1,1,0,1,0,1,1,1,1,0,0,1,1,0,0,1,1,1,1,0,1,0,1,1,1,1,1,0,1,1,1,1,1,0,0,1,1,1,1,1,1,1,1,1,0,1,0,0,0,1,1,1,1,1,0,0,0,1,1,1,1,0,0,1,0,1,1,1,1,1,1,1,1,1,0,1,0,0,1,1,0,1,1,1,1,1,1,0,0,1,0,1,1,0,1,1,1,1,1,1,0,0,1,1,1,1,1,1,1,0,1,1,0,0,1,1,0,1,1,1,1,1,0,1,1,1,0,1,1,1,1,1,0,1,1,1,0,1,0,1,1,0,1,1,0,0,1,0,0,1,1,1,1,0,1,1,0,1,1,1,1,1,1,1,1,1,1,0,1,1,0,1,1,1,1,1,1,1,1,1,1,1,0,0,0,1,0,1,0,1,1,0,0,0,0,1,1,1,1,1,1,1,1,1,1,0,1,1,1,0,1,1,1,1,1,0,1,1,1,1,1,1,1,1,0,1,1,1,0,1,1,1,1,0,1,1,1,0,1,1,0,0,1,0,1,0,1,1,1,1,0,1,0,1,1,1,1,1,0,1,1,1,0,1,1,1,0,1,1,0,1,1,0,1,1,1,1,1,0,0,1,1,0,1,0,1,1,1,1,1,0,1,1,1,0,0,1,1,1,1,1,1,1,1,1,1,1,1,1,0,1,1,0,1,0,1,0,1,1,0,1,1,1,1,1,1,1,0,0,1,1,1,1,0,0,1,1,0,1,1,1,0,1,0,0,1,1,1,1,1,0,0,0,1,0,1,0,1,1,1,0,1,0,1,1,1,1,1,1,0,1,1,1,1,1,1,1,0,1,0,1,1,1,0,0,0,0,1,1,0,1,0,1,1,0,1,1,1,1,0,0,1,0,1,1,0,1,1,1,1,1,1,0,1,1,1,1,1,0,1,0,1,1,0,1,1,0,0,1,1,0,1,1,1,0,0,1,0,0,0,1,0,1,1,1,1,1,1,1,1,0,1,1,1,1,0,1,1,1,1,1,1,0,1,0,0,1,1,1,1,1,0,0,0,1,0,1,1,0,0,0,1,0,1,1,0,1,1,0,1,0,1,0,0,0,0,1,1,1,1,1,1,1,0,1,1,1,1,1,1,1,1,1,0,1,0,1,0,0,0,1,0,1,1,1,1,0,1,1,1,1,1,1,1,0,1,1,1,1,1,1,0,1,0,1,0,1,0,0,1,1,1,0,1,1,1,1,1,1,0,1,1,1,0,0,1,1,0,1,0,0,1,1,0,1,0,1,1,0,1,1,0,1,1,1,1,1,1,1,1,0,0,0,1,0,1,0,1,1,0,1,0,1,1,1,0,1,1,1,0,0,1,1,1,1,0,1,1,1,1,1,0,1,0,1,0,1,1,0,0,1,1,0,1,1,1,1,0,0,1,1,0,0,0,1,1,1,0,1,0,0,0,1,1,1,1,0,1,1,1,0,1,1,0,1,1,1,1,1,1,0,1,1,1,1,1,1,1,1,1,1,1,1,1,1,1,1,0,0,1,0,1,1,1,0,1,0,0,1,1,1,0,1,0,0,1,1,0,1,1,0,0,1,1,1,1,1,1,1,0,1,1,0,1,1,1,1,1,0,0,1,0,1,1,1,1,0,0,1,1,0,1,0,1,0,1,0,0,1,1,0,1,1,1,1,0,1,0,1,0,1,0,1,0,1,1,1,1,1,1,1,1,1,0,1,1,1,1,1,1,1,1,1,1,0,0,1,1,1,1,1,1,1,0,1,1,1,1,0,1,1,0,1,0,0,0,0,1,1,1,1,0,1,1,1,1,1,1,0,1,1,1,0,1,1,1,1,1,1,1,1,0,1,1,1,1,1,0,0,1,0,1,0,0,1,1,0,1,1,1,1,1,1,1,1,1,0,0,1,1,0,1,0,1,1,1,1,1,1,1,1,1,1,1,0,1,1,1,0,0,1,1,1,1,1,0,1,1,1,1,1,1,1,1,1,1,1,0,1,1,0,1,1,0,0,1,1,1,1,0,1,0,0,1,1,1,1,1,0,1,0,0,1,1,0,0,1,1,1,0,0,1,1,1,1,1,0,0,1,1,0,0,1,1,1,1,0,1,1,1,0,1,1,1,0,1,1,1,0,0,0,1,1,1,1,1,1,1,1,1,1,1,1,1,1,1,1,1,0,0,0,1,1,0,1,1,1,1,1,1,1,1,0,0,1,1,1,0,1,1,0,1,1,1,1,0,1,0,1,1,1,1,1,1,1,1,1,1,1,1,0,0,0,0,1,1,1,0,1,1,1,1,0,0,0,1,1,1,1,1,0,1,1,1,1,1,0,1,1,1,1,0,1,1,1,1,1,1,0,1,0,1,1,0,0,1,1,0,0,1,1,1,1,1,0,1,0,0,1,1,0,1,1,0,0,1,1,0,1,1,1,1,1,0,0,0,1,0,0,1,1,1,0,0,1,1,1,1,1,1,0,0,1,1,1,1,1,1,0,1,1,0,1,1,1,1,1,0,1,1,1,0,1,0,1,1,1,0,0,0,0,1,1,0,1,1,1,1,1,1,0,1,1,0,1,0,0,1,0,1,0,1,1,1,0,1,0,0,1,1,1,0,1,1,0,1,0,1,1,0,0,1,1,1,1,1,1,1,1,0,0,1,1,1,1,1,0,1,1,1,1,0,1,0,0,1,0,1,0,1,1,0,1,1,1,1,1,0,0,1,1,1,1,0,1,1,1,0,1,0,1,0,1,1,1,1,0,0,1,1,0,1,1,0,0,1,1,1,0,1,0,1,0,1,0,1,1,0,1,1,1,1,0,0,1,0,1,1,0,1,1,1,1,1,0,1,1,1,1,1,1,0,1,1,1,1,0,0,0,0,1,1,0,1,0,0,1,1,1,0,1,0,0,1,0,0,0,1,1,1,1,1,1,0,1,1,1,1,0,0,1,0,0,1,1,1,1,1,1,0,1,1,1,1,1,1,1,1,1,0,1,1,1,1,0,1,1,1,0,1,0,1,0,1,1,0,1,1,1,0,1,1,1,0,1,1,1,0,1,1,1,1,1,1,0,1,0,0,1,1,1,0,1,1,1,1,1,1,1,0,1,0,0,0,0,1,0,0,1,0,0,0,1,1,0,1,1,0,1,1,1,1,1,1,1,0,1,1,0,1,1,1,1,0,1,1,1,0,1,0,1,1,0,1,1,1,0,1,1,1,0,1,0,1,1,1,1,1,0,1,0,0,1,1,1,1,1,0,0,1,1,1,1,1,1,0,1,1,0,1,0,1,1,0,1,1,0,1,0,1,0,0,1,1,0,1,1,0,1,1,0,1,1,1,1,1,1,1,1,1,1,1,1,0,0,1,1,1,1,1,1,1,1,1,1,1,0,1,0,0,1,1,0,1,1,1,1,1,1,1,0,1,1,1,0,1,1,1,0,1,1,1,1,1,1,0,1,0,0,1,1,1,0,1,1,1,1,1,1,1,1,1,1,1,1,1,0,0,0,1,1,0,1,1,1,1,1,1,1,1,1,1,1,1,0,1,1,1,1,0,1,1,0,1,0,1,0,0,1,1,1,1,0,1,0,1,1,0,0,1,1,1,1,1,0,1,0,0,1,0,1,1,1,0,0,1,1,0,1,1,0,1,0,1,1,1,1,1,1,1,1,1,1,0,1,1,1,1,0,0,1,1,1,0,1,1,0,1,1,1,1,1,1,1,0,1,1,1,1,0,0,0,0,1,0,0,0,1,0,1,1,1,1,0,1,0,1,0,0,1,1,0,1,0,1,1,1,0,1,0,1,1,1,0,0,0,1,0,1,1,1,0,1,1,1,0,1,0,1,1,0,0,1,1,1,1,1,1,1,1,1,1,1,0,1,1,1,0,1,1,0,1,0,1,1,1,0,1,1,1,1,1,1,0,1,1,0,1,1,1,1,1,1,0,1,1,0,1,0,1,0,1,1,1,1,1,0,1,0,1,1,0,1,1,0,0,0,0,0,1,0,1,1,1,1,1,1,1,1,0,1,0,1,1,0,1,0,1,0,0,1,1,1,1,1,1,1,1,0,1,0,1,0,1,1,1,1,1,1,0,0,0,0,1,0,1,1,1,1,1,0,1,0,1,1,1,1,0,1,1,1,1,1,1,1,0,0,1,1,1,1,0,1,1,0,1,1,0,1,1,1,1,1,1,0,1,1,1,1,1,1,1,1,1,1,0,1,1,1,1,1,1,1,1,0,1,1,1,1,1,1,0,0,1,1,1,1,1,1,1,0,0,1,0,1,1,1,1,1,1,1,0,1,0,1,1,0,1,1,1,1,1,1,1,1,0,1,1,1,0,0,0,1,1,1,0,0,1,0,1,1,1,1,1,1,1,1,1,0,0,1,1,0,1,0,0,1,0,1,0,0,1,1,1,0,1,1,1,1,0,1,1,1,1,1,1,1,0,1,1,1,1,1,1,1,1,1,1,1,1,1,1,1,1,1,1,1,1,1,0,0,0,1,1,1,1,1,1,1,1,1,0,1,1,1,1,1,1,1,1,1,0,1,0,1,1,1,0,1,1,1,0,1,1,0,0,1,1,0,1,1,1,1,1,1,1,0,1,0,1,1,0,0,1,1,0,1,1,0,1,0,1,1,0,1,1,0,1,1,1,1,0,1,1,1,1,1,0,0,1,1,1,0,1,1,0,1,1,1,0,1,0,1,1,1,1,1,0,0,1,1,1,1,1,1,1,1,1,1,1,1,1,0,1,0,1,1,1,1,1,1,1,1,1,0,1,1,1,0,1,0,1,1,1,0,0,1,1,1,1,1,1,1,1,1,0,1,1,0,1,1,1,1,1,0,1,1,0,1,1,1,0,1,1,0,1,1,1,1,1,1,1,1,1,1,1,1,0,1,1,1,0,1,1,1,1,1,1,1,1,1,1,1,1,0,1,1,1,1,1,1,1,1,1,1,1,1,0,1,1,1,1,1,1,0,0,1,1,1,0,1,1,1,0,1,1,0,1,1,0,1,1,1,1,1,1,1,0,1,1,1,1,1,0,0,1,1,1,1,0,0,0,1,0,0,1,0,0,1,1,1,0,1,1,0,0,1,0,1,1,1,0,0,1,1,1,1,0,1,1,0,1,1,1,1,1,0,1,1,0,1,1,1,1,1,1,0,1,0,0,1,1,1,1,1,0,1,0,1,1,1,1,0,1,0,1,1,1,0,1,1,1,1,1,0,1,1,1,0,0,1,1,1,1,0,1,0,1,1,1,1,0,1,1,0,1,0,1,0,0,1,1,1,1,1,1,0,1,1,0,1,0,0,1,1,1,1,1,0,1,0,1,1,1,0,1,1,1,0,0,1,0,1,0,1,1,1,0,1,0,1,1,1,1,0,1,1,1,0,1,1,1,0,1,1,1,1,1,1,1,1,0,1,1,1,0,0,1,1,0,0,1,1,1,1,0,1,1,1,1,1,1,1,1,1,1,0,1,0,1,1,1,1,1,1,0,1,1,1,1,1,1,1,1,0,1,0,1,0,0,1,1,1,1,1,0,1,1,0,1,1,0,1,0,1,1,1,1,0,1,0,1,1,1,1,0,1,1,1,0,1,0,1,1,1,1,1,1,1,1,1,0,1,0,1,1,1,1,1,1,1,1,1,1,1,1,1,0,1,1,1,1,1,0,1,1,0,1,1,0,1,1,1,1,1,0,1,1,1,0,1,1,1,0,1,1,1,1,1,1,1,0,1,1,0,1,1,1,1,0,1,1,0,1,0,1,0,1,0,0,1,0,0,1,1,1,1,1,1,1,1,0,1,1,0,1,0,0,1,0,1,0,0,1,1,1,0,0,1,1,1,1,1,1,1,0,1,1,1,1,1,1,1,0,1,0,0,1,1,0,0,1,0,1,1,1,1,1,1,1,0,0,1,1,0,1,1,0,1,1,1,1,1,1,1,0,1,1,0,1,1],\"yaxis\":\"y\",\"type\":\"scattergl\"}],                        {\"template\":{\"data\":{\"bar\":[{\"error_x\":{\"color\":\"#2a3f5f\"},\"error_y\":{\"color\":\"#2a3f5f\"},\"marker\":{\"line\":{\"color\":\"#E5ECF6\",\"width\":0.5},\"pattern\":{\"fillmode\":\"overlay\",\"size\":10,\"solidity\":0.2}},\"type\":\"bar\"}],\"barpolar\":[{\"marker\":{\"line\":{\"color\":\"#E5ECF6\",\"width\":0.5},\"pattern\":{\"fillmode\":\"overlay\",\"size\":10,\"solidity\":0.2}},\"type\":\"barpolar\"}],\"carpet\":[{\"aaxis\":{\"endlinecolor\":\"#2a3f5f\",\"gridcolor\":\"white\",\"linecolor\":\"white\",\"minorgridcolor\":\"white\",\"startlinecolor\":\"#2a3f5f\"},\"baxis\":{\"endlinecolor\":\"#2a3f5f\",\"gridcolor\":\"white\",\"linecolor\":\"white\",\"minorgridcolor\":\"white\",\"startlinecolor\":\"#2a3f5f\"},\"type\":\"carpet\"}],\"choropleth\":[{\"colorbar\":{\"outlinewidth\":0,\"ticks\":\"\"},\"type\":\"choropleth\"}],\"contour\":[{\"colorbar\":{\"outlinewidth\":0,\"ticks\":\"\"},\"colorscale\":[[0.0,\"#0d0887\"],[0.1111111111111111,\"#46039f\"],[0.2222222222222222,\"#7201a8\"],[0.3333333333333333,\"#9c179e\"],[0.4444444444444444,\"#bd3786\"],[0.5555555555555556,\"#d8576b\"],[0.6666666666666666,\"#ed7953\"],[0.7777777777777778,\"#fb9f3a\"],[0.8888888888888888,\"#fdca26\"],[1.0,\"#f0f921\"]],\"type\":\"contour\"}],\"contourcarpet\":[{\"colorbar\":{\"outlinewidth\":0,\"ticks\":\"\"},\"type\":\"contourcarpet\"}],\"heatmap\":[{\"colorbar\":{\"outlinewidth\":0,\"ticks\":\"\"},\"colorscale\":[[0.0,\"#0d0887\"],[0.1111111111111111,\"#46039f\"],[0.2222222222222222,\"#7201a8\"],[0.3333333333333333,\"#9c179e\"],[0.4444444444444444,\"#bd3786\"],[0.5555555555555556,\"#d8576b\"],[0.6666666666666666,\"#ed7953\"],[0.7777777777777778,\"#fb9f3a\"],[0.8888888888888888,\"#fdca26\"],[1.0,\"#f0f921\"]],\"type\":\"heatmap\"}],\"heatmapgl\":[{\"colorbar\":{\"outlinewidth\":0,\"ticks\":\"\"},\"colorscale\":[[0.0,\"#0d0887\"],[0.1111111111111111,\"#46039f\"],[0.2222222222222222,\"#7201a8\"],[0.3333333333333333,\"#9c179e\"],[0.4444444444444444,\"#bd3786\"],[0.5555555555555556,\"#d8576b\"],[0.6666666666666666,\"#ed7953\"],[0.7777777777777778,\"#fb9f3a\"],[0.8888888888888888,\"#fdca26\"],[1.0,\"#f0f921\"]],\"type\":\"heatmapgl\"}],\"histogram\":[{\"marker\":{\"pattern\":{\"fillmode\":\"overlay\",\"size\":10,\"solidity\":0.2}},\"type\":\"histogram\"}],\"histogram2d\":[{\"colorbar\":{\"outlinewidth\":0,\"ticks\":\"\"},\"colorscale\":[[0.0,\"#0d0887\"],[0.1111111111111111,\"#46039f\"],[0.2222222222222222,\"#7201a8\"],[0.3333333333333333,\"#9c179e\"],[0.4444444444444444,\"#bd3786\"],[0.5555555555555556,\"#d8576b\"],[0.6666666666666666,\"#ed7953\"],[0.7777777777777778,\"#fb9f3a\"],[0.8888888888888888,\"#fdca26\"],[1.0,\"#f0f921\"]],\"type\":\"histogram2d\"}],\"histogram2dcontour\":[{\"colorbar\":{\"outlinewidth\":0,\"ticks\":\"\"},\"colorscale\":[[0.0,\"#0d0887\"],[0.1111111111111111,\"#46039f\"],[0.2222222222222222,\"#7201a8\"],[0.3333333333333333,\"#9c179e\"],[0.4444444444444444,\"#bd3786\"],[0.5555555555555556,\"#d8576b\"],[0.6666666666666666,\"#ed7953\"],[0.7777777777777778,\"#fb9f3a\"],[0.8888888888888888,\"#fdca26\"],[1.0,\"#f0f921\"]],\"type\":\"histogram2dcontour\"}],\"mesh3d\":[{\"colorbar\":{\"outlinewidth\":0,\"ticks\":\"\"},\"type\":\"mesh3d\"}],\"parcoords\":[{\"line\":{\"colorbar\":{\"outlinewidth\":0,\"ticks\":\"\"}},\"type\":\"parcoords\"}],\"pie\":[{\"automargin\":true,\"type\":\"pie\"}],\"scatter\":[{\"marker\":{\"colorbar\":{\"outlinewidth\":0,\"ticks\":\"\"}},\"type\":\"scatter\"}],\"scatter3d\":[{\"line\":{\"colorbar\":{\"outlinewidth\":0,\"ticks\":\"\"}},\"marker\":{\"colorbar\":{\"outlinewidth\":0,\"ticks\":\"\"}},\"type\":\"scatter3d\"}],\"scattercarpet\":[{\"marker\":{\"colorbar\":{\"outlinewidth\":0,\"ticks\":\"\"}},\"type\":\"scattercarpet\"}],\"scattergeo\":[{\"marker\":{\"colorbar\":{\"outlinewidth\":0,\"ticks\":\"\"}},\"type\":\"scattergeo\"}],\"scattergl\":[{\"marker\":{\"colorbar\":{\"outlinewidth\":0,\"ticks\":\"\"}},\"type\":\"scattergl\"}],\"scattermapbox\":[{\"marker\":{\"colorbar\":{\"outlinewidth\":0,\"ticks\":\"\"}},\"type\":\"scattermapbox\"}],\"scatterpolar\":[{\"marker\":{\"colorbar\":{\"outlinewidth\":0,\"ticks\":\"\"}},\"type\":\"scatterpolar\"}],\"scatterpolargl\":[{\"marker\":{\"colorbar\":{\"outlinewidth\":0,\"ticks\":\"\"}},\"type\":\"scatterpolargl\"}],\"scatterternary\":[{\"marker\":{\"colorbar\":{\"outlinewidth\":0,\"ticks\":\"\"}},\"type\":\"scatterternary\"}],\"surface\":[{\"colorbar\":{\"outlinewidth\":0,\"ticks\":\"\"},\"colorscale\":[[0.0,\"#0d0887\"],[0.1111111111111111,\"#46039f\"],[0.2222222222222222,\"#7201a8\"],[0.3333333333333333,\"#9c179e\"],[0.4444444444444444,\"#bd3786\"],[0.5555555555555556,\"#d8576b\"],[0.6666666666666666,\"#ed7953\"],[0.7777777777777778,\"#fb9f3a\"],[0.8888888888888888,\"#fdca26\"],[1.0,\"#f0f921\"]],\"type\":\"surface\"}],\"table\":[{\"cells\":{\"fill\":{\"color\":\"#EBF0F8\"},\"line\":{\"color\":\"white\"}},\"header\":{\"fill\":{\"color\":\"#C8D4E3\"},\"line\":{\"color\":\"white\"}},\"type\":\"table\"}]},\"layout\":{\"annotationdefaults\":{\"arrowcolor\":\"#2a3f5f\",\"arrowhead\":0,\"arrowwidth\":1},\"autotypenumbers\":\"strict\",\"coloraxis\":{\"colorbar\":{\"outlinewidth\":0,\"ticks\":\"\"}},\"colorscale\":{\"diverging\":[[0,\"#8e0152\"],[0.1,\"#c51b7d\"],[0.2,\"#de77ae\"],[0.3,\"#f1b6da\"],[0.4,\"#fde0ef\"],[0.5,\"#f7f7f7\"],[0.6,\"#e6f5d0\"],[0.7,\"#b8e186\"],[0.8,\"#7fbc41\"],[0.9,\"#4d9221\"],[1,\"#276419\"]],\"sequential\":[[0.0,\"#0d0887\"],[0.1111111111111111,\"#46039f\"],[0.2222222222222222,\"#7201a8\"],[0.3333333333333333,\"#9c179e\"],[0.4444444444444444,\"#bd3786\"],[0.5555555555555556,\"#d8576b\"],[0.6666666666666666,\"#ed7953\"],[0.7777777777777778,\"#fb9f3a\"],[0.8888888888888888,\"#fdca26\"],[1.0,\"#f0f921\"]],\"sequentialminus\":[[0.0,\"#0d0887\"],[0.1111111111111111,\"#46039f\"],[0.2222222222222222,\"#7201a8\"],[0.3333333333333333,\"#9c179e\"],[0.4444444444444444,\"#bd3786\"],[0.5555555555555556,\"#d8576b\"],[0.6666666666666666,\"#ed7953\"],[0.7777777777777778,\"#fb9f3a\"],[0.8888888888888888,\"#fdca26\"],[1.0,\"#f0f921\"]]},\"colorway\":[\"#636efa\",\"#EF553B\",\"#00cc96\",\"#ab63fa\",\"#FFA15A\",\"#19d3f3\",\"#FF6692\",\"#B6E880\",\"#FF97FF\",\"#FECB52\"],\"font\":{\"color\":\"#2a3f5f\"},\"geo\":{\"bgcolor\":\"white\",\"lakecolor\":\"white\",\"landcolor\":\"#E5ECF6\",\"showlakes\":true,\"showland\":true,\"subunitcolor\":\"white\"},\"hoverlabel\":{\"align\":\"left\"},\"hovermode\":\"closest\",\"mapbox\":{\"style\":\"light\"},\"paper_bgcolor\":\"white\",\"plot_bgcolor\":\"#E5ECF6\",\"polar\":{\"angularaxis\":{\"gridcolor\":\"white\",\"linecolor\":\"white\",\"ticks\":\"\"},\"bgcolor\":\"#E5ECF6\",\"radialaxis\":{\"gridcolor\":\"white\",\"linecolor\":\"white\",\"ticks\":\"\"}},\"scene\":{\"xaxis\":{\"backgroundcolor\":\"#E5ECF6\",\"gridcolor\":\"white\",\"gridwidth\":2,\"linecolor\":\"white\",\"showbackground\":true,\"ticks\":\"\",\"zerolinecolor\":\"white\"},\"yaxis\":{\"backgroundcolor\":\"#E5ECF6\",\"gridcolor\":\"white\",\"gridwidth\":2,\"linecolor\":\"white\",\"showbackground\":true,\"ticks\":\"\",\"zerolinecolor\":\"white\"},\"zaxis\":{\"backgroundcolor\":\"#E5ECF6\",\"gridcolor\":\"white\",\"gridwidth\":2,\"linecolor\":\"white\",\"showbackground\":true,\"ticks\":\"\",\"zerolinecolor\":\"white\"}},\"shapedefaults\":{\"line\":{\"color\":\"#2a3f5f\"}},\"ternary\":{\"aaxis\":{\"gridcolor\":\"white\",\"linecolor\":\"white\",\"ticks\":\"\"},\"baxis\":{\"gridcolor\":\"white\",\"linecolor\":\"white\",\"ticks\":\"\"},\"bgcolor\":\"#E5ECF6\",\"caxis\":{\"gridcolor\":\"white\",\"linecolor\":\"white\",\"ticks\":\"\"}},\"title\":{\"x\":0.05},\"xaxis\":{\"automargin\":true,\"gridcolor\":\"white\",\"linecolor\":\"white\",\"ticks\":\"\",\"title\":{\"standoff\":15},\"zerolinecolor\":\"white\",\"zerolinewidth\":2},\"yaxis\":{\"automargin\":true,\"gridcolor\":\"white\",\"linecolor\":\"white\",\"ticks\":\"\",\"title\":{\"standoff\":15},\"zerolinecolor\":\"white\",\"zerolinewidth\":2}}},\"xaxis\":{\"anchor\":\"y\",\"domain\":[0.0,1.0],\"title\":{\"text\":\"x\"}},\"yaxis\":{\"anchor\":\"x\",\"domain\":[0.0,1.0],\"title\":{\"text\":\"y\"}},\"legend\":{\"tracegroupgap\":0},\"margin\":{\"t\":60}},                        {\"responsive\": true}                    ).then(function(){\n",
              "                            \n",
              "var gd = document.getElementById('0f7f01c3-4b0e-4a47-9735-5f32da2087a9');\n",
              "var x = new MutationObserver(function (mutations, observer) {{\n",
              "        var display = window.getComputedStyle(gd).display;\n",
              "        if (!display || display === 'none') {{\n",
              "            console.log([gd, 'removed!']);\n",
              "            Plotly.purge(gd);\n",
              "            observer.disconnect();\n",
              "        }}\n",
              "}});\n",
              "\n",
              "// Listen for the removal of the full notebook cells\n",
              "var notebookContainer = gd.closest('#notebook-container');\n",
              "if (notebookContainer) {{\n",
              "    x.observe(notebookContainer, {childList: true});\n",
              "}}\n",
              "\n",
              "// Listen for the clearing of the current output cell\n",
              "var outputEl = gd.closest('.output');\n",
              "if (outputEl) {{\n",
              "    x.observe(outputEl, {childList: true});\n",
              "}}\n",
              "\n",
              "                        })                };                            </script>        </div>\n",
              "</body>\n",
              "</html>"
            ]
          },
          "metadata": {}
        }
      ]
    },
    {
      "cell_type": "code",
      "source": [
        "#Finding outliers using statistical methods\n",
        "\n",
        "#create a function to find outlies using IQR\n",
        "\n",
        "def find_outliers_IQR(data):\n",
        "  q1 = data.quantile(0.25)\n",
        "  q3 = data.quantile(0.75)\n",
        "  IQR = q3-q1\n",
        "  outliers = data[((data<(q1-1.5*IQR))|(data>(q3+1.5*IQR)))]\n",
        "  return outliers"
      ],
      "metadata": {
        "id": "hKjmplt5KfXv"
      },
      "execution_count": null,
      "outputs": []
    },
    {
      "cell_type": "code",
      "source": [
        "outliers = find_outliers_IQR(data[\"Tenure\"])\n",
        "print(\"number of outliers:\"+str(len(outliers)))\n",
        "print(\"max outlier value:\"+str(outliers.max()))\n",
        "print(\"min outlier value\"+str(outliers.min()))\n",
        "outliers"
      ],
      "metadata": {
        "colab": {
          "base_uri": "https://localhost:8080/"
        },
        "id": "0egchXTXLojP",
        "outputId": "7265656c-4df4-40d6-ba30-36cf4b6d2690"
      },
      "execution_count": null,
      "outputs": [
        {
          "output_type": "stream",
          "name": "stdout",
          "text": [
            "number of outliers:0\n",
            "max outlier value:nan\n",
            "min outlier valuenan\n"
          ]
        },
        {
          "output_type": "execute_result",
          "data": {
            "text/plain": [
              "Series([], Name: Tenure, dtype: int64)"
            ]
          },
          "metadata": {},
          "execution_count": 40
        }
      ]
    },
    {
      "cell_type": "code",
      "source": [
        "#8.Split the data into dependent and independent variables.\n",
        "x = data.iloc[:, :-1].values\n",
        "print(x)\n"
      ],
      "metadata": {
        "id": "pM6TtNuNNWzX",
        "colab": {
          "base_uri": "https://localhost:8080/",
          "height": 200
        },
        "outputId": "03b07e0d-2695-437f-aa69-39f1d299ec76"
      },
      "execution_count": null,
      "outputs": [
        {
          "output_type": "error",
          "ename": "NameError",
          "evalue": "ignored",
          "traceback": [
            "\u001b[0;31m---------------------------------------------------------------------------\u001b[0m",
            "\u001b[0;31mNameError\u001b[0m                                 Traceback (most recent call last)",
            "\u001b[0;32m<ipython-input-8-9921bc940867>\u001b[0m in \u001b[0;36m<module>\u001b[0;34m\u001b[0m\n\u001b[1;32m      1\u001b[0m \u001b[0;31m#8.Split the data into dependent and independent variables.\u001b[0m\u001b[0;34m\u001b[0m\u001b[0;34m\u001b[0m\u001b[0;34m\u001b[0m\u001b[0m\n\u001b[0;32m----> 2\u001b[0;31m \u001b[0mx\u001b[0m \u001b[0;34m=\u001b[0m \u001b[0mdata\u001b[0m\u001b[0;34m.\u001b[0m\u001b[0miloc\u001b[0m\u001b[0;34m[\u001b[0m\u001b[0;34m:\u001b[0m\u001b[0;34m,\u001b[0m \u001b[0;34m:\u001b[0m\u001b[0;34m-\u001b[0m\u001b[0;36m1\u001b[0m\u001b[0;34m]\u001b[0m\u001b[0;34m.\u001b[0m\u001b[0mvalues\u001b[0m\u001b[0;34m\u001b[0m\u001b[0;34m\u001b[0m\u001b[0m\n\u001b[0m\u001b[1;32m      3\u001b[0m \u001b[0mprint\u001b[0m\u001b[0;34m(\u001b[0m\u001b[0mx\u001b[0m\u001b[0;34m)\u001b[0m\u001b[0;34m\u001b[0m\u001b[0;34m\u001b[0m\u001b[0m\n",
            "\u001b[0;31mNameError\u001b[0m: name 'data' is not defined"
          ]
        }
      ]
    },
    {
      "cell_type": "code",
      "source": [
        "#9.Scale the independent variable\n",
        "data.head()\n",
        "scaler = StandardScaler()\n"
      ],
      "metadata": {
        "id": "QjX2zb3PYbqh"
      },
      "execution_count": null,
      "outputs": []
    },
    {
      "cell_type": "code",
      "source": [
        "scaler.fit(data)"
      ],
      "metadata": {
        "colab": {
          "base_uri": "https://localhost:8080/"
        },
        "id": "xDT5ouR_a1j0",
        "outputId": "f9d54f1f-bb38-4c3b-d1b3-6ab1893798a4"
      },
      "execution_count": null,
      "outputs": [
        {
          "output_type": "execute_result",
          "data": {
            "text/plain": [
              "StandardScaler()"
            ]
          },
          "metadata": {},
          "execution_count": 48
        }
      ]
    }
  ]
}