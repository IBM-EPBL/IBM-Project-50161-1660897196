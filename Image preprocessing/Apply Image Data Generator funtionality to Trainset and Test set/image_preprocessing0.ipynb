{
  "nbformat": 4,
  "nbformat_minor": 0,
  "metadata": {
    "colab": {
      "provenance": []
    },
    "kernelspec": {
      "name": "python3",
      "display_name": "Python 3"
    },
    "language_info": {
      "name": "python"
    }
  },
  "cells": [
    {
      "cell_type": "code",
      "execution_count": null,
      "metadata": {
        "id": "MbBpQPWXsXE_"
      },
      "outputs": [],
      "source": []
    },
    {
      "cell_type": "code",
      "source": [
        "from google.colab import drive\n",
        "drive.mount('/content/drive')"
      ],
      "metadata": {
        "colab": {
          "base_uri": "https://localhost:8080/"
        },
        "id": "RjfmKS5bscyG",
        "outputId": "48fe272f-6497-4800-e1e9-f620d78041aa"
      },
      "execution_count": 5,
      "outputs": [
        {
          "output_type": "stream",
          "name": "stdout",
          "text": [
            "Drive already mounted at /content/drive; to attempt to forcibly remount, call drive.mount(\"/content/drive\", force_remount=True).\n"
          ]
        }
      ]
    },
    {
      "cell_type": "code",
      "source": [
        "from tensorflow.keras.preprocessing.image import ImageDataGenerator"
      ],
      "metadata": {
        "id": "onyxVAaDtixa"
      },
      "execution_count": 2,
      "outputs": []
    },
    {
      "cell_type": "markdown",
      "source": [
        "Body image preprocessing"
      ],
      "metadata": {
        "id": "LE84-nKetWok"
      }
    },
    {
      "cell_type": "code",
      "source": [
        "imageSize = [224,224]\n",
        "trainPath = '/content/drive/MyDrive/imagePreproccessing/dataset/body-20221027T090527Z-001/body/training'\n",
        "testPath = '/content/drive/MyDrive/imagePreproccessing/dataset/body-20221027T090527Z-001/body/validation'"
      ],
      "metadata": {
        "id": "D88Gd4JvtV09"
      },
      "execution_count": 6,
      "outputs": []
    },
    {
      "cell_type": "code",
      "source": [
        "train_datagen = ImageDataGenerator(rescale = 1./255,zoom_range=0.2,horizontal_flip=True,vertical_flip=False)\n",
        "test_datagen = ImageDataGenerator(rescale = 1./255)"
      ],
      "metadata": {
        "id": "p2f3vebGtrzD"
      },
      "execution_count": 7,
      "outputs": []
    },
    {
      "cell_type": "code",
      "source": [
        "training_set = train_datagen.flow_from_directory(trainPath,target_size = (224,224),batch_size =10,class_mode= 'categorical')\n",
        "\n",
        "test_set = test_datagen.flow_from_directory(testPath, target_size = (224,224),batch_size = 10,class_mode = 'categorical')"
      ],
      "metadata": {
        "colab": {
          "base_uri": "https://localhost:8080/"
        },
        "id": "B0Vn_RxRunvx",
        "outputId": "47f86132-3fdd-4dcf-b742-9f318bc3121d"
      },
      "execution_count": 8,
      "outputs": [
        {
          "output_type": "stream",
          "name": "stdout",
          "text": [
            "Found 979 images belonging to 3 classes.\n",
            "Found 171 images belonging to 3 classes.\n"
          ]
        }
      ]
    }
  ]
}