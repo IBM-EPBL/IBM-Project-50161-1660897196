{
  "nbformat": 4,
  "nbformat_minor": 0,
  "metadata": {
    "colab": {
      "provenance": [],
      "collapsed_sections": []
    },
    "kernelspec": {
      "name": "python3",
      "display_name": "Python 3"
    },
    "language_info": {
      "name": "python"
    }
  },
  "cells": [
    {
      "cell_type": "markdown",
      "source": [
        "Load dataset"
      ],
      "metadata": {
        "id": "-Z7c83zQMy-A"
      }
    },
    {
      "cell_type": "code",
      "source": [
        "from google.colab import drive\n",
        "drive.mount('/content/drive')"
      ],
      "metadata": {
        "colab": {
          "base_uri": "https://localhost:8080/"
        },
        "id": "wFRdPDivMtYP",
        "outputId": "8c295ea7-8aff-470d-d8ca-4c3695310fcb"
      },
      "execution_count": null,
      "outputs": [
        {
          "output_type": "stream",
          "name": "stdout",
          "text": [
            "Drive already mounted at /content/drive; to attempt to forcibly remount, call drive.mount(\"/content/drive\", force_remount=True).\n"
          ]
        }
      ]
    },
    {
      "cell_type": "code",
      "source": [
        "cd//content/drive/MyDrive/Assignment 3/Flowers-Dataset"
      ],
      "metadata": {
        "colab": {
          "base_uri": "https://localhost:8080/"
        },
        "id": "axL6WL2ZNfAZ",
        "outputId": "8f0e9e18-c325-4edf-a78d-fde4a15f541c"
      },
      "execution_count": null,
      "outputs": [
        {
          "output_type": "stream",
          "name": "stdout",
          "text": [
            "/content/drive/MyDrive/Assignment 3/Flowers-Dataset\n"
          ]
        }
      ]
    },
    {
      "cell_type": "code",
      "source": [
        "pwd"
      ],
      "metadata": {
        "colab": {
          "base_uri": "https://localhost:8080/",
          "height": 36
        },
        "id": "DnLhpmqrPOHJ",
        "outputId": "0674dca7-0c5c-4626-b0a3-87b73ddeed56"
      },
      "execution_count": null,
      "outputs": [
        {
          "output_type": "execute_result",
          "data": {
            "text/plain": [
              "'/content/drive/MyDrive/Assignment 3/Flowers-Dataset'"
            ],
            "application/vnd.google.colaboratory.intrinsic+json": {
              "type": "string"
            }
          },
          "metadata": {},
          "execution_count": 3
        }
      ]
    },
    {
      "cell_type": "markdown",
      "source": [
        "2.Image Augmentation"
      ],
      "metadata": {
        "id": "gQM6dBsoPt12"
      }
    },
    {
      "cell_type": "code",
      "source": [
        "from tensorflow.keras.preprocessing.image import ImageDataGenerator"
      ],
      "metadata": {
        "id": "Mybq-unkP0zQ"
      },
      "execution_count": null,
      "outputs": []
    },
    {
      "cell_type": "code",
      "source": [
        "train_datagen = ImageDataGenerator(rescale = 1./255,zoom_range=0.2,horizontal_flip=True,vertical_flip=False)"
      ],
      "metadata": {
        "id": "zdX1aboeP9JF"
      },
      "execution_count": null,
      "outputs": []
    },
    {
      "cell_type": "code",
      "source": [
        "test_datagen = ImageDataGenerator(rescale=1./255)"
      ],
      "metadata": {
        "id": "WjXONDbtQWhC"
      },
      "execution_count": null,
      "outputs": []
    },
    {
      "cell_type": "code",
      "source": [
        "xtrain = train_datagen.flow_from_directory('/content/drive/MyDrive/Assignment 3/Flowers-Dataset',target_size=(76,76),class_mode='categorical',batch_size=100)"
      ],
      "metadata": {
        "colab": {
          "base_uri": "https://localhost:8080/"
        },
        "id": "5GoU-XfNQe36",
        "outputId": "83e36e00-9a99-4ac5-9cc8-61b5a1f2d037"
      },
      "execution_count": null,
      "outputs": [
        {
          "output_type": "stream",
          "name": "stdout",
          "text": [
            "Found 4353 images belonging to 1 classes.\n"
          ]
        }
      ]
    },
    {
      "cell_type": "code",
      "source": [
        "xtest = test_datagen.flow_from_directory('/content/drive/MyDrive/Assignment 3/Flowers-Dataset',target_size=(76,76),class_mode='categorical',batch_size=100)"
      ],
      "metadata": {
        "colab": {
          "base_uri": "https://localhost:8080/"
        },
        "id": "JhBF9USTR5hS",
        "outputId": "a6149d21-d24f-45e4-ea31-4458ffe3233c"
      },
      "execution_count": null,
      "outputs": [
        {
          "output_type": "stream",
          "name": "stdout",
          "text": [
            "Found 4353 images belonging to 1 classes.\n"
          ]
        }
      ]
    },
    {
      "cell_type": "code",
      "source": [
        "xtrain.class_indices"
      ],
      "metadata": {
        "colab": {
          "base_uri": "https://localhost:8080/"
        },
        "id": "pYqAW5clSjvJ",
        "outputId": "247e5385-7a3e-4f6f-adb4-0ae759a24181"
      },
      "execution_count": null,
      "outputs": [
        {
          "output_type": "execute_result",
          "data": {
            "text/plain": [
              "{'flowers': 0}"
            ]
          },
          "metadata": {},
          "execution_count": 9
        }
      ]
    },
    {
      "cell_type": "markdown",
      "source": [
        "3.Create model\n"
      ],
      "metadata": {
        "id": "wczLXjNASq5t"
      }
    },
    {
      "cell_type": "code",
      "source": [
        "from tensorflow.keras.models import Sequential\n",
        "from tensorflow.keras.layers import Dense, Convolution2D,MaxPooling2D,Flatten, Dense"
      ],
      "metadata": {
        "id": "M6SSrVNtSnQJ"
      },
      "execution_count": null,
      "outputs": []
    },
    {
      "cell_type": "code",
      "source": [
        "model = Sequential()"
      ],
      "metadata": {
        "id": "tDwKtshETKUf"
      },
      "execution_count": null,
      "outputs": []
    },
    {
      "cell_type": "markdown",
      "source": [
        "4. Add layers (Convolution, MaxPooling,Flatten)"
      ],
      "metadata": {
        "id": "uAVPgryOTRSW"
      }
    },
    {
      "cell_type": "code",
      "source": [
        "model.add(Convolution2D(32,(3,3),input_shape = (76,76,3),activation='relu'))\n"
      ],
      "metadata": {
        "id": "g4e8jjf4TNWd"
      },
      "execution_count": null,
      "outputs": []
    },
    {
      "cell_type": "code",
      "source": [
        "model.add(MaxPooling2D(pool_size = (2,2)))"
      ],
      "metadata": {
        "id": "qXtPbJMvTvRY"
      },
      "execution_count": null,
      "outputs": []
    },
    {
      "cell_type": "code",
      "source": [
        "model.add(Flatten())"
      ],
      "metadata": {
        "id": "2R58hXvWT352"
      },
      "execution_count": null,
      "outputs": []
    },
    {
      "cell_type": "code",
      "source": [
        "33*(3*3*3+1)"
      ],
      "metadata": {
        "colab": {
          "base_uri": "https://localhost:8080/"
        },
        "id": "5dWvNwgyUIe0",
        "outputId": "b4f055c7-2ab2-447a-c6f0-0a41790ec7e5"
      },
      "execution_count": null,
      "outputs": [
        {
          "output_type": "execute_result",
          "data": {
            "text/plain": [
              "924"
            ]
          },
          "metadata": {},
          "execution_count": 16
        }
      ]
    },
    {
      "cell_type": "markdown",
      "source": [
        "Dense"
      ],
      "metadata": {
        "id": "5Hre9h1IUV0a"
      }
    },
    {
      "cell_type": "code",
      "source": [
        "model.add(Dense(300,activation='relu'))\n",
        "model.add(Dense(150,activation='relu'))"
      ],
      "metadata": {
        "id": "xcaxixvIUTWs"
      },
      "execution_count": null,
      "outputs": []
    },
    {
      "cell_type": "markdown",
      "source": [
        "Output Layers"
      ],
      "metadata": {
        "id": "btUf7o6SUoxR"
      }
    },
    {
      "cell_type": "code",
      "source": [
        "model.add(Dense(4,activation='softmax'))"
      ],
      "metadata": {
        "id": "v-rBrelmUkgn"
      },
      "execution_count": null,
      "outputs": []
    },
    {
      "cell_type": "markdown",
      "source": [
        "5.Comile the model"
      ],
      "metadata": {
        "id": "pAP_bZk5U6PV"
      }
    },
    {
      "cell_type": "code",
      "source": [
        "model.compile(loss='categorical_crossentropy',metrics=['accuracy'],optimizer='adam')"
      ],
      "metadata": {
        "id": "wi4rG3anU2QL"
      },
      "execution_count": null,
      "outputs": []
    },
    {
      "cell_type": "code",
      "source": [
        "len(xtrain)"
      ],
      "metadata": {
        "colab": {
          "base_uri": "https://localhost:8080/"
        },
        "id": "ErhZLpmSVPGw",
        "outputId": "2bcb96ca-cfa7-4bdb-9283-a865a10b2562"
      },
      "execution_count": null,
      "outputs": [
        {
          "output_type": "execute_result",
          "data": {
            "text/plain": [
              "44"
            ]
          },
          "metadata": {},
          "execution_count": 20
        }
      ]
    },
    {
      "cell_type": "code",
      "source": [
        "4353/24\n"
      ],
      "metadata": {
        "colab": {
          "base_uri": "https://localhost:8080/"
        },
        "id": "DUBrh78YVRhq",
        "outputId": "0d442790-bf13-454e-933f-b0e307339564"
      },
      "execution_count": null,
      "outputs": [
        {
          "output_type": "execute_result",
          "data": {
            "text/plain": [
              "181.375"
            ]
          },
          "metadata": {},
          "execution_count": 21
        }
      ]
    },
    {
      "cell_type": "markdown",
      "source": [
        "6.Fit the Model"
      ],
      "metadata": {
        "id": "qhb4eN6pVare"
      }
    },
    {
      "cell_type": "code",
      "source": [
        "model.fit(xtrain,epochs = 2, validation_data= xtest,steps_per_epoch= len(xtrain),validation_steps= len(xtest))"
      ],
      "metadata": {
        "colab": {
          "base_uri": "https://localhost:8080/"
        },
        "id": "li0B40KZVfUc",
        "outputId": "41371847-f4f6-4170-9ff3-f6e8dc4d9a28"
      },
      "execution_count": null,
      "outputs": [
        {
          "output_type": "stream",
          "name": "stdout",
          "text": [
            "Epoch 1/2\n",
            "44/44 [==============================] - 70s 2s/step - loss: 22237.3535 - accuracy: 0.2649 - val_loss: 50014.6562 - val_accuracy: 0.0000e+00\n",
            "Epoch 2/2\n",
            "44/44 [==============================] - 67s 2s/step - loss: 76285.5703 - accuracy: 0.2419 - val_loss: 119170.0703 - val_accuracy: 0.0000e+00\n"
          ]
        },
        {
          "output_type": "execute_result",
          "data": {
            "text/plain": [
              "<keras.callbacks.History at 0x7f65dd4396d0>"
            ]
          },
          "metadata": {},
          "execution_count": 23
        }
      ]
    },
    {
      "cell_type": "markdown",
      "source": [
        "7. Save the Model"
      ],
      "metadata": {
        "id": "F2wgRTmSpWgU"
      }
    },
    {
      "cell_type": "code",
      "source": [
        "model.save('flowers.h5')"
      ],
      "metadata": {
        "id": "M35e9CJBpahX"
      },
      "execution_count": null,
      "outputs": []
    },
    {
      "cell_type": "markdown",
      "source": [
        "8.Test the Model"
      ],
      "metadata": {
        "id": "J84tZO6SpxjK"
      }
    },
    {
      "cell_type": "code",
      "source": [
        "import numpy as np\n",
        "from tensorflow.keras.models import load_model\n",
        "from tensorflow.keras.preprocessing import image"
      ],
      "metadata": {
        "id": "nfN2ysB_poz_"
      },
      "execution_count": null,
      "outputs": []
    },
    {
      "cell_type": "markdown",
      "source": [
        "Testing 1\n"
      ],
      "metadata": {
        "id": "-6TOey5m7WaF"
      }
    },
    {
      "cell_type": "code",
      "source": [
        "img=image.load_img('/content/drive/MyDrive/Assignment 3/Flowers-Dataset/flowers/daisy/5794835_d15905c7c8_n.jpg')"
      ],
      "metadata": {
        "id": "pq3puk289MwA"
      },
      "execution_count": null,
      "outputs": []
    },
    {
      "cell_type": "code",
      "source": [
        "img=image.load_img('/content/drive/MyDrive/Assignment 3/Flowers-Dataset/flowers/daisy/5794835_d15905c7c8_n.jpg', target_size=(76,76))\n",
        "img"
      ],
      "metadata": {
        "id": "3OJlKeg8-9Cw",
        "colab": {
          "base_uri": "https://localhost:8080/",
          "height": 93
        },
        "outputId": "e4ed3ed3-36a1-4e3a-eb40-e4f600191284"
      },
      "execution_count": null,
      "outputs": [
        {
          "output_type": "execute_result",
          "data": {
            "text/plain": [
              "<PIL.Image.Image image mode=RGB size=76x76 at 0x7F65E0BA1410>"
            ],
            "image/png": "[encoded data removed]"
          },
          "metadata": {},
          "execution_count": 34
        }
      ]
    },
    {
      "cell_type": "code",
      "source": [
        "x = image.img_to_array(img)\n",
        "x"
      ],
      "metadata": {
        "colab": {
          "base_uri": "https://localhost:8080/"
        },
        "id": "8IsW5r2A5c1D",
        "outputId": "d27fb02a-b869-48df-dcfd-5cdfc06e52f7"
      },
      "execution_count": null,
      "outputs": [
        {
          "output_type": "execute_result",
          "data": {
            "text/plain": [
              "array([[[ 75.,  89.,  36.],\n",
              "        [ 78.,  93.,  38.],\n",
              "        [ 77.,  92.,  35.],\n",
              "        ...,\n",
              "        [ 91.,  93.,  53.],\n",
              "        [ 89.,  90.,  50.],\n",
              "        [ 80.,  91.,  48.]],\n",
              "\n",
              "       [[ 76.,  91.,  34.],\n",
              "        [ 79.,  94.,  35.],\n",
              "        [ 79.,  94.,  37.],\n",
              "        ...,\n",
              "        [105., 100.,  60.],\n",
              "        [ 99.,  96.,  55.],\n",
              "        [ 87.,  92.,  51.]],\n",
              "\n",
              "       [[ 78.,  93.,  38.],\n",
              "        [ 80.,  95.,  38.],\n",
              "        [ 82.,  97.,  38.],\n",
              "        ...,\n",
              "        [111., 106.,  64.],\n",
              "        [107., 102.,  60.],\n",
              "        [ 95.,  93.,  54.]],\n",
              "\n",
              "       ...,\n",
              "\n",
              "       [[128., 119., 110.],\n",
              "        [130., 126., 114.],\n",
              "        [133., 129., 117.],\n",
              "        ...,\n",
              "        [ 92., 121.,  57.],\n",
              "        [ 91., 117.,  56.],\n",
              "        [101., 111.,  61.]],\n",
              "\n",
              "       [[134., 128., 116.],\n",
              "        [139., 136., 121.],\n",
              "        [143., 137., 125.],\n",
              "        ...,\n",
              "        [ 74., 105.,  45.],\n",
              "        [ 77., 102.,  47.],\n",
              "        [ 86.,  98.,  52.]],\n",
              "\n",
              "       [[142., 133., 124.],\n",
              "        [145., 137., 126.],\n",
              "        [146., 140., 128.],\n",
              "        ...,\n",
              "        [ 65.,  96.,  39.],\n",
              "        [ 72.,  96.,  48.],\n",
              "        [ 77.,  90.,  47.]]], dtype=float32)"
            ]
          },
          "metadata": {},
          "execution_count": 35
        }
      ]
    },
    {
      "cell_type": "code",
      "source": [
        "x = np.expand_dims(x,axis = 0)\n",
        "pred = np.argmax(model.predict(x))\n",
        "pred"
      ],
      "metadata": {
        "colab": {
          "base_uri": "https://localhost:8080/"
        },
        "id": "PD_UDvNc5y3F",
        "outputId": "1f2e2bfb-5201-498a-cd2a-5dc268dfc9cb"
      },
      "execution_count": null,
      "outputs": [
        {
          "output_type": "stream",
          "name": "stdout",
          "text": [
            "1/1 [==============================] - 0s 141ms/step\n"
          ]
        },
        {
          "output_type": "execute_result",
          "data": {
            "text/plain": [
              "1"
            ]
          },
          "metadata": {},
          "execution_count": 36
        }
      ]
    },
    {
      "cell_type": "code",
      "source": [
        "op = ['daisy','dandelion','rose','sunflower','tulip']\n",
        "op[pred]"
      ],
      "metadata": {
        "colab": {
          "base_uri": "https://localhost:8080/",
          "height": 36
        },
        "id": "GTQ9-frn6EuR",
        "outputId": "7a19655f-a580-46a7-bdec-198e4089129f"
      },
      "execution_count": null,
      "outputs": [
        {
          "output_type": "execute_result",
          "data": {
            "text/plain": [
              "'dandelion'"
            ],
            "application/vnd.google.colaboratory.intrinsic+json": {
              "type": "string"
            }
          },
          "metadata": {},
          "execution_count": 38
        }
      ]
    },
    {
      "cell_type": "markdown",
      "source": [
        "Testing 2"
      ],
      "metadata": {
        "id": "dPyIhm8F7Q3L"
      }
    },
    {
      "cell_type": "code",
      "source": [
        "img = image.load_img('/content/drive/MyDrive/Assignment 3/Flowers-Dataset/flowers/sunflower/45045005_57354ee844.jpg',target_size=(76,76))\n",
        "img"
      ],
      "metadata": {
        "colab": {
          "base_uri": "https://localhost:8080/",
          "height": 93
        },
        "id": "yddcIrwA6UDN",
        "outputId": "0bdd3b2e-fcc8-4d7e-fc7a-a7844eb78613"
      },
      "execution_count": null,
      "outputs": [
        {
          "output_type": "execute_result",
          "data": {
            "text/plain": [
              "<PIL.Image.Image image mode=RGB size=76x76 at 0x7F65E0C7BF10>"
            ],
            "image/png": "[encoded data removed]"
          },
          "metadata": {},
          "execution_count": 39
        }
      ]
    },
    {
      "cell_type": "code",
      "source": [
        "x = image.img_to_array(img)\n",
        "x"
      ],
      "metadata": {
        "colab": {
          "base_uri": "https://localhost:8080/"
        },
        "id": "oBe5AKTB7PHA",
        "outputId": "b554fa00-1acb-4921-98da-9fab2569eec7"
      },
      "execution_count": null,
      "outputs": [
        {
          "output_type": "execute_result",
          "data": {
            "text/plain": [
              "array([[[ 30.,  65., 129.],\n",
              "        [ 30.,  70., 132.],\n",
              "        [ 31.,  72., 134.],\n",
              "        ...,\n",
              "        [ 41.,  84., 153.],\n",
              "        [ 43.,  83., 153.],\n",
              "        [ 39.,  79., 149.]],\n",
              "\n",
              "       [[ 34.,  69., 133.],\n",
              "        [ 31.,  72., 136.],\n",
              "        [ 33.,  77., 140.],\n",
              "        ...,\n",
              "        [ 41.,  88., 156.],\n",
              "        [ 41.,  86., 154.],\n",
              "        [ 41.,  84., 152.]],\n",
              "\n",
              "       [[ 32.,  76., 139.],\n",
              "        [ 33.,  74., 140.],\n",
              "        [ 35.,  81., 143.],\n",
              "        ...,\n",
              "        [ 43.,  90., 160.],\n",
              "        [ 43.,  87., 160.],\n",
              "        [ 43.,  86., 155.]],\n",
              "\n",
              "       ...,\n",
              "\n",
              "       [[ 74.,  77.,  32.],\n",
              "        [ 63.,  70.,  29.],\n",
              "        [ 71.,  78.,  36.],\n",
              "        ...,\n",
              "        [ 91., 119.,  68.],\n",
              "        [ 64.,  80.,  33.],\n",
              "        [ 71.,  90.,  35.]],\n",
              "\n",
              "       [[ 90.,  87.,  46.],\n",
              "        [ 59.,  63.,  26.],\n",
              "        [ 49.,  64.,  33.],\n",
              "        ...,\n",
              "        [  0.,  17.,   1.],\n",
              "        [ 76.,  84.,  45.],\n",
              "        [ 81.,  87.,  39.]],\n",
              "\n",
              "       [[ 55.,  61.,  25.],\n",
              "        [ 76.,  72.,  35.],\n",
              "        [105.,  99.,  49.],\n",
              "        ...,\n",
              "        [172., 175., 156.],\n",
              "        [ 61.,  43.,  31.],\n",
              "        [ 88.,  82.,  46.]]], dtype=float32)"
            ]
          },
          "metadata": {},
          "execution_count": 40
        }
      ]
    },
    {
      "cell_type": "code",
      "source": [
        "x = np.expand_dims(x,axis = 0)"
      ],
      "metadata": {
        "id": "YogT7ywz7f0V"
      },
      "execution_count": null,
      "outputs": []
    },
    {
      "cell_type": "code",
      "source": [
        "pred = np.argmax(model.predict(x))\n",
        "pred"
      ],
      "metadata": {
        "colab": {
          "base_uri": "https://localhost:8080/"
        },
        "id": "rgrtzmC_7mJt",
        "outputId": "6e9f9a7c-0b54-4389-e30a-07f6db46c22e"
      },
      "execution_count": null,
      "outputs": [
        {
          "output_type": "stream",
          "name": "stdout",
          "text": [
            "1/1 [==============================] - 0s 32ms/step\n"
          ]
        },
        {
          "output_type": "execute_result",
          "data": {
            "text/plain": [
              "1"
            ]
          },
          "metadata": {},
          "execution_count": 42
        }
      ]
    },
    {
      "cell_type": "code",
      "source": [
        "op = ['daisy','dandelion','rose','sunflower','tulip']\n",
        "op[pred]"
      ],
      "metadata": {
        "colab": {
          "base_uri": "https://localhost:8080/",
          "height": 36
        },
        "id": "iGMRLZuI7shw",
        "outputId": "bb4eb4d0-02ca-45d2-d9fb-a57784a7f97b"
      },
      "execution_count": null,
      "outputs": [
        {
          "output_type": "execute_result",
          "data": {
            "text/plain": [
              "'dandelion'"
            ],
            "application/vnd.google.colaboratory.intrinsic+json": {
              "type": "string"
            }
          },
          "metadata": {},
          "execution_count": 45
        }
      ]
    }
  ]
}